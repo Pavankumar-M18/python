{
 "cells": [
  {
   "cell_type": "markdown",
   "id": "1e376116-43a2-4ce9-843f-c6c6d76a871f",
   "metadata": {},
   "source": [
    "# CONDITIONAL STATEMENTS IN PYTHON"
   ]
  },
  {
   "cell_type": "markdown",
   "id": "491e6aa9-19c7-4843-bee8-7fa0d2e5e20c",
   "metadata": {},
   "source": [
    "# if - condition"
   ]
  },
  {
   "cell_type": "code",
   "execution_count": 3,
   "id": "8ac2c772-4933-4442-9d65-f17240a46655",
   "metadata": {},
   "outputs": [
    {
     "name": "stdout",
     "output_type": "stream",
     "text": [
      "Adult\n"
     ]
    }
   ],
   "source": [
    "age = 20\n",
    "if age >= 18:\n",
    "    print(\"Adult\")\n"
   ]
  },
  {
   "cell_type": "code",
   "execution_count": 62,
   "id": "a31f78a1-bb28-43e9-9b25-662c06cd5ff5",
   "metadata": {},
   "outputs": [
    {
     "ename": "IndentationError",
     "evalue": "expected an indented block after 'if' statement on line 4 (339334373.py, line 5)",
     "output_type": "error",
     "traceback": [
      "\u001b[1;36m  Cell \u001b[1;32mIn[62], line 5\u001b[1;36m\u001b[0m\n\u001b[1;33m    print('a is greater than b')\u001b[0m\n\u001b[1;37m    ^\u001b[0m\n\u001b[1;31mIndentationError\u001b[0m\u001b[1;31m:\u001b[0m expected an indented block after 'if' statement on line 4\n"
     ]
    }
   ],
   "source": [
    "# Python relies on indentation (whitespace at the beginning of a line) to define scope in the code.If statement, without indentation (will raise an error)               \n",
    "a = 10\n",
    "b = 5\n",
    "if a>b:\n",
    "print('a is greater than b')"
   ]
  },
  {
   "cell_type": "code",
   "execution_count": 13,
   "id": "72e446a9-d6c1-49da-a7e9-facb7c7350de",
   "metadata": {},
   "outputs": [
    {
     "name": "stdout",
     "output_type": "stream",
     "text": [
      "data science\n"
     ]
    }
   ],
   "source": [
    "if True:                               # if the condition true the data will print\n",
    "    print('data science')"
   ]
  },
  {
   "cell_type": "code",
   "execution_count": 15,
   "id": "6a718ab5-3d99-441e-9147-fcc7b2773651",
   "metadata": {},
   "outputs": [],
   "source": [
    "if False:                              # if the condition is false it will block the code\n",
    "    print('data science')"
   ]
  },
  {
   "cell_type": "code",
   "execution_count": 19,
   "id": "c4286310-fa2b-46ed-9f44-40ad9577c9af",
   "metadata": {},
   "outputs": [
    {
     "name": "stdout",
     "output_type": "stream",
     "text": [
      "hello\n"
     ]
    }
   ],
   "source": [
    "if False:\n",
    "    print('Hi')\n",
    "print('hello')"
   ]
  },
  {
   "cell_type": "code",
   "execution_count": 21,
   "id": "5505742c-a2bf-4b71-a49e-29d5f7d9c3f7",
   "metadata": {},
   "outputs": [
    {
     "name": "stdout",
     "output_type": "stream",
     "text": [
      "Hi\n",
      "Hello\n"
     ]
    }
   ],
   "source": [
    "if True:\n",
    "    print('Hi')\n",
    "print('Hello')"
   ]
  },
  {
   "cell_type": "code",
   "execution_count": 23,
   "id": "7c838f33-cc60-4405-a5d2-e82346041167",
   "metadata": {},
   "outputs": [
    {
     "name": "stdout",
     "output_type": "stream",
     "text": [
      "10\n"
     ]
    }
   ],
   "source": [
    "a = 10\n",
    "b = 5\n",
    "if a >= b:\n",
    "    print(a)"
   ]
  },
  {
   "cell_type": "code",
   "execution_count": 29,
   "id": "fe841871-3716-4f57-980f-020816957d5f",
   "metadata": {},
   "outputs": [],
   "source": [
    "a = 10                          \n",
    "b = 5\n",
    "if a <= b:\n",
    "    print(b)"
   ]
  },
  {
   "cell_type": "code",
   "execution_count": 31,
   "id": "1a42675d-34d9-4dcb-b4dd-f8d83a28cbf2",
   "metadata": {},
   "outputs": [
    {
     "name": "stdout",
     "output_type": "stream",
     "text": [
      "hii\n",
      "hello\n"
     ]
    }
   ],
   "source": [
    "a = 50\n",
    "if a>40:\n",
    "    print('hii')\n",
    "print('hello')"
   ]
  },
  {
   "cell_type": "code",
   "execution_count": 33,
   "id": "abc8f51a-fea3-421d-b2ed-8ee74a9188ea",
   "metadata": {},
   "outputs": [
    {
     "name": "stdout",
     "output_type": "stream",
     "text": [
      "hello\n"
     ]
    }
   ],
   "source": [
    "a = 50\n",
    "if a<40:\n",
    "    print('hii')\n",
    "print('hello')"
   ]
  },
  {
   "cell_type": "code",
   "execution_count": 38,
   "id": "777154ac-0c77-401c-8cd4-8aca3c357e0c",
   "metadata": {},
   "outputs": [
    {
     "name": "stdout",
     "output_type": "stream",
     "text": [
      "even number\n"
     ]
    }
   ],
   "source": [
    "x = 4\n",
    "r = 4%2\n",
    "if r==0:\n",
    "    print('even number')"
   ]
  },
  {
   "cell_type": "code",
   "execution_count": 40,
   "id": "a27f58f9-5650-4e03-9f14-d2f22d169ca9",
   "metadata": {},
   "outputs": [
    {
     "name": "stdout",
     "output_type": "stream",
     "text": [
      "odd number\n"
     ]
    }
   ],
   "source": [
    "x=5\n",
    "r=x%2\n",
    "if r==0:\n",
    "    print('even number')\n",
    "print('odd number')"
   ]
  },
  {
   "cell_type": "markdown",
   "id": "6cca7db0-f663-4d16-b16e-678cc92450b0",
   "metadata": {},
   "source": [
    "# if - else condition"
   ]
  },
  {
   "cell_type": "code",
   "execution_count": 46,
   "id": "c1d45679-b332-4491-9760-8b3bf099b8ee",
   "metadata": {},
   "outputs": [
    {
     "name": "stdout",
     "output_type": "stream",
     "text": [
      "yes\n"
     ]
    }
   ],
   "source": [
    "a = 20\n",
    "if a>10:\n",
    "    print('yes')\n",
    "else:\n",
    "    print('no')"
   ]
  },
  {
   "cell_type": "code",
   "execution_count": 48,
   "id": "560260b3-caaa-421c-8be2-ea1ee027d701",
   "metadata": {},
   "outputs": [
    {
     "name": "stdout",
     "output_type": "stream",
     "text": [
      "T\n"
     ]
    }
   ],
   "source": [
    "a=20\n",
    "if a<=20:\n",
    "    print('T')\n",
    "else:\n",
    "    print('F')"
   ]
  },
  {
   "cell_type": "code",
   "execution_count": 52,
   "id": "2cae90fb-4016-40c3-a26b-d4079070f589",
   "metadata": {},
   "outputs": [
    {
     "name": "stdout",
     "output_type": "stream",
     "text": [
      "even number\n"
     ]
    }
   ],
   "source": [
    "a = 20\n",
    "r = a%4\n",
    "if r==0:\n",
    "    print('even number')\n",
    "else:\n",
    "    print('odd number')"
   ]
  },
  {
   "cell_type": "code",
   "execution_count": 54,
   "id": "15610b40-ba20-4d56-9b76-2838a8174066",
   "metadata": {},
   "outputs": [
    {
     "name": "stdout",
     "output_type": "stream",
     "text": [
      "odd number\n"
     ]
    }
   ],
   "source": [
    "a = 13\n",
    "r = a%2\n",
    "if r==0:\n",
    "    print('even number')\n",
    "else:\n",
    "    print('odd number')"
   ]
  },
  {
   "cell_type": "code",
   "execution_count": 56,
   "id": "001f815f-3b45-4334-9a2c-f4a32bac65b4",
   "metadata": {},
   "outputs": [
    {
     "name": "stdin",
     "output_type": "stream",
     "text": [
      "enter a number 10\n"
     ]
    },
    {
     "name": "stdout",
     "output_type": "stream",
     "text": [
      "false\n"
     ]
    }
   ],
   "source": [
    "x=int(input('enter a number'))\n",
    "if x>10:\n",
    "    print('true')\n",
    "else:\n",
    "    print('false')"
   ]
  },
  {
   "cell_type": "code",
   "execution_count": 64,
   "id": "60a0bf40-e434-41ce-804b-951e4d3b6594",
   "metadata": {},
   "outputs": [
    {
     "name": "stdout",
     "output_type": "stream",
     "text": [
      "access granted\n"
     ]
    }
   ],
   "source": [
    "password = \"pavankumar\"\n",
    "if password == \"pavankumar\":\n",
    "    print('access granted')\n",
    "else:\n",
    "    print('access denied')"
   ]
  },
  {
   "cell_type": "markdown",
   "id": "145150ee-7a7c-4663-824b-d4fb3516d508",
   "metadata": {},
   "source": [
    "# if-elif-else"
   ]
  },
  {
   "cell_type": "code",
   "execution_count": 67,
   "id": "5b7782c3-0ca5-444d-96b0-f16a012c9a15",
   "metadata": {},
   "outputs": [
    {
     "name": "stdout",
     "output_type": "stream",
     "text": [
      "B grade\n"
     ]
    }
   ],
   "source": [
    "score = 85\n",
    "if score >= 90:\n",
    "    print('A grade')\n",
    "elif score >= 80:\n",
    "    print('B grade')\n",
    "elif score >= 70:\n",
    "    print('C grade')\n",
    "elif score >= 50:\n",
    "    print('D grade')\n",
    "else:\n",
    "    print('fail')"
   ]
  },
  {
   "cell_type": "code",
   "execution_count": 69,
   "id": "0eaacb7d-7cb0-402e-8e73-196d254c7115",
   "metadata": {},
   "outputs": [
    {
     "name": "stdout",
     "output_type": "stream",
     "text": [
      "fail\n"
     ]
    }
   ],
   "source": [
    "score = 40\n",
    "if score >= 90:\n",
    "    print('A grade')\n",
    "elif score >= 80:\n",
    "    print('B grade')\n",
    "elif score >= 70:\n",
    "    print('C grade')\n",
    "elif score >= 50:\n",
    "    print('D grade')\n",
    "else:\n",
    "    print('fail')"
   ]
  },
  {
   "cell_type": "code",
   "execution_count": 71,
   "id": "ac238fa2-9fa1-43ae-bd87-30dcd27bc975",
   "metadata": {},
   "outputs": [
    {
     "name": "stdout",
     "output_type": "stream",
     "text": [
      "adult\n"
     ]
    }
   ],
   "source": [
    "age = 45\n",
    "if age<15:\n",
    "    print('child')\n",
    "elif age < 22:\n",
    "    print('teenage')\n",
    "elif age < 50:\n",
    "    print('adult')\n",
    "else:\n",
    "    print('senior')"
   ]
  },
  {
   "cell_type": "code",
   "execution_count": 73,
   "id": "1815b994-5107-4810-a016-b0a8e88ce525",
   "metadata": {},
   "outputs": [
    {
     "name": "stdout",
     "output_type": "stream",
     "text": [
      "old\n"
     ]
    }
   ],
   "source": [
    "age = 90\n",
    "if age < 13:\n",
    "    print('child')\n",
    "elif age < 21:\n",
    "    print('teenage')\n",
    "elif age < 50:\n",
    "    print('adult')\n",
    "else:\n",
    "    print('old')"
   ]
  },
  {
   "cell_type": "code",
   "execution_count": 75,
   "id": "7dd3cdcd-d5d7-4d92-b832-14c55f89bce4",
   "metadata": {},
   "outputs": [
    {
     "name": "stdout",
     "output_type": "stream",
     "text": [
      "28 or 29 days\n"
     ]
    }
   ],
   "source": [
    "month = 2\n",
    "if month == 1 or month == 3 or month == 5 or month == 7 or month == 8 or month == 10 or month == 12:\n",
    "    print('31 days')\n",
    "elif month == 4 or month == 6 or month == 9 or month == 11:\n",
    "    print('30 days')\n",
    "elif month == 2:\n",
    "    print('28 or 29 days')\n",
    "else:\n",
    "    print('invallid')"
   ]
  },
  {
   "cell_type": "code",
   "execution_count": 77,
   "id": "1eb08287-a3dc-4331-9396-ab19b7a86d0a",
   "metadata": {},
   "outputs": [
    {
     "name": "stdout",
     "output_type": "stream",
     "text": [
      "the largest number is 20\n"
     ]
    }
   ],
   "source": [
    "a = 15\n",
    "b = 20\n",
    "c = 10\n",
    "if a >= b and a >= c:\n",
    "    print(f\"the largest number is {a}\")\n",
    "elif b >= a and b >= c:\n",
    "    print(f\"the largest number is {b}\")\n",
    "else:\n",
    "    print(f\"c is the largest number\")"
   ]
  },
  {
   "cell_type": "code",
   "execution_count": 79,
   "id": "ce506c66-ea4b-4567-92ad-3a4ccecdf3fa",
   "metadata": {},
   "outputs": [
    {
     "name": "stdout",
     "output_type": "stream",
     "text": [
      "negative\n"
     ]
    }
   ],
   "source": [
    "num = -5\n",
    "if num > 0:\n",
    "    print('positive')\n",
    "elif num < 0:\n",
    "    print('negative')\n",
    "else:\n",
    "    print('zero')"
   ]
  },
  {
   "cell_type": "code",
   "execution_count": 81,
   "id": "87531b48-6e24-4052-a90d-1c03abb12674",
   "metadata": {},
   "outputs": [
    {
     "name": "stdout",
     "output_type": "stream",
     "text": [
      "zero\n"
     ]
    }
   ],
   "source": [
    "num = 0\n",
    "if num > 0:\n",
    "    print('positive')\n",
    "elif num < 0:\n",
    "    print('negative')\n",
    "else:\n",
    "    print('zero')"
   ]
  },
  {
   "cell_type": "code",
   "execution_count": 83,
   "id": "ffc45672-0c3c-477c-b797-1de9ddba767e",
   "metadata": {},
   "outputs": [
    {
     "name": "stdout",
     "output_type": "stream",
     "text": [
      "Isosceles triangle\n"
     ]
    }
   ],
   "source": [
    "a = 5\n",
    "b = 5\n",
    "c = 8\n",
    "if a == b == c:\n",
    "    print(\"equilateral triangle\")\n",
    "elif a == b or b == c or a == c:\n",
    "    print(\"Isosceles triangle\")\n",
    "else:\n",
    "    print(\"Scalene triangle\")"
   ]
  },
  {
   "cell_type": "code",
   "execution_count": 85,
   "id": "5cc2bac1-fb97-4362-9ac3-a7a77214ac07",
   "metadata": {},
   "outputs": [
    {
     "name": "stdout",
     "output_type": "stream",
     "text": [
      "num is divisible by both 2 and 3 \n"
     ]
    }
   ],
   "source": [
    "num = 18\n",
    "if num % 2 == 0 and num % 3 == 0:\n",
    "    print(\"num is divisible by both 2 and 3 \")\n",
    "elif num % 2 == 0:\n",
    "    print(\"num is divisible by 2\")\n",
    "elif num % 3 == 0:\n",
    "    print(\"num is divisible by 3\")\n",
    "else:\n",
    "    print(\"num is not divisible by both\")"
   ]
  },
  {
   "cell_type": "code",
   "execution_count": 88,
   "id": "7fef4643-d0dc-4773-a339-488f1f8ef7fb",
   "metadata": {},
   "outputs": [
    {
     "name": "stdout",
     "output_type": "stream",
     "text": [
      "It's hot!\n"
     ]
    }
   ],
   "source": [
    "temperature = 30\n",
    "\n",
    "if temperature < 0:\n",
    "    print(\"It's freezing!\")\n",
    "elif temperature < 10:\n",
    "    print(\"It's cold!\")\n",
    "elif temperature < 20:\n",
    "    print(\"It's cool!\")\n",
    "elif temperature < 30:\n",
    "    print(\"It's warm!\")\n",
    "else:\n",
    "    print(\"It's hot!\")"
   ]
  },
  {
   "cell_type": "code",
   "execution_count": 90,
   "id": "0ecbca78-8718-4021-a65e-9273523d23ad",
   "metadata": {},
   "outputs": [
    {
     "name": "stdout",
     "output_type": "stream",
     "text": [
      "Get ready!\n"
     ]
    }
   ],
   "source": [
    "light_color = \"yellow\"\n",
    "\n",
    "if light_color == \"red\":\n",
    "    print(\"Stop!\")\n",
    "elif light_color == \"yellow\":\n",
    "    print(\"Get ready!\")\n",
    "elif light_color == \"green\":\n",
    "    print(\"Go!\")\n",
    "else:\n",
    "    print(\"Invalid color!\")"
   ]
  },
  {
   "cell_type": "markdown",
   "id": "9dc48b98-fc84-4a73-97ff-eca4ef02730c",
   "metadata": {},
   "source": [
    "# nested-if"
   ]
  },
  {
   "cell_type": "code",
   "execution_count": 94,
   "id": "76913190-c092-48fc-8eee-4870bec52c2a",
   "metadata": {},
   "outputs": [
    {
     "name": "stdout",
     "output_type": "stream",
     "text": [
      "9 is smaller than 10\n"
     ]
    }
   ],
   "source": [
    "a = 9\n",
    "if a<10:\n",
    "    print(f\"{a} is smaller than 10\")\n",
    "if a>10:\n",
    "    print(f\"{a} is greater than 10\")"
   ]
  },
  {
   "cell_type": "code",
   "execution_count": 96,
   "id": "5097709e-941c-4b95-a071-051c62ba540f",
   "metadata": {},
   "outputs": [
    {
     "name": "stdout",
     "output_type": "stream",
     "text": [
      "even number\n"
     ]
    }
   ],
   "source": [
    "x=6\n",
    "r=x%2\n",
    "if r==0:\n",
    "    print('even number')\n",
    "if r==1:\n",
    "    print('odd number')"
   ]
  },
  {
   "cell_type": "code",
   "execution_count": 98,
   "id": "f7cc2804-e782-4b8c-8879-560a202d8c1b",
   "metadata": {},
   "outputs": [
    {
     "name": "stdout",
     "output_type": "stream",
     "text": [
      "odd number\n"
     ]
    }
   ],
   "source": [
    "a = 21\n",
    "b = a%2\n",
    "if b==0:\n",
    "    print('even number')\n",
    "if b == 1:\n",
    "    print('odd number')"
   ]
  },
  {
   "cell_type": "code",
   "execution_count": 100,
   "id": "80d6e512-6d65-4cbe-8b90-494e1f63d9bf",
   "metadata": {},
   "outputs": [
    {
     "name": "stdout",
     "output_type": "stream",
     "text": [
      "both 2 and 3 are divisible of 30\n"
     ]
    }
   ],
   "source": [
    "num = 30\n",
    "if num%2 == 0:\n",
    "    if num%3 == 0:\n",
    "        print(f\"both 2 and 3 are divisible of {num}\")\n",
    "    else:\n",
    "        print('num is not divisible 2 but 3')\n",
    "else:\n",
    "    print('both are not divisible')"
   ]
  },
  {
   "cell_type": "code",
   "execution_count": 102,
   "id": "19b2824b-d11d-48d7-9992-8e4b2c9cd192",
   "metadata": {},
   "outputs": [
    {
     "name": "stdout",
     "output_type": "stream",
     "text": [
      "both are not divisible\n"
     ]
    }
   ],
   "source": [
    "num = 31\n",
    "if num%2 == 0:\n",
    "    if num%3 == 0:\n",
    "        print(f\"both 2 and 3 are divisible of {num}\")\n",
    "    else:\n",
    "        print('num is not divisible 2 but 3')\n",
    "else:\n",
    "    print('both are not divisible')"
   ]
  },
  {
   "cell_type": "code",
   "execution_count": null,
   "id": "e182c412-edf5-4950-8980-dc6b6057dcc6",
   "metadata": {},
   "outputs": [],
   "source": []
  }
 ],
 "metadata": {
  "kernelspec": {
   "display_name": "Python 3 (ipykernel)",
   "language": "python",
   "name": "python3"
  },
  "language_info": {
   "codemirror_mode": {
    "name": "ipython",
    "version": 3
   },
   "file_extension": ".py",
   "mimetype": "text/x-python",
   "name": "python",
   "nbconvert_exporter": "python",
   "pygments_lexer": "ipython3",
   "version": "3.12.7"
  }
 },
 "nbformat": 4,
 "nbformat_minor": 5
}
