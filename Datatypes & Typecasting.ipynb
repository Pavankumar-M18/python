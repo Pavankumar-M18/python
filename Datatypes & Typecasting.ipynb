{
 "cells": [
  {
   "cell_type": "markdown",
   "id": "d18b970d-bd18-43e0-a8bb-da9034eb1caa",
   "metadata": {},
   "source": [
    "# Python data types & TypeCasting"
   ]
  },
  {
   "cell_type": "markdown",
   "id": "8a328526-147d-41e6-a3f2-47391d9f59fc",
   "metadata": {},
   "source": [
    "# Datatypes"
   ]
  },
  {
   "cell_type": "code",
   "execution_count": 2,
   "id": "143d6483-f744-4d11-84d3-b7d830416006",
   "metadata": {},
   "outputs": [
    {
     "data": {
      "text/plain": [
       "25"
      ]
     },
     "execution_count": 2,
     "metadata": {},
     "output_type": "execute_result"
    }
   ],
   "source": [
    "a = 25\n",
    "a"
   ]
  },
  {
   "cell_type": "code",
   "execution_count": 4,
   "id": "c2993c94-5feb-4159-afcf-13f52a58bfa0",
   "metadata": {},
   "outputs": [
    {
     "data": {
      "text/plain": [
       "int"
      ]
     },
     "execution_count": 4,
     "metadata": {},
     "output_type": "execute_result"
    }
   ],
   "source": [
    "type(a)"
   ]
  },
  {
   "cell_type": "code",
   "execution_count": 6,
   "id": "b466f086-2f5e-4d25-9ee0-85a7a627e591",
   "metadata": {},
   "outputs": [
    {
     "data": {
      "text/plain": [
       "21.5"
      ]
     },
     "execution_count": 6,
     "metadata": {},
     "output_type": "execute_result"
    }
   ],
   "source": [
    "b = 21.5\n",
    "b"
   ]
  },
  {
   "cell_type": "code",
   "execution_count": 8,
   "id": "3acd10e6-61a2-4b0f-920d-bd5615ca62e6",
   "metadata": {},
   "outputs": [
    {
     "data": {
      "text/plain": [
       "float"
      ]
     },
     "execution_count": 8,
     "metadata": {},
     "output_type": "execute_result"
    }
   ],
   "source": [
    "type(b)"
   ]
  },
  {
   "cell_type": "code",
   "execution_count": 10,
   "id": "7004bce8-34a3-458c-b345-ef9fd9ef920c",
   "metadata": {},
   "outputs": [
    {
     "data": {
      "text/plain": [
       "'pavan'"
      ]
     },
     "execution_count": 10,
     "metadata": {},
     "output_type": "execute_result"
    }
   ],
   "source": [
    "c = 'pavan'\n",
    "c"
   ]
  },
  {
   "cell_type": "code",
   "execution_count": 35,
   "id": "c6a006c7-a0f8-4cab-9047-6fb48c58b291",
   "metadata": {},
   "outputs": [
    {
     "data": {
      "text/plain": [
       "'10'"
      ]
     },
     "execution_count": 35,
     "metadata": {},
     "output_type": "execute_result"
    }
   ],
   "source": [
    "c1 = '10'\n",
    "c1"
   ]
  },
  {
   "cell_type": "code",
   "execution_count": 37,
   "id": "194b3539-4157-4a90-a6e2-f6f9f77c0dcb",
   "metadata": {},
   "outputs": [
    {
     "data": {
      "text/plain": [
       "str"
      ]
     },
     "execution_count": 37,
     "metadata": {},
     "output_type": "execute_result"
    }
   ],
   "source": [
    "type(c1)"
   ]
  },
  {
   "cell_type": "code",
   "execution_count": 12,
   "id": "8ad1a7f1-c7dc-4ffe-b566-28aa06345b9f",
   "metadata": {},
   "outputs": [
    {
     "data": {
      "text/plain": [
       "str"
      ]
     },
     "execution_count": 12,
     "metadata": {},
     "output_type": "execute_result"
    }
   ],
   "source": [
    "type(c)"
   ]
  },
  {
   "cell_type": "code",
   "execution_count": 14,
   "id": "801bbb92-e533-43c5-9df8-587eaf36fec4",
   "metadata": {},
   "outputs": [
    {
     "data": {
      "text/plain": [
       "True"
      ]
     },
     "execution_count": 14,
     "metadata": {},
     "output_type": "execute_result"
    }
   ],
   "source": [
    "d = True\n",
    "d"
   ]
  },
  {
   "cell_type": "code",
   "execution_count": 16,
   "id": "cf576dbd-5bdc-4c62-9ec1-2f8d5ce834a8",
   "metadata": {},
   "outputs": [
    {
     "data": {
      "text/plain": [
       "bool"
      ]
     },
     "execution_count": 16,
     "metadata": {},
     "output_type": "execute_result"
    }
   ],
   "source": [
    "type(d)"
   ]
  },
  {
   "cell_type": "code",
   "execution_count": 18,
   "id": "d22fac38-8818-4f49-916e-1755b0a402e0",
   "metadata": {},
   "outputs": [
    {
     "data": {
      "text/plain": [
       "False"
      ]
     },
     "execution_count": 18,
     "metadata": {},
     "output_type": "execute_result"
    }
   ],
   "source": [
    "d1 = False\n",
    "d1"
   ]
  },
  {
   "cell_type": "code",
   "execution_count": 20,
   "id": "1bbdf3b1-5414-438a-ab5f-637ea66e4bbb",
   "metadata": {},
   "outputs": [
    {
     "data": {
      "text/plain": [
       "bool"
      ]
     },
     "execution_count": 20,
     "metadata": {},
     "output_type": "execute_result"
    }
   ],
   "source": [
    "type(d1)"
   ]
  },
  {
   "cell_type": "code",
   "execution_count": 22,
   "id": "1b9fc75f-e4ca-474b-9650-9cb43e5608ef",
   "metadata": {},
   "outputs": [
    {
     "data": {
      "text/plain": [
       "(2+3j)"
      ]
     },
     "execution_count": 22,
     "metadata": {},
     "output_type": "execute_result"
    }
   ],
   "source": [
    "x = 2+3j\n",
    "x"
   ]
  },
  {
   "cell_type": "code",
   "execution_count": 24,
   "id": "0e678063-6d56-47b1-b946-542899c1f21b",
   "metadata": {},
   "outputs": [
    {
     "data": {
      "text/plain": [
       "complex"
      ]
     },
     "execution_count": 24,
     "metadata": {},
     "output_type": "execute_result"
    }
   ],
   "source": [
    "type(x)"
   ]
  },
  {
   "cell_type": "markdown",
   "id": "609a4ef1-bf64-496c-8b14-f950b945742a",
   "metadata": {},
   "source": [
    "# TypeCasting"
   ]
  },
  {
   "cell_type": "code",
   "execution_count": 33,
   "id": "6735d74e-6377-4103-93a0-29d5a8a3efc0",
   "metadata": {},
   "outputs": [
    {
     "data": {
      "text/plain": [
       "25.0"
      ]
     },
     "execution_count": 33,
     "metadata": {},
     "output_type": "execute_result"
    }
   ],
   "source": [
    "e = float(25)                        # int converted into float\n",
    "e"
   ]
  },
  {
   "cell_type": "code",
   "execution_count": 31,
   "id": "310e07eb-4871-4d9b-bbc3-7605141f70de",
   "metadata": {},
   "outputs": [
    {
     "data": {
      "text/plain": [
       "float"
      ]
     },
     "execution_count": 31,
     "metadata": {},
     "output_type": "execute_result"
    }
   ],
   "source": [
    "type(e)"
   ]
  },
  {
   "cell_type": "code",
   "execution_count": 47,
   "id": "6346fe7b-1517-451e-b0f6-81d2bd9d1a46",
   "metadata": {},
   "outputs": [
    {
     "data": {
      "text/plain": [
       "1.0"
      ]
     },
     "execution_count": 47,
     "metadata": {},
     "output_type": "execute_result"
    }
   ],
   "source": [
    "e1 = float(True)                              # bool converted into float\n",
    "e1"
   ]
  },
  {
   "cell_type": "code",
   "execution_count": 41,
   "id": "f029e394-2128-4c9a-8928-860d652b2a36",
   "metadata": {},
   "outputs": [
    {
     "data": {
      "text/plain": [
       "float"
      ]
     },
     "execution_count": 41,
     "metadata": {},
     "output_type": "execute_result"
    }
   ],
   "source": [
    "type(e1)"
   ]
  },
  {
   "cell_type": "code",
   "execution_count": 49,
   "id": "ab45010d-ce63-4e21-86e7-4878013510bf",
   "metadata": {},
   "outputs": [
    {
     "data": {
      "text/plain": [
       "0.0"
      ]
     },
     "execution_count": 49,
     "metadata": {},
     "output_type": "execute_result"
    }
   ],
   "source": [
    "e2 = float(False)                             # bool converted into float\n",
    "e2"
   ]
  },
  {
   "cell_type": "code",
   "execution_count": 45,
   "id": "043b6efa-996e-4ed5-acf2-23a762f24967",
   "metadata": {},
   "outputs": [
    {
     "data": {
      "text/plain": [
       "float"
      ]
     },
     "execution_count": 45,
     "metadata": {},
     "output_type": "execute_result"
    }
   ],
   "source": [
    "type(e2)"
   ]
  },
  {
   "cell_type": "code",
   "execution_count": 55,
   "id": "e37f2f4c-2153-43af-8c79-a20a57addefe",
   "metadata": {},
   "outputs": [
    {
     "data": {
      "text/plain": [
       "15.0"
      ]
     },
     "execution_count": 55,
     "metadata": {},
     "output_type": "execute_result"
    }
   ],
   "source": [
    "e3 = float('15')                                # string with numerical data converted in float\n",
    "e3"
   ]
  },
  {
   "cell_type": "code",
   "execution_count": 53,
   "id": "71a47bf5-a0b4-4705-9295-44ac780c225f",
   "metadata": {},
   "outputs": [
    {
     "data": {
      "text/plain": [
       "float"
      ]
     },
     "execution_count": 53,
     "metadata": {},
     "output_type": "execute_result"
    }
   ],
   "source": [
    "type(e3)"
   ]
  },
  {
   "cell_type": "code",
   "execution_count": 59,
   "id": "6610c531-0413-499a-b524-3f05ad90b59f",
   "metadata": {},
   "outputs": [
    {
     "ename": "ValueError",
     "evalue": "could not convert string to float: 'ten'",
     "output_type": "error",
     "traceback": [
      "\u001b[1;31m---------------------------------------------------------------------------\u001b[0m",
      "\u001b[1;31mValueError\u001b[0m                                Traceback (most recent call last)",
      "Cell \u001b[1;32mIn[59], line 1\u001b[0m\n\u001b[1;32m----> 1\u001b[0m e4 \u001b[38;5;241m=\u001b[39m \u001b[38;5;28mfloat\u001b[39m(\u001b[38;5;124m'\u001b[39m\u001b[38;5;124mten\u001b[39m\u001b[38;5;124m'\u001b[39m)                                \u001b[38;5;66;03m# we can't convert string with alphabets into a float\u001b[39;00m\n\u001b[0;32m      2\u001b[0m e4\n",
      "\u001b[1;31mValueError\u001b[0m: could not convert string to float: 'ten'"
     ]
    }
   ],
   "source": [
    "e4 = float('ten')                                # we can't convert string with alphabets into a float\n",
    "e4"
   ]
  },
  {
   "cell_type": "code",
   "execution_count": 63,
   "id": "c58dabf3-2b8b-4bd2-bc67-a75f5e4c0ab8",
   "metadata": {},
   "outputs": [
    {
     "ename": "TypeError",
     "evalue": "float() argument must be a string or a real number, not 'complex'",
     "output_type": "error",
     "traceback": [
      "\u001b[1;31m---------------------------------------------------------------------------\u001b[0m",
      "\u001b[1;31mTypeError\u001b[0m                                 Traceback (most recent call last)",
      "Cell \u001b[1;32mIn[63], line 1\u001b[0m\n\u001b[1;32m----> 1\u001b[0m e5 \u001b[38;5;241m=\u001b[39m \u001b[38;5;28mfloat\u001b[39m(\u001b[38;5;241m1\u001b[39m\u001b[38;5;241m+\u001b[39m\u001b[38;5;241m2\u001b[39mj)                               \u001b[38;5;66;03m# can't convert complex into float\u001b[39;00m\n\u001b[0;32m      2\u001b[0m e5\n",
      "\u001b[1;31mTypeError\u001b[0m: float() argument must be a string or a real number, not 'complex'"
     ]
    }
   ],
   "source": [
    "e5 = float(1+2j)                               # can't convert complex into float\n",
    "e5"
   ]
  },
  {
   "cell_type": "code",
   "execution_count": 69,
   "id": "84f07a98-9869-4f94-b045-9ee6c7b617f7",
   "metadata": {},
   "outputs": [
    {
     "data": {
      "text/plain": [
       "15"
      ]
     },
     "execution_count": 69,
     "metadata": {},
     "output_type": "execute_result"
    }
   ],
   "source": [
    "f = int(15.7)                    # converting float into int\n",
    "f"
   ]
  },
  {
   "cell_type": "code",
   "execution_count": 67,
   "id": "59dca8cd-7f84-4b09-a4ac-1e7e3aec0050",
   "metadata": {},
   "outputs": [
    {
     "data": {
      "text/plain": [
       "int"
      ]
     },
     "execution_count": 67,
     "metadata": {},
     "output_type": "execute_result"
    }
   ],
   "source": [
    "type(f)"
   ]
  },
  {
   "cell_type": "code",
   "execution_count": 75,
   "id": "d8fe02a9-e4e7-4f52-a3c8-c6217f66d2e0",
   "metadata": {},
   "outputs": [
    {
     "data": {
      "text/plain": [
       "1"
      ]
     },
     "execution_count": 75,
     "metadata": {},
     "output_type": "execute_result"
    }
   ],
   "source": [
    "f1 = int(True)                   # converting bool into int\n",
    "f1"
   ]
  },
  {
   "cell_type": "code",
   "execution_count": 73,
   "id": "65c63dbb-169f-4aa0-8eae-ab3604fc1c78",
   "metadata": {},
   "outputs": [
    {
     "data": {
      "text/plain": [
       "int"
      ]
     },
     "execution_count": 73,
     "metadata": {},
     "output_type": "execute_result"
    }
   ],
   "source": [
    "type(f)"
   ]
  },
  {
   "cell_type": "code",
   "execution_count": 81,
   "id": "502676ff-4268-41f0-ad1d-f09943d0018c",
   "metadata": {},
   "outputs": [
    {
     "data": {
      "text/plain": [
       "0"
      ]
     },
     "execution_count": 81,
     "metadata": {},
     "output_type": "execute_result"
    }
   ],
   "source": [
    "f2 = int(False)                # converting bool into int\n",
    "f2"
   ]
  },
  {
   "cell_type": "code",
   "execution_count": 79,
   "id": "8266157c-c641-463a-9274-0364bf43f538",
   "metadata": {},
   "outputs": [
    {
     "data": {
      "text/plain": [
       "int"
      ]
     },
     "execution_count": 79,
     "metadata": {},
     "output_type": "execute_result"
    }
   ],
   "source": [
    "type(f2)"
   ]
  },
  {
   "cell_type": "code",
   "execution_count": 85,
   "id": "8ec8730e-2b45-4648-b7f5-9d88ff155047",
   "metadata": {},
   "outputs": [
    {
     "ename": "TypeError",
     "evalue": "int() argument must be a string, a bytes-like object or a real number, not 'complex'",
     "output_type": "error",
     "traceback": [
      "\u001b[1;31m---------------------------------------------------------------------------\u001b[0m",
      "\u001b[1;31mTypeError\u001b[0m                                 Traceback (most recent call last)",
      "Cell \u001b[1;32mIn[85], line 1\u001b[0m\n\u001b[1;32m----> 1\u001b[0m f3 \u001b[38;5;241m=\u001b[39m \u001b[38;5;28mint\u001b[39m(\u001b[38;5;241m1\u001b[39m\u001b[38;5;241m+\u001b[39m\u001b[38;5;241m5\u001b[39mj)                            \u001b[38;5;66;03m# can't convert complex into int\u001b[39;00m\n\u001b[0;32m      2\u001b[0m f3\n",
      "\u001b[1;31mTypeError\u001b[0m: int() argument must be a string, a bytes-like object or a real number, not 'complex'"
     ]
    }
   ],
   "source": [
    "f3 = int(1+5j)                            # can't convert complex into int\n",
    "f3"
   ]
  },
  {
   "cell_type": "code",
   "execution_count": 89,
   "id": "17912029-6a56-45b3-8f52-552ee0e43d3f",
   "metadata": {},
   "outputs": [
    {
     "data": {
      "text/plain": [
       "10"
      ]
     },
     "execution_count": 89,
     "metadata": {},
     "output_type": "execute_result"
    }
   ],
   "source": [
    "f4 = int('10')                             # convrting string with numerical data into int\n",
    "f4"
   ]
  },
  {
   "cell_type": "code",
   "execution_count": 93,
   "id": "e7d715bb-c3a2-4cd2-8a8c-d8d3447082e4",
   "metadata": {},
   "outputs": [
    {
     "ename": "ValueError",
     "evalue": "invalid literal for int() with base 10: 'ten'",
     "output_type": "error",
     "traceback": [
      "\u001b[1;31m---------------------------------------------------------------------------\u001b[0m",
      "\u001b[1;31mValueError\u001b[0m                                Traceback (most recent call last)",
      "Cell \u001b[1;32mIn[93], line 1\u001b[0m\n\u001b[1;32m----> 1\u001b[0m f5 \u001b[38;5;241m=\u001b[39m \u001b[38;5;28mint\u001b[39m(\u001b[38;5;124m'\u001b[39m\u001b[38;5;124mten\u001b[39m\u001b[38;5;124m'\u001b[39m)\n",
      "\u001b[1;31mValueError\u001b[0m: invalid literal for int() with base 10: 'ten'"
     ]
    }
   ],
   "source": [
    "f5 = int('ten')                           # can't convert string with alphabets into an int"
   ]
  },
  {
   "cell_type": "code",
   "execution_count": 97,
   "id": "1db0e63f-2ff9-403c-8a48-4e26962c456a",
   "metadata": {},
   "outputs": [
    {
     "data": {
      "text/plain": [
       "'10'"
      ]
     },
     "execution_count": 97,
     "metadata": {},
     "output_type": "execute_result"
    }
   ],
   "source": [
    "g = str(10)                                  # converting int into string\n",
    "g "
   ]
  },
  {
   "cell_type": "code",
   "execution_count": 101,
   "id": "827d922f-7e3a-434e-a89a-4f6d3a93b508",
   "metadata": {},
   "outputs": [
    {
     "data": {
      "text/plain": [
       "'11.6'"
      ]
     },
     "execution_count": 101,
     "metadata": {},
     "output_type": "execute_result"
    }
   ],
   "source": [
    "g1 = str(11.6)                             # converting float into string\n",
    "g1"
   ]
  },
  {
   "cell_type": "code",
   "execution_count": 105,
   "id": "91b543d9-61d2-4a0a-84ed-8d273e681127",
   "metadata": {},
   "outputs": [
    {
     "data": {
      "text/plain": [
       "'True'"
      ]
     },
     "execution_count": 105,
     "metadata": {},
     "output_type": "execute_result"
    }
   ],
   "source": [
    "g2 = str(True)                               # converting bool into string\n",
    "g2"
   ]
  },
  {
   "cell_type": "code",
   "execution_count": 107,
   "id": "ff36aa98-cc97-40f6-b19c-f90d1052dddf",
   "metadata": {},
   "outputs": [
    {
     "data": {
      "text/plain": [
       "'False'"
      ]
     },
     "execution_count": 107,
     "metadata": {},
     "output_type": "execute_result"
    }
   ],
   "source": [
    "g3 = str(False)\n",
    "g3"
   ]
  },
  {
   "cell_type": "code",
   "execution_count": 111,
   "id": "7a150c66-6b1b-4bcd-a9ef-c4e3ecb96621",
   "metadata": {},
   "outputs": [
    {
     "data": {
      "text/plain": [
       "'(1+2j)'"
      ]
     },
     "execution_count": 111,
     "metadata": {},
     "output_type": "execute_result"
    }
   ],
   "source": [
    "g4 = str(1 + 2j)                                     # converting complex into string\n",
    "g4"
   ]
  },
  {
   "cell_type": "code",
   "execution_count": 143,
   "id": "06b8c62c-cb2a-4eba-8cc5-3aa1a03361ec",
   "metadata": {},
   "outputs": [
    {
     "data": {
      "text/plain": [
       "str"
      ]
     },
     "execution_count": 143,
     "metadata": {},
     "output_type": "execute_result"
    }
   ],
   "source": [
    "type(g4)"
   ]
  },
  {
   "cell_type": "code",
   "execution_count": 115,
   "id": "a0b46616-c4b9-4758-a59d-852959af7981",
   "metadata": {},
   "outputs": [
    {
     "data": {
      "text/plain": [
       "True"
      ]
     },
     "execution_count": 115,
     "metadata": {},
     "output_type": "execute_result"
    }
   ],
   "source": [
    "f = bool(5)                                       # converting int into bool\n",
    "f"
   ]
  },
  {
   "cell_type": "code",
   "execution_count": 141,
   "id": "4d40baba-a0df-45d8-b00e-0ff045fc8101",
   "metadata": {},
   "outputs": [
    {
     "data": {
      "text/plain": [
       "bool"
      ]
     },
     "execution_count": 141,
     "metadata": {},
     "output_type": "execute_result"
    }
   ],
   "source": [
    "type(f)"
   ]
  },
  {
   "cell_type": "code",
   "execution_count": 119,
   "id": "09e1fcad-ebf3-49ed-9dcc-f30d922feee4",
   "metadata": {},
   "outputs": [
    {
     "data": {
      "text/plain": [
       "True"
      ]
     },
     "execution_count": 119,
     "metadata": {},
     "output_type": "execute_result"
    }
   ],
   "source": [
    "f1 = bool(2.5)                                   # converting float into bool\n",
    "f1 "
   ]
  },
  {
   "cell_type": "code",
   "execution_count": 139,
   "id": "4d0c3bf2-2f98-4373-866e-0c361b0d17be",
   "metadata": {},
   "outputs": [
    {
     "data": {
      "text/plain": [
       "bool"
      ]
     },
     "execution_count": 139,
     "metadata": {},
     "output_type": "execute_result"
    }
   ],
   "source": [
    "type(f1)"
   ]
  },
  {
   "cell_type": "code",
   "execution_count": 123,
   "id": "aba5bdd8-1451-4a33-b49f-48477dafa97c",
   "metadata": {},
   "outputs": [
    {
     "data": {
      "text/plain": [
       "False"
      ]
     },
     "execution_count": 123,
     "metadata": {},
     "output_type": "execute_result"
    }
   ],
   "source": [
    "_f = bool(0)                                    # converting int into bool\n",
    "_f"
   ]
  },
  {
   "cell_type": "code",
   "execution_count": 137,
   "id": "a97e5082-da74-4bb7-a20c-103596b0eb16",
   "metadata": {},
   "outputs": [
    {
     "data": {
      "text/plain": [
       "bool"
      ]
     },
     "execution_count": 137,
     "metadata": {},
     "output_type": "execute_result"
    }
   ],
   "source": [
    "type(_f)"
   ]
  },
  {
   "cell_type": "code",
   "execution_count": 127,
   "id": "f9f58a9f-58f3-4ec3-99c5-29f0c523c229",
   "metadata": {},
   "outputs": [
    {
     "data": {
      "text/plain": [
       "True"
      ]
     },
     "execution_count": 127,
     "metadata": {},
     "output_type": "execute_result"
    }
   ],
   "source": [
    "f2 = bool('ten')                                 # converting string with alphabets into bool\n",
    "f2"
   ]
  },
  {
   "cell_type": "code",
   "execution_count": 135,
   "id": "aa8f764d-1cec-4d24-807a-4e6c76bdf7da",
   "metadata": {},
   "outputs": [
    {
     "data": {
      "text/plain": [
       "bool"
      ]
     },
     "execution_count": 135,
     "metadata": {},
     "output_type": "execute_result"
    }
   ],
   "source": [
    "type(f2)"
   ]
  },
  {
   "cell_type": "code",
   "execution_count": 145,
   "id": "832b3458-080d-4bf3-8707-a81aca515da2",
   "metadata": {},
   "outputs": [
    {
     "data": {
      "text/plain": [
       "True"
      ]
     },
     "execution_count": 145,
     "metadata": {},
     "output_type": "execute_result"
    }
   ],
   "source": [
    "f_2 = bool('2')                                  #  converting string with numbers into bool\n",
    "f_2"
   ]
  },
  {
   "cell_type": "code",
   "execution_count": 131,
   "id": "82678580-7bd2-495d-b5ac-8c89fa267813",
   "metadata": {},
   "outputs": [
    {
     "data": {
      "text/plain": [
       "bool"
      ]
     },
     "execution_count": 131,
     "metadata": {},
     "output_type": "execute_result"
    }
   ],
   "source": [
    "type(f_2)"
   ]
  },
  {
   "cell_type": "code",
   "execution_count": 149,
   "id": "d2f9282d-e187-41c3-8804-08f29e842fd3",
   "metadata": {},
   "outputs": [
    {
     "data": {
      "text/plain": [
       "True"
      ]
     },
     "execution_count": 149,
     "metadata": {},
     "output_type": "execute_result"
    }
   ],
   "source": [
    "f3 = bool(2+3j)                                 # converting complex into bool\n",
    "f3"
   ]
  },
  {
   "cell_type": "code",
   "execution_count": 151,
   "id": "7c9a113c-c65d-4fb3-bfe2-e1cc1bd42fa5",
   "metadata": {},
   "outputs": [
    {
     "data": {
      "text/plain": [
       "(10+0j)"
      ]
     },
     "execution_count": 151,
     "metadata": {},
     "output_type": "execute_result"
    }
   ],
   "source": [
    "x = complex(10)\n",
    "x"
   ]
  },
  {
   "cell_type": "code",
   "execution_count": 153,
   "id": "3d1373e9-528c-45f8-a324-0ab3d1725ab7",
   "metadata": {},
   "outputs": [
    {
     "data": {
      "text/plain": [
       "complex"
      ]
     },
     "execution_count": 153,
     "metadata": {},
     "output_type": "execute_result"
    }
   ],
   "source": [
    "type(x)"
   ]
  },
  {
   "cell_type": "code",
   "execution_count": 155,
   "id": "6b2b123f-dd2c-49c7-b494-8923875061e3",
   "metadata": {},
   "outputs": [
    {
     "data": {
      "text/plain": [
       "(2.5+7j)"
      ]
     },
     "execution_count": 155,
     "metadata": {},
     "output_type": "execute_result"
    }
   ],
   "source": [
    "x1 = complex(2.5,7)\n",
    "x1"
   ]
  },
  {
   "cell_type": "code",
   "execution_count": 157,
   "id": "e9cc3ef3-e7e1-414c-b9e8-bc35f02f2251",
   "metadata": {},
   "outputs": [
    {
     "data": {
      "text/plain": [
       "complex"
      ]
     },
     "execution_count": 157,
     "metadata": {},
     "output_type": "execute_result"
    }
   ],
   "source": [
    "type(x1)"
   ]
  },
  {
   "cell_type": "code",
   "execution_count": 161,
   "id": "c5214d2c-a217-4e19-9b6d-dff61e75e010",
   "metadata": {},
   "outputs": [
    {
     "ename": "ValueError",
     "evalue": "complex() arg is a malformed string",
     "output_type": "error",
     "traceback": [
      "\u001b[1;31m---------------------------------------------------------------------------\u001b[0m",
      "\u001b[1;31mValueError\u001b[0m                                Traceback (most recent call last)",
      "Cell \u001b[1;32mIn[161], line 1\u001b[0m\n\u001b[1;32m----> 1\u001b[0m x2 \u001b[38;5;241m=\u001b[39m \u001b[38;5;28mcomplex\u001b[39m(\u001b[38;5;124m'\u001b[39m\u001b[38;5;124mfive\u001b[39m\u001b[38;5;124m'\u001b[39m)                                    \u001b[38;5;66;03m# can,t convert string with alphabets into complex\u001b[39;00m\n\u001b[0;32m      2\u001b[0m x2\n",
      "\u001b[1;31mValueError\u001b[0m: complex() arg is a malformed string"
     ]
    }
   ],
   "source": [
    "x2 = complex('five')                                    # can,t convert string with alphabets into complex\n",
    "x2"
   ]
  },
  {
   "cell_type": "code",
   "execution_count": 173,
   "id": "eeeb9e0d-e52f-4840-8949-9aaf162d77fa",
   "metadata": {},
   "outputs": [
    {
     "data": {
      "text/plain": [
       "(5+0j)"
      ]
     },
     "execution_count": 173,
     "metadata": {},
     "output_type": "execute_result"
    }
   ],
   "source": [
    "x3 = complex('5')                                     # converting string with numerical data into complex\n",
    "x3"
   ]
  },
  {
   "cell_type": "code",
   "execution_count": 171,
   "id": "e5c8c955-765b-44f6-8315-33e188c7bbfd",
   "metadata": {},
   "outputs": [
    {
     "data": {
      "text/plain": [
       "complex"
      ]
     },
     "execution_count": 171,
     "metadata": {},
     "output_type": "execute_result"
    }
   ],
   "source": [
    "type(x3)"
   ]
  },
  {
   "cell_type": "code",
   "execution_count": 183,
   "id": "c2ec3645-1c86-41a3-92da-42870ac9ef6c",
   "metadata": {},
   "outputs": [],
   "source": [
    "x4 = complex(True)                                   # converting bool into into complex"
   ]
  },
  {
   "cell_type": "code",
   "execution_count": 177,
   "id": "c0a77bdc-219c-4d70-8b88-1797fb26ec4c",
   "metadata": {},
   "outputs": [
    {
     "data": {
      "text/plain": [
       "(1+0j)"
      ]
     },
     "execution_count": 177,
     "metadata": {},
     "output_type": "execute_result"
    }
   ],
   "source": [
    "x4"
   ]
  },
  {
   "cell_type": "code",
   "execution_count": 179,
   "id": "cd48e458-dde6-44ba-bc91-bfc61369d1f3",
   "metadata": {},
   "outputs": [
    {
     "data": {
      "text/plain": [
       "complex"
      ]
     },
     "execution_count": 179,
     "metadata": {},
     "output_type": "execute_result"
    }
   ],
   "source": [
    "type(x4)"
   ]
  },
  {
   "cell_type": "code",
   "execution_count": 181,
   "id": "c5b81455-18a8-4e51-8924-b8456d2dac7e",
   "metadata": {},
   "outputs": [
    {
     "data": {
      "text/plain": [
       "(1+0j)"
      ]
     },
     "execution_count": 181,
     "metadata": {},
     "output_type": "execute_result"
    }
   ],
   "source": [
    "x5 = complex(True,False)\n",
    "x5"
   ]
  },
  {
   "cell_type": "code",
   "execution_count": 185,
   "id": "3c65cf82-f6cb-4a2d-ad38-d9795e2bd0a3",
   "metadata": {},
   "outputs": [
    {
     "data": {
      "text/plain": [
       "0j"
      ]
     },
     "execution_count": 185,
     "metadata": {},
     "output_type": "execute_result"
    }
   ],
   "source": [
    "x6 = complex(False,False)\n",
    "x6"
   ]
  },
  {
   "cell_type": "code",
   "execution_count": 187,
   "id": "725c2485-7b9d-413e-ac58-b5d3ad11c42a",
   "metadata": {},
   "outputs": [
    {
     "data": {
      "text/plain": [
       "complex"
      ]
     },
     "execution_count": 187,
     "metadata": {},
     "output_type": "execute_result"
    }
   ],
   "source": [
    "type(x6)"
   ]
  },
  {
   "cell_type": "code",
   "execution_count": null,
   "id": "239292ed-bd4b-41b1-ac31-1d6f26045db9",
   "metadata": {},
   "outputs": [],
   "source": []
  },
  {
   "cell_type": "code",
   "execution_count": null,
   "id": "2008e537-83b8-4216-8d97-900392f9a8a9",
   "metadata": {},
   "outputs": [],
   "source": []
  }
 ],
 "metadata": {
  "kernelspec": {
   "display_name": "Python 3 (ipykernel)",
   "language": "python",
   "name": "python3"
  },
  "language_info": {
   "codemirror_mode": {
    "name": "ipython",
    "version": 3
   },
   "file_extension": ".py",
   "mimetype": "text/x-python",
   "name": "python",
   "nbconvert_exporter": "python",
   "pygments_lexer": "ipython3",
   "version": "3.12.7"
  }
 },
 "nbformat": 4,
 "nbformat_minor": 5
}
