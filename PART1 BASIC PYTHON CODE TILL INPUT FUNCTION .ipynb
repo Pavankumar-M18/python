{
 "cells": [
  {
   "cell_type": "code",
   "execution_count": 1,
   "id": "622ff0f2-2045-4177-99f7-999a45a0dcf7",
   "metadata": {},
   "outputs": [
    {
     "data": {
      "text/plain": [
       "2"
      ]
     },
     "execution_count": 1,
     "metadata": {},
     "output_type": "execute_result"
    }
   ],
   "source": [
    "1+1     # addition"
   ]
  },
  {
   "cell_type": "code",
   "execution_count": 2,
   "id": "03f72828-c424-4487-8a23-a91d4262677d",
   "metadata": {},
   "outputs": [
    {
     "data": {
      "text/plain": [
       "0"
      ]
     },
     "execution_count": 2,
     "metadata": {},
     "output_type": "execute_result"
    }
   ],
   "source": [
    "1-1      # substraction"
   ]
  },
  {
   "cell_type": "code",
   "execution_count": 3,
   "id": "4e70c94a-c878-40f5-97f2-2b69944a7fa9",
   "metadata": {},
   "outputs": [
    {
     "data": {
      "text/plain": [
       "12"
      ]
     },
     "execution_count": 3,
     "metadata": {},
     "output_type": "execute_result"
    }
   ],
   "source": [
    "3*4      # multiplication"
   ]
  },
  {
   "cell_type": "code",
   "execution_count": 4,
   "id": "b9dd0e1a-03d2-4eea-878f-5dd4a5f51e3d",
   "metadata": {},
   "outputs": [
    {
     "data": {
      "text/plain": [
       "2.0"
      ]
     },
     "execution_count": 4,
     "metadata": {},
     "output_type": "execute_result"
    }
   ],
   "source": [
    "10/5     # float division"
   ]
  },
  {
   "cell_type": "code",
   "execution_count": 5,
   "id": "d6ba682d-d17f-4f24-b67b-f3b303ad9dca",
   "metadata": {},
   "outputs": [
    {
     "data": {
      "text/plain": [
       "2"
      ]
     },
     "execution_count": 5,
     "metadata": {},
     "output_type": "execute_result"
    }
   ],
   "source": [
    "10//5   # integer division"
   ]
  },
  {
   "cell_type": "code",
   "execution_count": 6,
   "id": "bd849e87-6b0f-4057-b74b-5464cc7c8455",
   "metadata": {},
   "outputs": [
    {
     "data": {
      "text/plain": [
       "6"
      ]
     },
     "execution_count": 6,
     "metadata": {},
     "output_type": "execute_result"
    }
   ],
   "source": [
    "8+7-9"
   ]
  },
  {
   "cell_type": "code",
   "execution_count": 7,
   "id": "efdfd597-3009-4a8a-98c0-4795c6d0453b",
   "metadata": {},
   "outputs": [
    {
     "data": {
      "text/plain": [
       "18"
      ]
     },
     "execution_count": 7,
     "metadata": {},
     "output_type": "execute_result"
    }
   ],
   "source": [
    "8+5*2"
   ]
  },
  {
   "cell_type": "code",
   "execution_count": 8,
   "id": "92a7ab7d-62dd-491c-9286-df95003ee404",
   "metadata": {},
   "outputs": [
    {
     "data": {
      "text/plain": [
       "26"
      ]
     },
     "execution_count": 8,
     "metadata": {},
     "output_type": "execute_result"
    }
   ],
   "source": [
    "(8+5)*2"
   ]
  },
  {
   "cell_type": "code",
   "execution_count": 9,
   "id": "468fc118-4189-40d5-84c6-e9b91c921cab",
   "metadata": {},
   "outputs": [
    {
     "data": {
      "text/plain": [
       "243"
      ]
     },
     "execution_count": 9,
     "metadata": {},
     "output_type": "execute_result"
    }
   ],
   "source": [
    "3 * 3 * 3 * 3 * 3"
   ]
  },
  {
   "cell_type": "code",
   "execution_count": 10,
   "id": "e4156565-4b48-40fe-bac2-9d4a27a93ce9",
   "metadata": {},
   "outputs": [
    {
     "data": {
      "text/plain": [
       "27"
      ]
     },
     "execution_count": 10,
     "metadata": {},
     "output_type": "execute_result"
    }
   ],
   "source": [
    "3 ** 3"
   ]
  },
  {
   "cell_type": "code",
   "execution_count": 11,
   "id": "ab92b23e-b97c-402f-bee0-4c4be9f148e8",
   "metadata": {},
   "outputs": [
    {
     "data": {
      "text/plain": [
       "0"
      ]
     },
     "execution_count": 11,
     "metadata": {},
     "output_type": "execute_result"
    }
   ],
   "source": [
    "10%2"
   ]
  },
  {
   "cell_type": "code",
   "execution_count": 12,
   "id": "0fe8f2a9-34b8-4bb1-bfd7-0f771c36e14d",
   "metadata": {},
   "outputs": [],
   "source": [
    "a,b,c,d,e=1,2.5,'pavan',True,2+3j"
   ]
  },
  {
   "cell_type": "code",
   "execution_count": 13,
   "id": "b6aac3bb-3b64-4584-b834-2b3714fafb96",
   "metadata": {},
   "outputs": [
    {
     "name": "stdout",
     "output_type": "stream",
     "text": [
      "1\n",
      "2.5\n",
      "pavan\n",
      "True\n",
      "(2+3j)\n"
     ]
    }
   ],
   "source": [
    "print(a)\n",
    "print(b)\n",
    "print(c)\n",
    "print(d)\n",
    "print(e)"
   ]
  },
  {
   "cell_type": "code",
   "execution_count": 14,
   "id": "5b5f0ec0-4864-4f1d-b86e-77c317d86943",
   "metadata": {},
   "outputs": [
    {
     "name": "stdout",
     "output_type": "stream",
     "text": [
      "<class 'int'>\n",
      "<class 'float'>\n",
      "<class 'str'>\n",
      "<class 'bool'>\n",
      "<class 'complex'>\n"
     ]
    }
   ],
   "source": [
    "print(type(a))\n",
    "print(type(b))\n",
    "print(type(c))\n",
    "print(type(d))\n",
    "print(type(e))"
   ]
  },
  {
   "cell_type": "code",
   "execution_count": 15,
   "id": "ca0c0a7f-ad5e-4d5f-a3b1-b3a3b4fb77da",
   "metadata": {},
   "outputs": [
    {
     "data": {
      "text/plain": [
       "'pavan kumar'"
      ]
     },
     "execution_count": 15,
     "metadata": {},
     "output_type": "execute_result"
    }
   ],
   "source": [
    "'pavan kumar'"
   ]
  },
  {
   "cell_type": "code",
   "execution_count": 16,
   "id": "a91f358c-ff3e-45cd-a676-79b14834ed1a",
   "metadata": {},
   "outputs": [
    {
     "data": {
      "text/plain": [
       "str"
      ]
     },
     "execution_count": 16,
     "metadata": {},
     "output_type": "execute_result"
    }
   ],
   "source": [
    "type('pavan kumar')"
   ]
  },
  {
   "cell_type": "code",
   "execution_count": 17,
   "id": "6e3098ea-3399-4d52-b427-8c04e72fc1e7",
   "metadata": {},
   "outputs": [
    {
     "name": "stdout",
     "output_type": "stream",
     "text": [
      "pvana kumar\n"
     ]
    }
   ],
   "source": [
    "print('pvana kumar')"
   ]
  },
  {
   "cell_type": "code",
   "execution_count": 18,
   "id": "f73d991b-acd3-44cd-bff9-4f8319a11ff3",
   "metadata": {},
   "outputs": [],
   "source": [
    "a1='pavan kumar'"
   ]
  },
  {
   "cell_type": "code",
   "execution_count": 19,
   "id": "cfcc370c-175d-47a9-b070-6595d2559599",
   "metadata": {},
   "outputs": [
    {
     "name": "stdout",
     "output_type": "stream",
     "text": [
      "pavan kumar\n"
     ]
    }
   ],
   "source": [
    "print(a1)"
   ]
  },
  {
   "cell_type": "code",
   "execution_count": 20,
   "id": "a0f215b1-cc27-4e9e-89b7-7141eeecb66e",
   "metadata": {},
   "outputs": [
    {
     "data": {
      "text/plain": [
       "str"
      ]
     },
     "execution_count": 20,
     "metadata": {},
     "output_type": "execute_result"
    }
   ],
   "source": [
    "type(a1)"
   ]
  },
  {
   "cell_type": "code",
   "execution_count": 21,
   "id": "9366a977-5037-4b87-91cc-a984a6d15765",
   "metadata": {},
   "outputs": [],
   "source": [
    "a=2\n",
    "b=5"
   ]
  },
  {
   "cell_type": "code",
   "execution_count": 22,
   "id": "1fb2b2de-57e5-4a56-8010-db9d5945533c",
   "metadata": {},
   "outputs": [
    {
     "data": {
      "text/plain": [
       "7"
      ]
     },
     "execution_count": 22,
     "metadata": {},
     "output_type": "execute_result"
    }
   ],
   "source": [
    "a+b"
   ]
  },
  {
   "cell_type": "code",
   "execution_count": 23,
   "id": "4dc540b8-6438-4777-b609-dd55cce86c1a",
   "metadata": {},
   "outputs": [
    {
     "data": {
      "text/plain": [
       "-3"
      ]
     },
     "execution_count": 23,
     "metadata": {},
     "output_type": "execute_result"
    }
   ],
   "source": [
    "a-b"
   ]
  },
  {
   "cell_type": "code",
   "execution_count": 24,
   "id": "5c0af81d-e21a-4c2a-924c-8f18ee92988a",
   "metadata": {},
   "outputs": [
    {
     "data": {
      "text/plain": [
       "10"
      ]
     },
     "execution_count": 24,
     "metadata": {},
     "output_type": "execute_result"
    }
   ],
   "source": [
    "a*b"
   ]
  },
  {
   "cell_type": "code",
   "execution_count": 25,
   "id": "4a963062-e6c0-44d1-8cd5-8dd1bc62a32d",
   "metadata": {},
   "outputs": [
    {
     "ename": "SyntaxError",
     "evalue": "invalid syntax. Perhaps you forgot a comma? (1299349590.py, line 1)",
     "output_type": "error",
     "traceback": [
      "\u001b[1;36m  Cell \u001b[1;32mIn[25], line 1\u001b[1;36m\u001b[0m\n\u001b[1;33m    print('pavan's 'kumar')\u001b[0m\n\u001b[1;37m          ^\u001b[0m\n\u001b[1;31mSyntaxError\u001b[0m\u001b[1;31m:\u001b[0m invalid syntax. Perhaps you forgot a comma?\n"
     ]
    }
   ],
   "source": [
    "print('pavan's 'kumar')"
   ]
  },
  {
   "cell_type": "code",
   "execution_count": 63,
   "id": "16943f1f-18c6-4d33-832c-6be1ba2e817f",
   "metadata": {},
   "outputs": [
    {
     "name": "stdout",
     "output_type": "stream",
     "text": [
      "pavan's\"kumar\"\n"
     ]
    }
   ],
   "source": [
    "print('pavan\\'s\"kumar\"')"
   ]
  },
  {
   "cell_type": "code",
   "execution_count": 65,
   "id": "30929f3c-3e44-47f4-a751-fe7d5b86d372",
   "metadata": {},
   "outputs": [
    {
     "name": "stdout",
     "output_type": "stream",
     "text": [
      "pavan kumar\n"
     ]
    }
   ],
   "source": [
    "print('pavan','kumar')"
   ]
  },
  {
   "cell_type": "code",
   "execution_count": 67,
   "id": "8e8e9323-041b-42b7-b16c-47eac8a431f8",
   "metadata": {},
   "outputs": [
    {
     "name": "stdout",
     "output_type": "stream",
     "text": [
      "pavan\",\"kumar\n"
     ]
    }
   ],
   "source": [
    "print('pavan\",\"kumar')"
   ]
  },
  {
   "cell_type": "code",
   "execution_count": 69,
   "id": "b174159b-8ca7-4a24-a285-88aa0594040c",
   "metadata": {},
   "outputs": [
    {
     "data": {
      "text/plain": [
       "'pavan pavan'"
      ]
     },
     "execution_count": 69,
     "metadata": {},
     "output_type": "execute_result"
    }
   ],
   "source": [
    "'pavan' + ' pavan'"
   ]
  },
  {
   "cell_type": "code",
   "execution_count": 71,
   "id": "b1e82072-7e7d-459c-8711-6f95bde3c027",
   "metadata": {},
   "outputs": [
    {
     "data": {
      "text/plain": [
       "'pavan pavan'"
      ]
     },
     "execution_count": 71,
     "metadata": {},
     "output_type": "execute_result"
    }
   ],
   "source": [
    "'pavan' ' pavan'"
   ]
  },
  {
   "cell_type": "code",
   "execution_count": 73,
   "id": "eb01ddea-f61d-46a5-b462-0bbf58384074",
   "metadata": {},
   "outputs": [
    {
     "data": {
      "text/plain": [
       "'pavan pavan pavan '"
      ]
     },
     "execution_count": 73,
     "metadata": {},
     "output_type": "execute_result"
    }
   ],
   "source": [
    "'pavan '*3"
   ]
  },
  {
   "cell_type": "code",
   "execution_count": 75,
   "id": "13a1170c-b182-4f83-bbf6-2b462ca78551",
   "metadata": {},
   "outputs": [
    {
     "name": "stdout",
     "output_type": "stream",
     "text": [
      "pavan:\n",
      "kumar\n"
     ]
    }
   ],
   "source": [
    "print('pavan:\\nkumar')          # \\n gives new line"
   ]
  },
  {
   "cell_type": "code",
   "execution_count": 77,
   "id": "d0c2e48f-56e0-4a15-a63b-29c33baffc2d",
   "metadata": {},
   "outputs": [
    {
     "name": "stdout",
     "output_type": "stream",
     "text": [
      "pavan:\\nkumar\n"
     ]
    }
   ],
   "source": [
    "print(r'pavan:\\nkumar')          # r'--' gives raw str "
   ]
  },
  {
   "cell_type": "markdown",
   "id": "03ec68c7-411c-4b80-8648-8e9353144ee8",
   "metadata": {},
   "source": [
    "# variable || identifier || object"
   ]
  },
  {
   "cell_type": "code",
   "execution_count": null,
   "id": "4d6e2894-7097-40f5-83fb-0997e18fe734",
   "metadata": {},
   "outputs": [],
   "source": [
    "2"
   ]
  },
  {
   "cell_type": "code",
   "execution_count": null,
   "id": "f2f2ae0f-fec2-428f-b9c9-a41dec8b6e2d",
   "metadata": {},
   "outputs": [],
   "source": [
    "a = 2          # 2 is value where a is variable/identifier/object\n",
    "a"
   ]
  },
  {
   "cell_type": "code",
   "execution_count": 79,
   "id": "23d2b1a0-451d-45e7-88fe-bb602e76aa9e",
   "metadata": {},
   "outputs": [
    {
     "data": {
      "text/plain": [
       "7"
      ]
     },
     "execution_count": 79,
     "metadata": {},
     "output_type": "execute_result"
    }
   ],
   "source": [
    "a+5"
   ]
  },
  {
   "cell_type": "code",
   "execution_count": 81,
   "id": "00861344-93dd-4699-b346-6227a82e28ba",
   "metadata": {},
   "outputs": [
    {
     "data": {
      "text/plain": [
       "4"
      ]
     },
     "execution_count": 81,
     "metadata": {},
     "output_type": "execute_result"
    }
   ],
   "source": [
    "a*2"
   ]
  },
  {
   "cell_type": "code",
   "execution_count": 83,
   "id": "0fec3710-b52a-49a9-b2b7-bca22abe4aad",
   "metadata": {},
   "outputs": [
    {
     "data": {
      "text/plain": [
       "5"
      ]
     },
     "execution_count": 83,
     "metadata": {},
     "output_type": "execute_result"
    }
   ],
   "source": [
    "b=5\n",
    "b"
   ]
  },
  {
   "cell_type": "code",
   "execution_count": 85,
   "id": "1267068b-4be5-4861-9f45-028257a74ab7",
   "metadata": {},
   "outputs": [
    {
     "data": {
      "text/plain": [
       "7"
      ]
     },
     "execution_count": 85,
     "metadata": {},
     "output_type": "execute_result"
    }
   ],
   "source": [
    "a+b"
   ]
  },
  {
   "cell_type": "code",
   "execution_count": 87,
   "id": "4a150d6e-0714-4d79-b228-2a75d23c421a",
   "metadata": {},
   "outputs": [
    {
     "data": {
      "text/plain": [
       "10"
      ]
     },
     "execution_count": 87,
     "metadata": {},
     "output_type": "execute_result"
    }
   ],
   "source": [
    "a*b"
   ]
  },
  {
   "cell_type": "code",
   "execution_count": 89,
   "id": "91a23bff-10c7-4d56-b099-7102ac67f05b",
   "metadata": {},
   "outputs": [
    {
     "data": {
      "text/plain": [
       "7"
      ]
     },
     "execution_count": 89,
     "metadata": {},
     "output_type": "execute_result"
    }
   ],
   "source": [
    "a+b"
   ]
  },
  {
   "cell_type": "code",
   "execution_count": 91,
   "id": "fe5f306f-3b3e-42f2-9fd0-2299fd6c1a8e",
   "metadata": {},
   "outputs": [
    {
     "data": {
      "text/plain": [
       "5"
      ]
     },
     "execution_count": 91,
     "metadata": {},
     "output_type": "execute_result"
    }
   ],
   "source": [
    "b"
   ]
  },
  {
   "cell_type": "code",
   "execution_count": 93,
   "id": "7b5617bf-2af4-4719-878c-9095bcff5ebf",
   "metadata": {},
   "outputs": [],
   "source": [
    "name='pavan'"
   ]
  },
  {
   "cell_type": "code",
   "execution_count": 95,
   "id": "294f9098-2c9a-4c05-89d7-dba27e8f0a3d",
   "metadata": {},
   "outputs": [
    {
     "data": {
      "text/plain": [
       "'pavankumar'"
      ]
     },
     "execution_count": 95,
     "metadata": {},
     "output_type": "execute_result"
    }
   ],
   "source": [
    "name + 'kumar'"
   ]
  },
  {
   "cell_type": "markdown",
   "id": "79d44b51-c01a-45ce-92f5-05fbc51b290b",
   "metadata": {},
   "source": [
    "# indexing"
   ]
  },
  {
   "cell_type": "code",
   "execution_count": 97,
   "id": "6bb2b880-0ff3-4bec-aff5-09a489451d60",
   "metadata": {},
   "outputs": [
    {
     "data": {
      "text/plain": [
       "'pavan'"
      ]
     },
     "execution_count": 97,
     "metadata": {},
     "output_type": "execute_result"
    }
   ],
   "source": [
    "name"
   ]
  },
  {
   "cell_type": "code",
   "execution_count": 99,
   "id": "57ae0509-c190-48a8-9a72-b3f8033ba4a8",
   "metadata": {},
   "outputs": [
    {
     "data": {
      "text/plain": [
       "5"
      ]
     },
     "execution_count": 99,
     "metadata": {},
     "output_type": "execute_result"
    }
   ],
   "source": [
    "len(name)"
   ]
  },
  {
   "cell_type": "code",
   "execution_count": 101,
   "id": "2e5b05d5-e320-4cdb-a7eb-13cf446d83dc",
   "metadata": {},
   "outputs": [
    {
     "data": {
      "text/plain": [
       "'p'"
      ]
     },
     "execution_count": 101,
     "metadata": {},
     "output_type": "execute_result"
    }
   ],
   "source": [
    "name[0]"
   ]
  },
  {
   "cell_type": "code",
   "execution_count": 103,
   "id": "148b0204-382f-45cf-b0b7-ca0d7332e64c",
   "metadata": {},
   "outputs": [
    {
     "data": {
      "text/plain": [
       "'n'"
      ]
     },
     "execution_count": 103,
     "metadata": {},
     "output_type": "execute_result"
    }
   ],
   "source": [
    "name[-1]"
   ]
  },
  {
   "cell_type": "code",
   "execution_count": 105,
   "id": "24140207-9a78-437d-b1a9-f745eec16dbb",
   "metadata": {},
   "outputs": [
    {
     "data": {
      "text/plain": [
       "'v'"
      ]
     },
     "execution_count": 105,
     "metadata": {},
     "output_type": "execute_result"
    }
   ],
   "source": [
    "name[2]"
   ]
  },
  {
   "cell_type": "markdown",
   "id": "626f72d5-961a-46b8-be03-a09c490835b0",
   "metadata": {},
   "source": [
    "# slicing"
   ]
  },
  {
   "cell_type": "code",
   "execution_count": 107,
   "id": "49cb0f0e-0cad-47ca-a5fd-d452fe590284",
   "metadata": {},
   "outputs": [
    {
     "data": {
      "text/plain": [
       "'pavan'"
      ]
     },
     "execution_count": 107,
     "metadata": {},
     "output_type": "execute_result"
    }
   ],
   "source": [
    "name"
   ]
  },
  {
   "cell_type": "code",
   "execution_count": 109,
   "id": "d2ae789e-9076-47b6-8e35-a4beb7260e3b",
   "metadata": {},
   "outputs": [
    {
     "data": {
      "text/plain": [
       "'pavan'"
      ]
     },
     "execution_count": 109,
     "metadata": {},
     "output_type": "execute_result"
    }
   ],
   "source": [
    "name[:]"
   ]
  },
  {
   "cell_type": "code",
   "execution_count": 111,
   "id": "5e718a1e-6b9a-49e9-963d-f5c3983cad37",
   "metadata": {},
   "outputs": [
    {
     "data": {
      "text/plain": [
       "'navap'"
      ]
     },
     "execution_count": 111,
     "metadata": {},
     "output_type": "execute_result"
    }
   ],
   "source": [
    "name[::-1]"
   ]
  },
  {
   "cell_type": "code",
   "execution_count": 113,
   "id": "63e1979a-0193-4505-8dbb-1bd156de5d60",
   "metadata": {},
   "outputs": [
    {
     "data": {
      "text/plain": [
       "'pavan'"
      ]
     },
     "execution_count": 113,
     "metadata": {},
     "output_type": "execute_result"
    }
   ],
   "source": [
    "name[:5]"
   ]
  },
  {
   "cell_type": "code",
   "execution_count": 115,
   "id": "1c5cc6ae-6459-4ec3-a442-82a6a4c1b731",
   "metadata": {},
   "outputs": [
    {
     "data": {
      "text/plain": [
       "'van'"
      ]
     },
     "execution_count": 115,
     "metadata": {},
     "output_type": "execute_result"
    }
   ],
   "source": [
    "name[2:]"
   ]
  },
  {
   "cell_type": "code",
   "execution_count": 117,
   "id": "94d8d13e-e8a0-466c-8136-d40ff21d43cf",
   "metadata": {},
   "outputs": [],
   "source": [
    "name1='fine'"
   ]
  },
  {
   "cell_type": "code",
   "execution_count": 119,
   "id": "4630b64c-ba1c-4a3f-bbad-9cb514507d28",
   "metadata": {},
   "outputs": [
    {
     "data": {
      "text/plain": [
       "'fine'"
      ]
     },
     "execution_count": 119,
     "metadata": {},
     "output_type": "execute_result"
    }
   ],
   "source": [
    "name1[:]"
   ]
  },
  {
   "cell_type": "code",
   "execution_count": 121,
   "id": "251451fe-d1f3-4a1e-a445-c8f755c6e4f0",
   "metadata": {},
   "outputs": [
    {
     "data": {
      "text/plain": [
       "'dine'"
      ]
     },
     "execution_count": 121,
     "metadata": {},
     "output_type": "execute_result"
    }
   ],
   "source": [
    "'d'+name1[1:]           # converted fine to dine"
   ]
  },
  {
   "cell_type": "markdown",
   "id": "3ff15c40-e64f-4adc-a304-15e171ee5c32",
   "metadata": {},
   "source": [
    "# list"
   ]
  },
  {
   "cell_type": "code",
   "execution_count": 123,
   "id": "6d8f814b-63d9-403b-bd69-50812bb172e0",
   "metadata": {},
   "outputs": [
    {
     "data": {
      "text/plain": [
       "[10, 20, 30]"
      ]
     },
     "execution_count": 123,
     "metadata": {},
     "output_type": "execute_result"
    }
   ],
   "source": [
    "nums=[10,20,30]\n",
    "nums"
   ]
  },
  {
   "cell_type": "code",
   "execution_count": 125,
   "id": "d446c503-234a-487e-9f72-061941dafd1a",
   "metadata": {},
   "outputs": [
    {
     "data": {
      "text/plain": [
       "list"
      ]
     },
     "execution_count": 125,
     "metadata": {},
     "output_type": "execute_result"
    }
   ],
   "source": [
    "type(nums)"
   ]
  },
  {
   "cell_type": "code",
   "execution_count": 127,
   "id": "6d1a2b76-eaaa-45ee-9573-2f6b41d2337c",
   "metadata": {},
   "outputs": [
    {
     "data": {
      "text/plain": [
       "10"
      ]
     },
     "execution_count": 127,
     "metadata": {},
     "output_type": "execute_result"
    }
   ],
   "source": [
    "nums[0]"
   ]
  },
  {
   "cell_type": "code",
   "execution_count": 129,
   "id": "20a8828b-eb91-4b76-991d-355aee1ea7c6",
   "metadata": {},
   "outputs": [
    {
     "data": {
      "text/plain": [
       "30"
      ]
     },
     "execution_count": 129,
     "metadata": {},
     "output_type": "execute_result"
    }
   ],
   "source": [
    "nums[-1]"
   ]
  },
  {
   "cell_type": "code",
   "execution_count": 131,
   "id": "c3bf831b-b885-4023-a2d4-ac8ad2a795c2",
   "metadata": {},
   "outputs": [
    {
     "data": {
      "text/plain": [
       "[10, 20, 30]"
      ]
     },
     "execution_count": 131,
     "metadata": {},
     "output_type": "execute_result"
    }
   ],
   "source": [
    "nums[:]"
   ]
  },
  {
   "cell_type": "code",
   "execution_count": 133,
   "id": "cde85712-ac02-425e-af57-94adbfecffc1",
   "metadata": {},
   "outputs": [
    {
     "data": {
      "text/plain": [
       "[30, 20, 10]"
      ]
     },
     "execution_count": 133,
     "metadata": {},
     "output_type": "execute_result"
    }
   ],
   "source": [
    "nums[::-1]"
   ]
  },
  {
   "cell_type": "code",
   "execution_count": 135,
   "id": "bc67292b-7929-4b1d-b330-d42c171c9a73",
   "metadata": {},
   "outputs": [
    {
     "data": {
      "text/plain": [
       "['hi', 'hello']"
      ]
     },
     "execution_count": 135,
     "metadata": {},
     "output_type": "execute_result"
    }
   ],
   "source": [
    "num1=['hi','hello']\n",
    "num1"
   ]
  },
  {
   "cell_type": "code",
   "execution_count": 137,
   "id": "8bc0c56e-7188-4806-9049-044be7ce4e16",
   "metadata": {},
   "outputs": [
    {
     "data": {
      "text/plain": [
       "['hi', 2.5, 5]"
      ]
     },
     "execution_count": 137,
     "metadata": {},
     "output_type": "execute_result"
    }
   ],
   "source": [
    "num2=['hi',2.5,5]\n",
    "num2"
   ]
  },
  {
   "cell_type": "code",
   "execution_count": 139,
   "id": "f6e0e437-8a14-458f-8212-c88b74c2e6c3",
   "metadata": {},
   "outputs": [
    {
     "data": {
      "text/plain": [
       "[[10, 20, 30], ['hi', 'hello']]"
      ]
     },
     "execution_count": 139,
     "metadata": {},
     "output_type": "execute_result"
    }
   ],
   "source": [
    "num3=[nums,num1]\n",
    "num3"
   ]
  },
  {
   "cell_type": "code",
   "execution_count": 141,
   "id": "7850e172-8925-46e0-a352-73fb29c7d435",
   "metadata": {},
   "outputs": [
    {
     "data": {
      "text/plain": [
       "[[10, 20, 30], ['hi', 'hello'], ['hi', 2.5, 5]]"
      ]
     },
     "execution_count": 141,
     "metadata": {},
     "output_type": "execute_result"
    }
   ],
   "source": [
    "num4=[nums,num1,num2]\n",
    "num4"
   ]
  },
  {
   "cell_type": "code",
   "execution_count": 143,
   "id": "5aa5c3f5-4021-4f1e-8465-ee270964f40e",
   "metadata": {},
   "outputs": [
    {
     "data": {
      "text/plain": [
       "[10, 20, 30]"
      ]
     },
     "execution_count": 143,
     "metadata": {},
     "output_type": "execute_result"
    }
   ],
   "source": [
    "nums"
   ]
  },
  {
   "cell_type": "code",
   "execution_count": 145,
   "id": "db5cefcb-ce68-45bf-9708-3fe8f45879b4",
   "metadata": {},
   "outputs": [],
   "source": [
    "nums.append(5)"
   ]
  },
  {
   "cell_type": "code",
   "execution_count": 147,
   "id": "0108b9d1-821b-425b-96c8-be1c5506eb2b",
   "metadata": {},
   "outputs": [
    {
     "data": {
      "text/plain": [
       "[10, 20, 30, 5]"
      ]
     },
     "execution_count": 147,
     "metadata": {},
     "output_type": "execute_result"
    }
   ],
   "source": [
    "nums"
   ]
  },
  {
   "cell_type": "code",
   "execution_count": 149,
   "id": "b7e72f7c-63fe-4ea9-8dce-771bd1054268",
   "metadata": {},
   "outputs": [],
   "source": [
    "nums.remove(5)"
   ]
  },
  {
   "cell_type": "code",
   "execution_count": 151,
   "id": "611bccdb-b3c0-4a59-a7ff-e6941b47bd68",
   "metadata": {},
   "outputs": [
    {
     "data": {
      "text/plain": [
       "[10, 20, 30]"
      ]
     },
     "execution_count": 151,
     "metadata": {},
     "output_type": "execute_result"
    }
   ],
   "source": [
    "nums"
   ]
  },
  {
   "cell_type": "code",
   "execution_count": 153,
   "id": "8f3c3def-cd6b-47f6-a05d-53c4ff9460bc",
   "metadata": {},
   "outputs": [
    {
     "data": {
      "text/plain": [
       "[10, 20, 30, 40, 50, 60]"
      ]
     },
     "execution_count": 153,
     "metadata": {},
     "output_type": "execute_result"
    }
   ],
   "source": [
    "num5=[10,20,30,40,50,60]\n",
    "num5"
   ]
  },
  {
   "cell_type": "code",
   "execution_count": 155,
   "id": "b954cab0-e7c3-4e4a-8370-4ca72628e9e1",
   "metadata": {},
   "outputs": [
    {
     "data": {
      "text/plain": [
       "20"
      ]
     },
     "execution_count": 155,
     "metadata": {},
     "output_type": "execute_result"
    }
   ],
   "source": [
    "num5.pop(1)    # giving index number as perameter for pop to delete specified element"
   ]
  },
  {
   "cell_type": "code",
   "execution_count": 157,
   "id": "177c8e91-61c7-4b89-aea1-3410920a7f52",
   "metadata": {},
   "outputs": [
    {
     "data": {
      "text/plain": [
       "60"
      ]
     },
     "execution_count": 157,
     "metadata": {},
     "output_type": "execute_result"
    }
   ],
   "source": [
    "num5.pop()         # default it deletes last element"
   ]
  },
  {
   "cell_type": "code",
   "execution_count": 159,
   "id": "085b274b-a268-4bf0-a447-c5c9d7eebff5",
   "metadata": {},
   "outputs": [
    {
     "data": {
      "text/plain": [
       "[10, 30, 40, 50]"
      ]
     },
     "execution_count": 159,
     "metadata": {},
     "output_type": "execute_result"
    }
   ],
   "source": [
    "num5"
   ]
  },
  {
   "cell_type": "code",
   "execution_count": 161,
   "id": "7f55ffc7-d135-4d66-ba20-40ffaf1347e6",
   "metadata": {},
   "outputs": [],
   "source": [
    "num5.insert(0,15)"
   ]
  },
  {
   "cell_type": "code",
   "execution_count": 163,
   "id": "02a4ee05-7b15-4978-8fa9-bfa0280aec56",
   "metadata": {},
   "outputs": [
    {
     "data": {
      "text/plain": [
       "[15, 10, 30, 40, 50]"
      ]
     },
     "execution_count": 163,
     "metadata": {},
     "output_type": "execute_result"
    }
   ],
   "source": [
    "num5"
   ]
  },
  {
   "cell_type": "code",
   "execution_count": 165,
   "id": "a3d96ab2-f91a-44ae-8b13-fc409080a12a",
   "metadata": {},
   "outputs": [],
   "source": [
    "num5.insert(2,20)"
   ]
  },
  {
   "cell_type": "code",
   "execution_count": 167,
   "id": "d524d735-6fee-4cce-be41-db673744534e",
   "metadata": {},
   "outputs": [
    {
     "data": {
      "text/plain": [
       "[15, 10, 20, 30, 40, 50]"
      ]
     },
     "execution_count": 167,
     "metadata": {},
     "output_type": "execute_result"
    }
   ],
   "source": [
    "num5"
   ]
  },
  {
   "cell_type": "code",
   "execution_count": 169,
   "id": "6464cb7d-671e-4594-82cc-ad2c91fe0d57",
   "metadata": {},
   "outputs": [],
   "source": [
    "num5.insert(0,'pavan')         # inserting values according to the index number"
   ]
  },
  {
   "cell_type": "code",
   "execution_count": 171,
   "id": "d5ad3dd2-8e2f-462a-a9b8-1c500c5f610d",
   "metadata": {},
   "outputs": [
    {
     "data": {
      "text/plain": [
       "['pavan', 15, 10, 20, 30, 40, 50]"
      ]
     },
     "execution_count": 171,
     "metadata": {},
     "output_type": "execute_result"
    }
   ],
   "source": [
    "num5"
   ]
  },
  {
   "cell_type": "code",
   "execution_count": 185,
   "id": "4bff09b0-b431-4244-ac87-86ce4ca58c16",
   "metadata": {},
   "outputs": [],
   "source": [
    "del num5[4:]"
   ]
  },
  {
   "cell_type": "code",
   "execution_count": 187,
   "id": "f0cc4110-3e4b-4869-9a5f-90abbe4e25ce",
   "metadata": {},
   "outputs": [
    {
     "data": {
      "text/plain": [
       "['pavan', 15, 10, 20]"
      ]
     },
     "execution_count": 187,
     "metadata": {},
     "output_type": "execute_result"
    }
   ],
   "source": [
    "num5"
   ]
  },
  {
   "cell_type": "code",
   "execution_count": 191,
   "id": "46918f5b-556d-4b24-8eac-a33059455fee",
   "metadata": {},
   "outputs": [],
   "source": [
    "num5.extend([14,5,8])         # add multiple values at a time"
   ]
  },
  {
   "cell_type": "code",
   "execution_count": 193,
   "id": "e5de3a61-a404-4abc-8d16-3ed39d020953",
   "metadata": {},
   "outputs": [
    {
     "data": {
      "text/plain": [
       "['pavan', 15, 10, 20, 14, 5, 8]"
      ]
     },
     "execution_count": 193,
     "metadata": {},
     "output_type": "execute_result"
    }
   ],
   "source": [
    "num5"
   ]
  },
  {
   "cell_type": "code",
   "execution_count": 211,
   "id": "bba38f40-61f7-4595-b9a4-9f28a17455a9",
   "metadata": {},
   "outputs": [],
   "source": [
    "num5.extend([2.4,'h'])"
   ]
  },
  {
   "cell_type": "code",
   "execution_count": 213,
   "id": "465a6949-6828-4317-9020-7cb90ca2d2b4",
   "metadata": {},
   "outputs": [
    {
     "data": {
      "text/plain": [
       "['pavan', 15, 10, 20, 14, 5, 8, 2.4, 2.4, 'h']"
      ]
     },
     "execution_count": 213,
     "metadata": {},
     "output_type": "execute_result"
    }
   ],
   "source": [
    "num5"
   ]
  },
  {
   "cell_type": "code",
   "execution_count": 215,
   "id": "602b5ad5-45b4-4887-8aa2-12b966fd188f",
   "metadata": {},
   "outputs": [],
   "source": [
    "num5.remove('h')"
   ]
  },
  {
   "cell_type": "code",
   "execution_count": 203,
   "id": "355789ac-cbdc-423e-9956-8e9fd1d041b4",
   "metadata": {},
   "outputs": [
    {
     "data": {
      "text/plain": [
       "['pavan', 15, 10, 20, 14, 5, 8, 2.4]"
      ]
     },
     "execution_count": 203,
     "metadata": {},
     "output_type": "execute_result"
    }
   ],
   "source": [
    "num5"
   ]
  },
  {
   "cell_type": "code",
   "execution_count": 217,
   "id": "d2d29c3b-f0ed-4889-b940-c0c2862414a8",
   "metadata": {},
   "outputs": [
    {
     "data": {
      "text/plain": [
       "'pavan'"
      ]
     },
     "execution_count": 217,
     "metadata": {},
     "output_type": "execute_result"
    }
   ],
   "source": [
    "num5.pop(0)"
   ]
  },
  {
   "cell_type": "code",
   "execution_count": 219,
   "id": "15a78655-e7da-4242-8022-ca710ff09f6c",
   "metadata": {},
   "outputs": [
    {
     "data": {
      "text/plain": [
       "[15, 10, 20, 14, 5, 8, 2.4, 2.4]"
      ]
     },
     "execution_count": 219,
     "metadata": {},
     "output_type": "execute_result"
    }
   ],
   "source": [
    "num5"
   ]
  },
  {
   "cell_type": "code",
   "execution_count": 221,
   "id": "7da40039-4306-4d02-97f6-c5fdd58ad560",
   "metadata": {},
   "outputs": [
    {
     "data": {
      "text/plain": [
       "2.4"
      ]
     },
     "execution_count": 221,
     "metadata": {},
     "output_type": "execute_result"
    }
   ],
   "source": [
    "min(num5)"
   ]
  },
  {
   "cell_type": "code",
   "execution_count": 223,
   "id": "12f44add-5394-4bd0-b308-4615d8937162",
   "metadata": {},
   "outputs": [
    {
     "data": {
      "text/plain": [
       "20"
      ]
     },
     "execution_count": 223,
     "metadata": {},
     "output_type": "execute_result"
    }
   ],
   "source": [
    "max(num5)"
   ]
  },
  {
   "cell_type": "code",
   "execution_count": 229,
   "id": "5482c99a-0fce-4e8f-a755-9e39f40c7854",
   "metadata": {},
   "outputs": [
    {
     "data": {
      "text/plain": [
       "76.80000000000001"
      ]
     },
     "execution_count": 229,
     "metadata": {},
     "output_type": "execute_result"
    }
   ],
   "source": [
    "sum(num5)"
   ]
  },
  {
   "cell_type": "code",
   "execution_count": 235,
   "id": "101fe8e3-db57-4e68-91ef-e4ec334db647",
   "metadata": {},
   "outputs": [],
   "source": [
    "num5.sort()            # ascending order"
   ]
  },
  {
   "cell_type": "code",
   "execution_count": 233,
   "id": "b6e2fac6-800e-45c4-b1b4-a1c41c19d33f",
   "metadata": {},
   "outputs": [
    {
     "data": {
      "text/plain": [
       "[2.4, 2.4, 5, 8, 10, 14, 15, 20]"
      ]
     },
     "execution_count": 233,
     "metadata": {},
     "output_type": "execute_result"
    }
   ],
   "source": [
    "num5"
   ]
  },
  {
   "cell_type": "markdown",
   "id": "9f7c7fcc-261c-4131-b239-1979657bcc80",
   "metadata": {},
   "source": [
    "# tuple"
   ]
  },
  {
   "cell_type": "code",
   "execution_count": 240,
   "id": "c4e11b01-a645-48da-bfb3-7203b528bc37",
   "metadata": {},
   "outputs": [
    {
     "data": {
      "text/plain": [
       "(15, 25, 45)"
      ]
     },
     "execution_count": 240,
     "metadata": {},
     "output_type": "execute_result"
    }
   ],
   "source": [
    "tup=(15,25,45)\n",
    "tup"
   ]
  },
  {
   "cell_type": "code",
   "execution_count": 242,
   "id": "a2645673-0b91-4651-a25c-c3d26f08883c",
   "metadata": {},
   "outputs": [
    {
     "data": {
      "text/plain": [
       "tuple"
      ]
     },
     "execution_count": 242,
     "metadata": {},
     "output_type": "execute_result"
    }
   ],
   "source": [
    "type(tup)"
   ]
  },
  {
   "cell_type": "code",
   "execution_count": 244,
   "id": "2393040d-4239-4c52-ba62-85c429304e26",
   "metadata": {},
   "outputs": [
    {
     "data": {
      "text/plain": [
       "15"
      ]
     },
     "execution_count": 244,
     "metadata": {},
     "output_type": "execute_result"
    }
   ],
   "source": [
    "tup[0]"
   ]
  },
  {
   "cell_type": "code",
   "execution_count": 246,
   "id": "f006f7db-3fd4-49b7-969e-926df7e701a9",
   "metadata": {},
   "outputs": [
    {
     "data": {
      "text/plain": [
       "45"
      ]
     },
     "execution_count": 246,
     "metadata": {},
     "output_type": "execute_result"
    }
   ],
   "source": [
    "tup[-1]"
   ]
  },
  {
   "cell_type": "code",
   "execution_count": 248,
   "id": "5358e7bb-a3c1-4559-9d0e-190955c79550",
   "metadata": {},
   "outputs": [
    {
     "data": {
      "text/plain": [
       "(15, 25, 45)"
      ]
     },
     "execution_count": 248,
     "metadata": {},
     "output_type": "execute_result"
    }
   ],
   "source": [
    "tup[:]"
   ]
  },
  {
   "cell_type": "code",
   "execution_count": 250,
   "id": "485efb9c-c7a1-48bd-a33c-489078f9512c",
   "metadata": {},
   "outputs": [
    {
     "data": {
      "text/plain": [
       "(45, 25, 15)"
      ]
     },
     "execution_count": 250,
     "metadata": {},
     "output_type": "execute_result"
    }
   ],
   "source": [
    "tup[::-1]"
   ]
  },
  {
   "cell_type": "markdown",
   "id": "d2ac995e-ec65-4e73-b006-acf18244280b",
   "metadata": {},
   "source": [
    "# set"
   ]
  },
  {
   "cell_type": "code",
   "execution_count": 253,
   "id": "997539fa-c51c-455b-8bfa-1da7c6d518d7",
   "metadata": {},
   "outputs": [],
   "source": [
    "s={}"
   ]
  },
  {
   "cell_type": "code",
   "execution_count": 255,
   "id": "f9d20363-c6ff-458c-9b99-69aa883eb054",
   "metadata": {},
   "outputs": [
    {
     "data": {
      "text/plain": [
       "dict"
      ]
     },
     "execution_count": 255,
     "metadata": {},
     "output_type": "execute_result"
    }
   ],
   "source": [
    "type(s)"
   ]
  },
  {
   "cell_type": "code",
   "execution_count": 257,
   "id": "d2fb961e-8c2e-49c5-ae02-b8945d62113a",
   "metadata": {},
   "outputs": [],
   "source": [
    "s={1,2,3}"
   ]
  },
  {
   "cell_type": "code",
   "execution_count": 259,
   "id": "49b835ba-717a-4a13-be40-67e6aadeec78",
   "metadata": {},
   "outputs": [
    {
     "data": {
      "text/plain": [
       "set"
      ]
     },
     "execution_count": 259,
     "metadata": {},
     "output_type": "execute_result"
    }
   ],
   "source": [
    "type(s)"
   ]
  },
  {
   "cell_type": "code",
   "execution_count": 261,
   "id": "9f0f322c-5554-4af1-ab92-1555c825cd4b",
   "metadata": {},
   "outputs": [],
   "source": [
    "s1={1,4,'p',False,10.4}"
   ]
  },
  {
   "cell_type": "markdown",
   "id": "49a648bf-2686-44e5-8feb-b5f25110bf28",
   "metadata": {},
   "source": [
    "# dictionary"
   ]
  },
  {
   "cell_type": "code",
   "execution_count": 269,
   "id": "1041bd40-b929-413a-82ca-5e380f1da705",
   "metadata": {},
   "outputs": [],
   "source": [
    "d={1:'apple',2:'banana',4:'orange'}"
   ]
  },
  {
   "cell_type": "code",
   "execution_count": 271,
   "id": "7780ebe4-7413-45c3-8336-9f2317f5105a",
   "metadata": {},
   "outputs": [
    {
     "data": {
      "text/plain": [
       "{1: 'apple', 2: 'banana', 4: 'orange'}"
      ]
     },
     "execution_count": 271,
     "metadata": {},
     "output_type": "execute_result"
    }
   ],
   "source": [
    "d"
   ]
  },
  {
   "cell_type": "code",
   "execution_count": 273,
   "id": "faea6324-344c-4df6-a06c-c4d270c4d22d",
   "metadata": {},
   "outputs": [
    {
     "data": {
      "text/plain": [
       "'banana'"
      ]
     },
     "execution_count": 273,
     "metadata": {},
     "output_type": "execute_result"
    }
   ],
   "source": [
    "d[2]"
   ]
  },
  {
   "cell_type": "code",
   "execution_count": 275,
   "id": "73447487-413b-4105-b827-613ca90b1368",
   "metadata": {},
   "outputs": [
    {
     "data": {
      "text/plain": [
       "'orange'"
      ]
     },
     "execution_count": 275,
     "metadata": {},
     "output_type": "execute_result"
    }
   ],
   "source": [
    "d[4]"
   ]
  },
  {
   "cell_type": "code",
   "execution_count": 277,
   "id": "a88152d4-2ac6-4e06-87d3-86056421244d",
   "metadata": {},
   "outputs": [
    {
     "data": {
      "text/plain": [
       "'banana'"
      ]
     },
     "execution_count": 277,
     "metadata": {},
     "output_type": "execute_result"
    }
   ],
   "source": [
    "d.get(2)"
   ]
  },
  {
   "cell_type": "code",
   "execution_count": 281,
   "id": "aba3887e-a6b7-4324-805b-51bb9065b34b",
   "metadata": {},
   "outputs": [
    {
     "name": "stdout",
     "output_type": "stream",
     "text": [
      "orange\n"
     ]
    }
   ],
   "source": [
    "print(d.get(4))"
   ]
  },
  {
   "cell_type": "code",
   "execution_count": 283,
   "id": "a0939c04-2e09-4697-adf3-ab7ff7ac56f3",
   "metadata": {},
   "outputs": [
    {
     "data": {
      "text/plain": [
       "'apple'"
      ]
     },
     "execution_count": 283,
     "metadata": {},
     "output_type": "execute_result"
    }
   ],
   "source": [
    "d.get(1,'not found')"
   ]
  },
  {
   "cell_type": "code",
   "execution_count": 287,
   "id": "db87dc49-e96a-4b10-8a76-b4b8435b7197",
   "metadata": {},
   "outputs": [
    {
     "data": {
      "text/plain": [
       "'not found'"
      ]
     },
     "execution_count": 287,
     "metadata": {},
     "output_type": "execute_result"
    }
   ],
   "source": [
    "d.get(3,'not found')"
   ]
  },
  {
   "cell_type": "code",
   "execution_count": 289,
   "id": "972ae3e8-98eb-4b41-93a5-a9fcf384ffdb",
   "metadata": {},
   "outputs": [
    {
     "data": {
      "text/plain": [
       "{1: 'apple', 2: 'banana', 4: 'orange'}"
      ]
     },
     "execution_count": 289,
     "metadata": {},
     "output_type": "execute_result"
    }
   ],
   "source": [
    "d"
   ]
  },
  {
   "cell_type": "code",
   "execution_count": 291,
   "id": "ea23f3a7-70f9-442c-8730-7f0490564c8b",
   "metadata": {},
   "outputs": [],
   "source": [
    "d[6]='grape'"
   ]
  },
  {
   "cell_type": "code",
   "execution_count": 293,
   "id": "698697a0-3ced-49c2-b0d8-bc731b3b8464",
   "metadata": {},
   "outputs": [
    {
     "data": {
      "text/plain": [
       "{1: 'apple', 2: 'banana', 4: 'orange', 6: 'grape'}"
      ]
     },
     "execution_count": 293,
     "metadata": {},
     "output_type": "execute_result"
    }
   ],
   "source": [
    "d"
   ]
  },
  {
   "cell_type": "code",
   "execution_count": 295,
   "id": "0dfafdee-fe8c-4724-8237-69ddff8eec4d",
   "metadata": {},
   "outputs": [],
   "source": [
    "del d[6]"
   ]
  },
  {
   "cell_type": "code",
   "execution_count": 297,
   "id": "4d66f6e1-89c5-45f2-bc12-ae2aa8fe83d6",
   "metadata": {},
   "outputs": [
    {
     "data": {
      "text/plain": [
       "{1: 'apple', 2: 'banana', 4: 'orange'}"
      ]
     },
     "execution_count": 297,
     "metadata": {},
     "output_type": "execute_result"
    }
   ],
   "source": [
    "d"
   ]
  },
  {
   "cell_type": "code",
   "execution_count": 301,
   "id": "ebb0ef0a-4c5a-4007-ba33-37a21f999b79",
   "metadata": {},
   "outputs": [],
   "source": [
    "prg = {'python':['vs code','pycharm'],'machine learning':'sklearn','datascience':['jupiter','spyder']}"
   ]
  },
  {
   "cell_type": "code",
   "execution_count": 303,
   "id": "026d3a92-af49-4fe1-b8d3-ae53823614b4",
   "metadata": {},
   "outputs": [
    {
     "data": {
      "text/plain": [
       "{'python': ['vs code', 'pycharm'],\n",
       " 'machine learning': 'sklearn',\n",
       " 'datascience': ['jupiter', 'spyder']}"
      ]
     },
     "execution_count": 303,
     "metadata": {},
     "output_type": "execute_result"
    }
   ],
   "source": [
    "prg"
   ]
  },
  {
   "cell_type": "code",
   "execution_count": 305,
   "id": "5df58d49-62da-4819-8221-d14c4d14afc4",
   "metadata": {},
   "outputs": [
    {
     "data": {
      "text/plain": [
       "['jupiter', 'spyder']"
      ]
     },
     "execution_count": 305,
     "metadata": {},
     "output_type": "execute_result"
    }
   ],
   "source": [
    "prg['datascience']"
   ]
  },
  {
   "cell_type": "code",
   "execution_count": 307,
   "id": "397a104c-6abe-490a-84b1-ed31d9871144",
   "metadata": {},
   "outputs": [
    {
     "data": {
      "text/plain": [
       "['vs code', 'pycharm']"
      ]
     },
     "execution_count": 307,
     "metadata": {},
     "output_type": "execute_result"
    }
   ],
   "source": [
    "prg['python']"
   ]
  },
  {
   "cell_type": "code",
   "execution_count": 309,
   "id": "cf113fac-8854-409a-9950-2886a74955dd",
   "metadata": {},
   "outputs": [
    {
     "data": {
      "text/plain": [
       "'sklearn'"
      ]
     },
     "execution_count": 309,
     "metadata": {},
     "output_type": "execute_result"
    }
   ],
   "source": [
    "prg['machine learning']"
   ]
  },
  {
   "cell_type": "markdown",
   "id": "1485dfd4-7b12-4d50-be94-9a439bf8a3cb",
   "metadata": {},
   "source": [
    "# introduce to id"
   ]
  },
  {
   "cell_type": "code",
   "execution_count": 312,
   "id": "b52e7717-fab0-43cc-817b-f52efe9bb3a0",
   "metadata": {},
   "outputs": [],
   "source": [
    "a = 5"
   ]
  },
  {
   "cell_type": "code",
   "execution_count": 314,
   "id": "f3d1a296-ff69-461d-a434-1329ea03bbee",
   "metadata": {},
   "outputs": [
    {
     "data": {
      "text/plain": [
       "140733515967032"
      ]
     },
     "execution_count": 314,
     "metadata": {},
     "output_type": "execute_result"
    }
   ],
   "source": [
    "id(a)"
   ]
  },
  {
   "cell_type": "code",
   "execution_count": 316,
   "id": "455976ed-1638-4a07-a0eb-eb4b67094218",
   "metadata": {},
   "outputs": [],
   "source": [
    "b=a"
   ]
  },
  {
   "cell_type": "code",
   "execution_count": 318,
   "id": "522cabb4-ed13-493e-bd4b-0a3937e84a14",
   "metadata": {},
   "outputs": [
    {
     "data": {
      "text/plain": [
       "140733515967032"
      ]
     },
     "execution_count": 318,
     "metadata": {},
     "output_type": "execute_result"
    }
   ],
   "source": [
    "id(b)"
   ]
  },
  {
   "cell_type": "code",
   "execution_count": 320,
   "id": "818e2d2c-8edd-45ee-b51d-e9d56d431eea",
   "metadata": {},
   "outputs": [],
   "source": [
    "a=10"
   ]
  },
  {
   "cell_type": "code",
   "execution_count": 324,
   "id": "324a5c3a-dc44-4c3d-857f-db9326761831",
   "metadata": {},
   "outputs": [
    {
     "data": {
      "text/plain": [
       "140733515967192"
      ]
     },
     "execution_count": 324,
     "metadata": {},
     "output_type": "execute_result"
    }
   ],
   "source": [
    "id(a)        # as we change the value of a id will also change"
   ]
  },
  {
   "cell_type": "code",
   "execution_count": 326,
   "id": "c2ca8b05-c115-4a1c-8f32-bac6f9045cd3",
   "metadata": {},
   "outputs": [],
   "source": [
    "a=5"
   ]
  },
  {
   "cell_type": "code",
   "execution_count": 328,
   "id": "ade159c7-0967-41d0-9c6f-13e6142bb542",
   "metadata": {},
   "outputs": [
    {
     "data": {
      "text/plain": [
       "140733515967032"
      ]
     },
     "execution_count": 328,
     "metadata": {},
     "output_type": "execute_result"
    }
   ],
   "source": [
    "id(a)"
   ]
  },
  {
   "cell_type": "code",
   "execution_count": 330,
   "id": "0992b987-92d2-4e1f-bc7f-96643adb2db6",
   "metadata": {},
   "outputs": [],
   "source": [
    "a=20"
   ]
  },
  {
   "cell_type": "code",
   "execution_count": 332,
   "id": "11092364-b568-4e90-95ef-e82165f3a228",
   "metadata": {},
   "outputs": [
    {
     "data": {
      "text/plain": [
       "140733515967512"
      ]
     },
     "execution_count": 332,
     "metadata": {},
     "output_type": "execute_result"
    }
   ],
   "source": [
    "id(a)"
   ]
  },
  {
   "cell_type": "code",
   "execution_count": 336,
   "id": "af941aa8-bcb3-478e-bace-f92d64034cab",
   "metadata": {},
   "outputs": [],
   "source": [
    "PI=3.14     # in math pi value remains constant but in python we can change"
   ]
  },
  {
   "cell_type": "code",
   "execution_count": 338,
   "id": "b2171d07-cb4f-4c1e-a814-c960e8b71c27",
   "metadata": {},
   "outputs": [],
   "source": [
    "PI=4"
   ]
  },
  {
   "cell_type": "code",
   "execution_count": 340,
   "id": "8c8c6dce-b4b5-42b0-ac99-c8fba1792994",
   "metadata": {},
   "outputs": [
    {
     "data": {
      "text/plain": [
       "4"
      ]
     },
     "execution_count": 340,
     "metadata": {},
     "output_type": "execute_result"
    }
   ],
   "source": [
    "PI"
   ]
  },
  {
   "cell_type": "code",
   "execution_count": 342,
   "id": "7d6e71cd-d06c-48cc-b644-4eae1490298e",
   "metadata": {},
   "outputs": [],
   "source": [
    "PI=10"
   ]
  },
  {
   "cell_type": "code",
   "execution_count": 344,
   "id": "c8781fb3-f47a-426d-bbfb-7b61f37fd0fb",
   "metadata": {},
   "outputs": [
    {
     "data": {
      "text/plain": [
       "10"
      ]
     },
     "execution_count": 344,
     "metadata": {},
     "output_type": "execute_result"
    }
   ],
   "source": [
    "PI"
   ]
  },
  {
   "cell_type": "markdown",
   "id": "9dcd9da5-c52a-4fc9-b492-6dfe12e26112",
   "metadata": {},
   "source": [
    "# data types & data structers"
   ]
  },
  {
   "cell_type": "code",
   "execution_count": 347,
   "id": "d1a88147-aea3-480a-a22d-fea3f2482762",
   "metadata": {},
   "outputs": [
    {
     "data": {
      "text/plain": [
       "2.5"
      ]
     },
     "execution_count": 347,
     "metadata": {},
     "output_type": "execute_result"
    }
   ],
   "source": [
    "w = 2.5\n",
    "w"
   ]
  },
  {
   "cell_type": "code",
   "execution_count": 349,
   "id": "b8b9dff6-9481-478d-a51b-d1908fa9dd0d",
   "metadata": {},
   "outputs": [
    {
     "data": {
      "text/plain": [
       "float"
      ]
     },
     "execution_count": 349,
     "metadata": {},
     "output_type": "execute_result"
    }
   ],
   "source": [
    "type(w)"
   ]
  },
  {
   "cell_type": "code",
   "execution_count": 353,
   "id": "67bc003d-d401-4cde-9245-7777f6cbf3e9",
   "metadata": {},
   "outputs": [
    {
     "data": {
      "text/plain": [
       "20"
      ]
     },
     "execution_count": 353,
     "metadata": {},
     "output_type": "execute_result"
    }
   ],
   "source": [
    "a"
   ]
  },
  {
   "cell_type": "code",
   "execution_count": 355,
   "id": "890fc52d-d76f-4723-a867-7411bb1e69d4",
   "metadata": {},
   "outputs": [
    {
     "data": {
      "text/plain": [
       "int"
      ]
     },
     "execution_count": 355,
     "metadata": {},
     "output_type": "execute_result"
    }
   ],
   "source": [
    "type(a)"
   ]
  },
  {
   "cell_type": "code",
   "execution_count": 357,
   "id": "a7dc8ce0-6c14-4c5b-9aa5-8d7a3571dd25",
   "metadata": {},
   "outputs": [],
   "source": [
    "w2=2+3j"
   ]
  },
  {
   "cell_type": "code",
   "execution_count": 361,
   "id": "43ffd6a6-7422-446e-aedd-3a8b1e5f2f34",
   "metadata": {},
   "outputs": [
    {
     "data": {
      "text/plain": [
       "complex"
      ]
     },
     "execution_count": 361,
     "metadata": {},
     "output_type": "execute_result"
    }
   ],
   "source": [
    "type(w2)"
   ]
  },
  {
   "cell_type": "code",
   "execution_count": 365,
   "id": "5161cb0e-1952-44a7-84d4-ce247c21b68b",
   "metadata": {},
   "outputs": [],
   "source": [
    "a= 5.6\n",
    "b=int(a)"
   ]
  },
  {
   "cell_type": "code",
   "execution_count": 367,
   "id": "391b331c-feaa-4401-bc4f-d6f407c4afe6",
   "metadata": {},
   "outputs": [
    {
     "data": {
      "text/plain": [
       "5"
      ]
     },
     "execution_count": 367,
     "metadata": {},
     "output_type": "execute_result"
    }
   ],
   "source": [
    "b"
   ]
  },
  {
   "cell_type": "code",
   "execution_count": 372,
   "id": "d69dee5f-e9e9-420e-a39d-4d968924ae3d",
   "metadata": {},
   "outputs": [
    {
     "data": {
      "text/plain": [
       "int"
      ]
     },
     "execution_count": 372,
     "metadata": {},
     "output_type": "execute_result"
    }
   ],
   "source": [
    "type(b)"
   ]
  },
  {
   "cell_type": "code",
   "execution_count": 374,
   "id": "cfeb4866-463a-45c3-870f-24178912dd71",
   "metadata": {},
   "outputs": [],
   "source": [
    "k=float(b)"
   ]
  },
  {
   "cell_type": "code",
   "execution_count": 376,
   "id": "fdce963e-77ec-4005-9e6b-85fe497adf5a",
   "metadata": {},
   "outputs": [
    {
     "data": {
      "text/plain": [
       "5.0"
      ]
     },
     "execution_count": 376,
     "metadata": {},
     "output_type": "execute_result"
    }
   ],
   "source": [
    "k"
   ]
  },
  {
   "cell_type": "code",
   "execution_count": 378,
   "id": "23e754c6-4f1f-480b-be20-ff4a895e9004",
   "metadata": {},
   "outputs": [
    {
     "data": {
      "text/plain": [
       "float"
      ]
     },
     "execution_count": 378,
     "metadata": {},
     "output_type": "execute_result"
    }
   ],
   "source": [
    "type(k)"
   ]
  },
  {
   "cell_type": "code",
   "execution_count": 380,
   "id": "c2fc7c84-4d00-4aab-9ab5-181c937898f8",
   "metadata": {},
   "outputs": [
    {
     "name": "stdout",
     "output_type": "stream",
     "text": [
      "5.6\n",
      "5\n",
      "5.0\n"
     ]
    }
   ],
   "source": [
    "print(a)\n",
    "print(b)\n",
    "print(k)"
   ]
  },
  {
   "cell_type": "code",
   "execution_count": 382,
   "id": "a9be5225-2726-4b52-b26d-8d0dcf80e01e",
   "metadata": {},
   "outputs": [],
   "source": [
    "k1=complex(b,k)"
   ]
  },
  {
   "cell_type": "code",
   "execution_count": 384,
   "id": "077c8aeb-5f2d-4b6f-a8ab-fbaa07d07700",
   "metadata": {},
   "outputs": [
    {
     "data": {
      "text/plain": [
       "(5+5j)"
      ]
     },
     "execution_count": 384,
     "metadata": {},
     "output_type": "execute_result"
    }
   ],
   "source": [
    "k1"
   ]
  },
  {
   "cell_type": "code",
   "execution_count": 386,
   "id": "c88bfd26-5a1c-4571-8e48-cd092e8ce46d",
   "metadata": {},
   "outputs": [
    {
     "data": {
      "text/plain": [
       "complex"
      ]
     },
     "execution_count": 386,
     "metadata": {},
     "output_type": "execute_result"
    }
   ],
   "source": [
    "type(k1)"
   ]
  },
  {
   "cell_type": "code",
   "execution_count": 388,
   "id": "1746ceec-af7d-420a-ae06-41b215bee81d",
   "metadata": {},
   "outputs": [
    {
     "data": {
      "text/plain": [
       "False"
      ]
     },
     "execution_count": 388,
     "metadata": {},
     "output_type": "execute_result"
    }
   ],
   "source": [
    "b<k"
   ]
  },
  {
   "cell_type": "code",
   "execution_count": 390,
   "id": "5e6d0533-dbe8-4de6-ac24-28b321c3ee1c",
   "metadata": {},
   "outputs": [],
   "source": [
    "condition = b<k"
   ]
  },
  {
   "cell_type": "code",
   "execution_count": 392,
   "id": "4aeaeb9f-3831-4e7a-86a4-a4126f427c41",
   "metadata": {},
   "outputs": [
    {
     "data": {
      "text/plain": [
       "False"
      ]
     },
     "execution_count": 392,
     "metadata": {},
     "output_type": "execute_result"
    }
   ],
   "source": [
    "condition"
   ]
  },
  {
   "cell_type": "code",
   "execution_count": 394,
   "id": "3683c678-a93d-49c1-8a52-8947407f17a9",
   "metadata": {},
   "outputs": [
    {
     "data": {
      "text/plain": [
       "bool"
      ]
     },
     "execution_count": 394,
     "metadata": {},
     "output_type": "execute_result"
    }
   ],
   "source": [
    "type(condition)"
   ]
  },
  {
   "cell_type": "code",
   "execution_count": 396,
   "id": "07d260b8-5b13-4565-8798-42af56867397",
   "metadata": {},
   "outputs": [
    {
     "data": {
      "text/plain": [
       "1"
      ]
     },
     "execution_count": 396,
     "metadata": {},
     "output_type": "execute_result"
    }
   ],
   "source": [
    "int(True)"
   ]
  },
  {
   "cell_type": "code",
   "execution_count": 398,
   "id": "b6d559a9-83c2-437a-996a-708e35506085",
   "metadata": {},
   "outputs": [
    {
     "data": {
      "text/plain": [
       "0"
      ]
     },
     "execution_count": 398,
     "metadata": {},
     "output_type": "execute_result"
    }
   ],
   "source": [
    "int(False)"
   ]
  },
  {
   "cell_type": "code",
   "execution_count": 400,
   "id": "3e813672-a572-4f94-bd7c-2940a774ce70",
   "metadata": {},
   "outputs": [
    {
     "name": "stdout",
     "output_type": "stream",
     "text": [
      "[1, 2, 3, 4]\n"
     ]
    }
   ],
   "source": [
    "l=[1,2,3,4]\n",
    "print(l)"
   ]
  },
  {
   "cell_type": "code",
   "execution_count": 402,
   "id": "085bcaee-5be6-4b13-9666-35e6b004c573",
   "metadata": {},
   "outputs": [
    {
     "data": {
      "text/plain": [
       "list"
      ]
     },
     "execution_count": 402,
     "metadata": {},
     "output_type": "execute_result"
    }
   ],
   "source": [
    "type(l)"
   ]
  },
  {
   "cell_type": "code",
   "execution_count": 404,
   "id": "4f5553fb-fbee-4d2a-bdaf-fa56c9fb6b60",
   "metadata": {},
   "outputs": [
    {
     "name": "stdout",
     "output_type": "stream",
     "text": [
      "{1, 2, 3, 4}\n"
     ]
    }
   ],
   "source": [
    "s={1,2,3,4}\n",
    "print(s)"
   ]
  },
  {
   "cell_type": "code",
   "execution_count": 406,
   "id": "aef7d028-074b-45aa-a725-9feb12f033cb",
   "metadata": {},
   "outputs": [
    {
     "data": {
      "text/plain": [
       "set"
      ]
     },
     "execution_count": 406,
     "metadata": {},
     "output_type": "execute_result"
    }
   ],
   "source": [
    "type(s)"
   ]
  },
  {
   "cell_type": "code",
   "execution_count": 408,
   "id": "e5c78ab3-ea88-4dd8-9fc7-77089cb16420",
   "metadata": {},
   "outputs": [
    {
     "data": {
      "text/plain": [
       "(1, 2, 3, 5)"
      ]
     },
     "execution_count": 408,
     "metadata": {},
     "output_type": "execute_result"
    }
   ],
   "source": [
    "t=(1,2,3,5)\n",
    "t"
   ]
  },
  {
   "cell_type": "code",
   "execution_count": 410,
   "id": "af911050-9de9-4fc7-a80f-41a1d1146bce",
   "metadata": {},
   "outputs": [
    {
     "data": {
      "text/plain": [
       "tuple"
      ]
     },
     "execution_count": 410,
     "metadata": {},
     "output_type": "execute_result"
    }
   ],
   "source": [
    "type(t)"
   ]
  },
  {
   "cell_type": "code",
   "execution_count": 412,
   "id": "165f5841-0494-4e7f-8c15-239c26ecded8",
   "metadata": {},
   "outputs": [],
   "source": [
    "st = 'p'"
   ]
  },
  {
   "cell_type": "code",
   "execution_count": 414,
   "id": "8db2cc85-4f2d-42f9-ad66-e0e4c16d716e",
   "metadata": {},
   "outputs": [
    {
     "data": {
      "text/plain": [
       "str"
      ]
     },
     "execution_count": 414,
     "metadata": {},
     "output_type": "execute_result"
    }
   ],
   "source": [
    "type(st)"
   ]
  },
  {
   "cell_type": "markdown",
   "id": "33dd2d47-1f1b-4f8f-8eaf-037d5963a931",
   "metadata": {},
   "source": [
    "# range"
   ]
  },
  {
   "cell_type": "code",
   "execution_count": 417,
   "id": "d4d44063-87de-4d1d-ae0c-8a0d2f0db25f",
   "metadata": {},
   "outputs": [
    {
     "data": {
      "text/plain": [
       "range(0, 10)"
      ]
     },
     "execution_count": 417,
     "metadata": {},
     "output_type": "execute_result"
    }
   ],
   "source": [
    "r=range(0,10)\n",
    "r"
   ]
  },
  {
   "cell_type": "code",
   "execution_count": 419,
   "id": "426b8067-2d26-4962-a24b-bbc35f0ca289",
   "metadata": {},
   "outputs": [
    {
     "data": {
      "text/plain": [
       "range"
      ]
     },
     "execution_count": 419,
     "metadata": {},
     "output_type": "execute_result"
    }
   ],
   "source": [
    "type(r)"
   ]
  },
  {
   "cell_type": "code",
   "execution_count": 421,
   "id": "d943957f-2b13-4030-86f0-7c7d6fc71345",
   "metadata": {},
   "outputs": [
    {
     "data": {
      "text/plain": [
       "[0, 1, 2, 3, 4, 5, 6, 7, 8, 9]"
      ]
     },
     "execution_count": 421,
     "metadata": {},
     "output_type": "execute_result"
    }
   ],
   "source": [
    "list(range(0,10))"
   ]
  },
  {
   "cell_type": "code",
   "execution_count": 423,
   "id": "f99e3264-7b5c-47d3-a3ae-8f852e96a30f",
   "metadata": {},
   "outputs": [
    {
     "data": {
      "text/plain": [
       "{0, 1, 2, 3, 4, 5, 6, 7, 8, 9}"
      ]
     },
     "execution_count": 423,
     "metadata": {},
     "output_type": "execute_result"
    }
   ],
   "source": [
    "set(range(0,10))"
   ]
  },
  {
   "cell_type": "code",
   "execution_count": 425,
   "id": "4bb0f5e2-a9b2-4d58-8cf3-2bb807951c3c",
   "metadata": {},
   "outputs": [
    {
     "data": {
      "text/plain": [
       "(1, 2, 3, 4, 5, 6, 7, 8, 9)"
      ]
     },
     "execution_count": 425,
     "metadata": {},
     "output_type": "execute_result"
    }
   ],
   "source": [
    "tuple(range(1,10))"
   ]
  },
  {
   "cell_type": "code",
   "execution_count": 432,
   "id": "3a076045-cae4-49c8-8464-ca8cea6ae84f",
   "metadata": {},
   "outputs": [
    {
     "data": {
      "text/plain": [
       "[0, 1, 2, 3, 4, 5, 6, 7, 8, 9]"
      ]
     },
     "execution_count": 432,
     "metadata": {},
     "output_type": "execute_result"
    }
   ],
   "source": [
    "r1=list(r)\n",
    "r1"
   ]
  },
  {
   "cell_type": "code",
   "execution_count": 438,
   "id": "02c3b92a-1b21-4dbb-934a-74d779da5ac0",
   "metadata": {},
   "outputs": [
    {
     "data": {
      "text/plain": [
       "[0, 2, 4, 6, 8, 10, 12, 14, 16, 18]"
      ]
     },
     "execution_count": 438,
     "metadata": {},
     "output_type": "execute_result"
    }
   ],
   "source": [
    "even_numb=list(range(0,20,2))\n",
    "even_numb"
   ]
  },
  {
   "cell_type": "code",
   "execution_count": 440,
   "id": "f54682a8-9f7f-4299-90cc-dcdfe1a8fbf4",
   "metadata": {},
   "outputs": [
    {
     "data": {
      "text/plain": [
       "{1: 'one', 2: 'two', 3: 'three'}"
      ]
     },
     "execution_count": 440,
     "metadata": {},
     "output_type": "execute_result"
    }
   ],
   "source": [
    "d={1:'one',2:'two',3:'three'}\n",
    "d"
   ]
  },
  {
   "cell_type": "code",
   "execution_count": 446,
   "id": "10019c96-0ac9-47f9-a8a1-497c71111b35",
   "metadata": {},
   "outputs": [
    {
     "data": {
      "text/plain": [
       "dict"
      ]
     },
     "execution_count": 446,
     "metadata": {},
     "output_type": "execute_result"
    }
   ],
   "source": [
    "type(d)"
   ]
  },
  {
   "cell_type": "code",
   "execution_count": 442,
   "id": "86b4706e-9647-40ee-b3af-cdf2b6538ca0",
   "metadata": {},
   "outputs": [
    {
     "data": {
      "text/plain": [
       "dict_keys([1, 2, 3])"
      ]
     },
     "execution_count": 442,
     "metadata": {},
     "output_type": "execute_result"
    }
   ],
   "source": [
    "d.keys()"
   ]
  },
  {
   "cell_type": "code",
   "execution_count": 444,
   "id": "96f1919f-f39e-49a6-bcac-8387510f6811",
   "metadata": {},
   "outputs": [
    {
     "data": {
      "text/plain": [
       "dict_values(['one', 'two', 'three'])"
      ]
     },
     "execution_count": 444,
     "metadata": {},
     "output_type": "execute_result"
    }
   ],
   "source": [
    "d.values()"
   ]
  },
  {
   "cell_type": "code",
   "execution_count": 450,
   "id": "910b1b31-9eee-41d4-b5f1-523681e47750",
   "metadata": {},
   "outputs": [
    {
     "data": {
      "text/plain": [
       "'three'"
      ]
     },
     "execution_count": 450,
     "metadata": {},
     "output_type": "execute_result"
    }
   ],
   "source": [
    "d[3]         # this is one way to get specified values"
   ]
  },
  {
   "cell_type": "code",
   "execution_count": 452,
   "id": "61b41dd1-0911-4678-aff7-b445545bc292",
   "metadata": {},
   "outputs": [
    {
     "data": {
      "text/plain": [
       "'three'"
      ]
     },
     "execution_count": 452,
     "metadata": {},
     "output_type": "execute_result"
    }
   ],
   "source": [
    "d.get(3)         # this is another way to get values"
   ]
  },
  {
   "cell_type": "markdown",
   "id": "6bc2e551-7a54-472c-9ca7-b68f2272f1ae",
   "metadata": {},
   "source": [
    "# operations in python"
   ]
  },
  {
   "cell_type": "markdown",
   "id": "8320aab7-16d4-4180-8aac-824492b1d3c2",
   "metadata": {},
   "source": [
    "# 1. Arithmetic operator"
   ]
  },
  {
   "cell_type": "code",
   "execution_count": 456,
   "id": "be45ff9f-7f8c-4b9f-a66c-fb002d92f985",
   "metadata": {},
   "outputs": [],
   "source": [
    "x1,y1=10,5"
   ]
  },
  {
   "cell_type": "code",
   "execution_count": 458,
   "id": "bf7c8e7c-4816-45d0-b736-3325a2a0ef61",
   "metadata": {},
   "outputs": [
    {
     "data": {
      "text/plain": [
       "15"
      ]
     },
     "execution_count": 458,
     "metadata": {},
     "output_type": "execute_result"
    }
   ],
   "source": [
    "x1+y1"
   ]
  },
  {
   "cell_type": "code",
   "execution_count": 460,
   "id": "4d241460-85ba-41fe-82cd-ad66fa7e00d5",
   "metadata": {},
   "outputs": [
    {
     "data": {
      "text/plain": [
       "5"
      ]
     },
     "execution_count": 460,
     "metadata": {},
     "output_type": "execute_result"
    }
   ],
   "source": [
    "x1-y1"
   ]
  },
  {
   "cell_type": "code",
   "execution_count": 462,
   "id": "9dbde842-8516-495e-a699-84f9810ac9e6",
   "metadata": {},
   "outputs": [
    {
     "data": {
      "text/plain": [
       "50"
      ]
     },
     "execution_count": 462,
     "metadata": {},
     "output_type": "execute_result"
    }
   ],
   "source": [
    "x1*y1"
   ]
  },
  {
   "cell_type": "code",
   "execution_count": 464,
   "id": "df601c6b-efbe-4c31-afca-cd2451526eba",
   "metadata": {},
   "outputs": [
    {
     "data": {
      "text/plain": [
       "2.0"
      ]
     },
     "execution_count": 464,
     "metadata": {},
     "output_type": "execute_result"
    }
   ],
   "source": [
    "x1/y1"
   ]
  },
  {
   "cell_type": "code",
   "execution_count": 466,
   "id": "c95d63cc-0778-4856-a6bb-e37915c1b0bb",
   "metadata": {},
   "outputs": [
    {
     "data": {
      "text/plain": [
       "2"
      ]
     },
     "execution_count": 466,
     "metadata": {},
     "output_type": "execute_result"
    }
   ],
   "source": [
    "x1//y1"
   ]
  },
  {
   "cell_type": "code",
   "execution_count": 468,
   "id": "9051c960-4e8e-49e7-aa86-564cf5734fd5",
   "metadata": {},
   "outputs": [
    {
     "data": {
      "text/plain": [
       "0"
      ]
     },
     "execution_count": 468,
     "metadata": {},
     "output_type": "execute_result"
    }
   ],
   "source": [
    "x1%y1"
   ]
  },
  {
   "cell_type": "code",
   "execution_count": 470,
   "id": "ae790abe-56fe-4de7-b961-7c563bf504a7",
   "metadata": {},
   "outputs": [
    {
     "data": {
      "text/plain": [
       "100000"
      ]
     },
     "execution_count": 470,
     "metadata": {},
     "output_type": "execute_result"
    }
   ],
   "source": [
    "x1 ** y1"
   ]
  },
  {
   "cell_type": "code",
   "execution_count": 472,
   "id": "6d140098-788a-4170-9cde-2ea5f43c43df",
   "metadata": {},
   "outputs": [
    {
     "data": {
      "text/plain": [
       "8"
      ]
     },
     "execution_count": 472,
     "metadata": {},
     "output_type": "execute_result"
    }
   ],
   "source": [
    "2 ** 3"
   ]
  },
  {
   "cell_type": "markdown",
   "id": "72462820-f5e2-4e18-91ba-b31befcf273f",
   "metadata": {},
   "source": [
    "# Assaignment Operator"
   ]
  },
  {
   "cell_type": "code",
   "execution_count": 475,
   "id": "046e298a-92c7-4200-b3fa-c0034bbcbe8a",
   "metadata": {},
   "outputs": [],
   "source": [
    "x=2"
   ]
  },
  {
   "cell_type": "code",
   "execution_count": 477,
   "id": "b33a80a8-c57d-419c-b879-06b0d3d9aff4",
   "metadata": {},
   "outputs": [],
   "source": [
    "x=x+2"
   ]
  },
  {
   "cell_type": "code",
   "execution_count": 479,
   "id": "9e9c05c3-2178-4858-b91b-b6dd84eac7a3",
   "metadata": {},
   "outputs": [
    {
     "data": {
      "text/plain": [
       "4"
      ]
     },
     "execution_count": 479,
     "metadata": {},
     "output_type": "execute_result"
    }
   ],
   "source": [
    "x"
   ]
  },
  {
   "cell_type": "code",
   "execution_count": 481,
   "id": "45049138-55d1-43f1-bbca-6f5df63459db",
   "metadata": {},
   "outputs": [],
   "source": [
    "x +=2"
   ]
  },
  {
   "cell_type": "code",
   "execution_count": 483,
   "id": "7f1b8e24-8fcd-4d9c-ab3c-a6165c77dbce",
   "metadata": {},
   "outputs": [
    {
     "data": {
      "text/plain": [
       "6"
      ]
     },
     "execution_count": 483,
     "metadata": {},
     "output_type": "execute_result"
    }
   ],
   "source": [
    "x"
   ]
  },
  {
   "cell_type": "code",
   "execution_count": 485,
   "id": "2de9e233-6cc8-4fc6-ac02-a8f9e28a0206",
   "metadata": {},
   "outputs": [],
   "source": [
    "x +=2"
   ]
  },
  {
   "cell_type": "code",
   "execution_count": 487,
   "id": "65d0fdc5-1c44-47a1-bae0-8664aad0cc7d",
   "metadata": {},
   "outputs": [
    {
     "data": {
      "text/plain": [
       "8"
      ]
     },
     "execution_count": 487,
     "metadata": {},
     "output_type": "execute_result"
    }
   ],
   "source": [
    "x"
   ]
  },
  {
   "cell_type": "code",
   "execution_count": 489,
   "id": "13f92323-124c-472a-8541-eb0341427461",
   "metadata": {},
   "outputs": [],
   "source": [
    "x*=2"
   ]
  },
  {
   "cell_type": "code",
   "execution_count": 491,
   "id": "772e754e-009a-4575-a906-1bd347884a16",
   "metadata": {},
   "outputs": [
    {
     "data": {
      "text/plain": [
       "16"
      ]
     },
     "execution_count": 491,
     "metadata": {},
     "output_type": "execute_result"
    }
   ],
   "source": [
    "x"
   ]
  },
  {
   "cell_type": "code",
   "execution_count": 493,
   "id": "7ba23547-16d2-40a2-a0e8-1b476034e706",
   "metadata": {},
   "outputs": [],
   "source": [
    "x*=2"
   ]
  },
  {
   "cell_type": "code",
   "execution_count": 495,
   "id": "0939854a-9bef-4098-9046-12c3903739aa",
   "metadata": {},
   "outputs": [
    {
     "data": {
      "text/plain": [
       "32"
      ]
     },
     "execution_count": 495,
     "metadata": {},
     "output_type": "execute_result"
    }
   ],
   "source": [
    "x"
   ]
  },
  {
   "cell_type": "code",
   "execution_count": 497,
   "id": "b45a9389-c28b-4c41-b6d1-3ccd73b99911",
   "metadata": {},
   "outputs": [],
   "source": [
    "x-=2"
   ]
  },
  {
   "cell_type": "code",
   "execution_count": 499,
   "id": "d97f4e86-b1ac-48de-8549-f94cc5ec2a52",
   "metadata": {},
   "outputs": [
    {
     "data": {
      "text/plain": [
       "30"
      ]
     },
     "execution_count": 499,
     "metadata": {},
     "output_type": "execute_result"
    }
   ],
   "source": [
    "x"
   ]
  },
  {
   "cell_type": "code",
   "execution_count": 501,
   "id": "785081cf-6dfc-45ce-8843-64f98543e636",
   "metadata": {},
   "outputs": [],
   "source": [
    "x-=2"
   ]
  },
  {
   "cell_type": "code",
   "execution_count": 503,
   "id": "c7c0a51d-1241-43a4-9ee4-d921d201ef92",
   "metadata": {},
   "outputs": [
    {
     "data": {
      "text/plain": [
       "28"
      ]
     },
     "execution_count": 503,
     "metadata": {},
     "output_type": "execute_result"
    }
   ],
   "source": [
    "x"
   ]
  },
  {
   "cell_type": "code",
   "execution_count": 505,
   "id": "fc157852-7fb3-4260-971c-33fb8efa43d8",
   "metadata": {},
   "outputs": [],
   "source": [
    "x/=2"
   ]
  },
  {
   "cell_type": "code",
   "execution_count": 507,
   "id": "7ce9d690-5d7f-452d-8530-306abfb80a69",
   "metadata": {},
   "outputs": [
    {
     "data": {
      "text/plain": [
       "14.0"
      ]
     },
     "execution_count": 507,
     "metadata": {},
     "output_type": "execute_result"
    }
   ],
   "source": [
    "x"
   ]
  },
  {
   "cell_type": "code",
   "execution_count": 509,
   "id": "d57cfc63-9877-4f7e-bbdc-2eabb2e7d91d",
   "metadata": {},
   "outputs": [],
   "source": [
    "x//=2"
   ]
  },
  {
   "cell_type": "code",
   "execution_count": 511,
   "id": "a1378ad5-e38d-41c0-b9fb-dece03e98382",
   "metadata": {},
   "outputs": [
    {
     "data": {
      "text/plain": [
       "7.0"
      ]
     },
     "execution_count": 511,
     "metadata": {},
     "output_type": "execute_result"
    }
   ],
   "source": [
    "x"
   ]
  },
  {
   "cell_type": "code",
   "execution_count": 513,
   "id": "ac9b8914-654d-478b-a266-2f1991109752",
   "metadata": {},
   "outputs": [
    {
     "data": {
      "text/plain": [
       "7"
      ]
     },
     "execution_count": 513,
     "metadata": {},
     "output_type": "execute_result"
    }
   ],
   "source": [
    "int(x)"
   ]
  },
  {
   "cell_type": "markdown",
   "id": "67bd2cc8-670b-4cc8-a155-befd81f3b292",
   "metadata": {},
   "source": [
    "# unary operator"
   ]
  },
  {
   "cell_type": "code",
   "execution_count": 516,
   "id": "ba76443d-67c9-4863-989e-c5daaf161f1d",
   "metadata": {},
   "outputs": [],
   "source": [
    "a=7"
   ]
  },
  {
   "cell_type": "code",
   "execution_count": 522,
   "id": "fcb0431c-e8b9-4618-8a09-de53893f5fb9",
   "metadata": {},
   "outputs": [],
   "source": [
    "b=-(a)           # negation"
   ]
  },
  {
   "cell_type": "code",
   "execution_count": 520,
   "id": "a9ff0660-673e-4ff8-900a-51cfcb361ffc",
   "metadata": {},
   "outputs": [
    {
     "data": {
      "text/plain": [
       "-7"
      ]
     },
     "execution_count": 520,
     "metadata": {},
     "output_type": "execute_result"
    }
   ],
   "source": [
    "b"
   ]
  },
  {
   "cell_type": "code",
   "execution_count": 524,
   "id": "38947dff-5a53-4a22-be18-5986b1c7e424",
   "metadata": {},
   "outputs": [],
   "source": [
    "c=5"
   ]
  },
  {
   "cell_type": "code",
   "execution_count": 526,
   "id": "c0371915-6931-4dc0-9463-0990a57d26e8",
   "metadata": {},
   "outputs": [],
   "source": [
    "c1=-c"
   ]
  },
  {
   "cell_type": "code",
   "execution_count": 528,
   "id": "3af7ece4-8ca9-45a7-a7bb-0bfeaf945c4b",
   "metadata": {},
   "outputs": [
    {
     "data": {
      "text/plain": [
       "-5"
      ]
     },
     "execution_count": 528,
     "metadata": {},
     "output_type": "execute_result"
    }
   ],
   "source": [
    "c1"
   ]
  },
  {
   "cell_type": "markdown",
   "id": "af79918f-ad8f-446b-8c1e-bb6aa4ac1df7",
   "metadata": {},
   "source": [
    "# logical operator"
   ]
  },
  {
   "cell_type": "code",
   "execution_count": 531,
   "id": "2c8405ec-e179-4341-8e14-3d1649a647ba",
   "metadata": {},
   "outputs": [],
   "source": [
    "a=5\n",
    "b=7"
   ]
  },
  {
   "cell_type": "code",
   "execution_count": 533,
   "id": "17d016bd-f968-45ce-8228-414f28e56522",
   "metadata": {},
   "outputs": [
    {
     "data": {
      "text/plain": [
       "False"
      ]
     },
     "execution_count": 533,
     "metadata": {},
     "output_type": "execute_result"
    }
   ],
   "source": [
    "a==b"
   ]
  },
  {
   "cell_type": "code",
   "execution_count": 535,
   "id": "f93013d8-56e8-46f9-90b1-9e061fa7e11c",
   "metadata": {},
   "outputs": [
    {
     "data": {
      "text/plain": [
       "True"
      ]
     },
     "execution_count": 535,
     "metadata": {},
     "output_type": "execute_result"
    }
   ],
   "source": [
    "a<b"
   ]
  },
  {
   "cell_type": "code",
   "execution_count": 537,
   "id": "d9266c35-5638-41f2-b2e1-4ea3fb894e8e",
   "metadata": {},
   "outputs": [
    {
     "data": {
      "text/plain": [
       "False"
      ]
     },
     "execution_count": 537,
     "metadata": {},
     "output_type": "execute_result"
    }
   ],
   "source": [
    "a>b"
   ]
  },
  {
   "cell_type": "code",
   "execution_count": 539,
   "id": "5af174c0-f072-485e-bd1c-32e430c85f47",
   "metadata": {},
   "outputs": [
    {
     "data": {
      "text/plain": [
       "True"
      ]
     },
     "execution_count": 539,
     "metadata": {},
     "output_type": "execute_result"
    }
   ],
   "source": [
    "b>a"
   ]
  },
  {
   "cell_type": "code",
   "execution_count": 541,
   "id": "47f3e288-5be3-425e-94d3-9f836589f262",
   "metadata": {},
   "outputs": [
    {
     "data": {
      "text/plain": [
       "True"
      ]
     },
     "execution_count": 541,
     "metadata": {},
     "output_type": "execute_result"
    }
   ],
   "source": [
    "a<=b"
   ]
  },
  {
   "cell_type": "code",
   "execution_count": 543,
   "id": "56e28d8e-ea2e-43e5-ae49-2c0682abf2b5",
   "metadata": {},
   "outputs": [
    {
     "data": {
      "text/plain": [
       "False"
      ]
     },
     "execution_count": 543,
     "metadata": {},
     "output_type": "execute_result"
    }
   ],
   "source": [
    "a>=b"
   ]
  },
  {
   "cell_type": "code",
   "execution_count": 545,
   "id": "815c41ed-4119-4901-888b-e85a18448b9e",
   "metadata": {},
   "outputs": [
    {
     "data": {
      "text/plain": [
       "False"
      ]
     },
     "execution_count": 545,
     "metadata": {},
     "output_type": "execute_result"
    }
   ],
   "source": [
    "b<=a"
   ]
  },
  {
   "cell_type": "code",
   "execution_count": 549,
   "id": "8212c97d-07b8-491f-b973-88e36094db2b",
   "metadata": {},
   "outputs": [
    {
     "data": {
      "text/plain": [
       "True"
      ]
     },
     "execution_count": 549,
     "metadata": {},
     "output_type": "execute_result"
    }
   ],
   "source": [
    "b>=a"
   ]
  },
  {
   "cell_type": "code",
   "execution_count": 551,
   "id": "469229ed-5b4c-4c37-8f85-0d9060f89e7a",
   "metadata": {},
   "outputs": [
    {
     "data": {
      "text/plain": [
       "True"
      ]
     },
     "execution_count": 551,
     "metadata": {},
     "output_type": "execute_result"
    }
   ],
   "source": [
    "a!=b"
   ]
  },
  {
   "cell_type": "markdown",
   "id": "a18fdb44-0356-4e26-8b9c-dd9719fc12f6",
   "metadata": {},
   "source": [
    "# logical operator"
   ]
  },
  {
   "cell_type": "code",
   "execution_count": 554,
   "id": "f694e47e-2763-463d-b519-25fe8c907e9e",
   "metadata": {},
   "outputs": [],
   "source": [
    "a = 5\n",
    "b = 4"
   ]
  },
  {
   "cell_type": "code",
   "execution_count": 556,
   "id": "862ccf84-b878-4963-920a-2e96a39d9be6",
   "metadata": {},
   "outputs": [
    {
     "data": {
      "text/plain": [
       "True"
      ]
     },
     "execution_count": 556,
     "metadata": {},
     "output_type": "execute_result"
    }
   ],
   "source": [
    "a<8 and b<a"
   ]
  },
  {
   "cell_type": "code",
   "execution_count": 558,
   "id": "414353d9-c5fe-45a9-aad4-ed864cdd6ddc",
   "metadata": {},
   "outputs": [
    {
     "data": {
      "text/plain": [
       "False"
      ]
     },
     "execution_count": 558,
     "metadata": {},
     "output_type": "execute_result"
    }
   ],
   "source": [
    "a<8 and b<2"
   ]
  },
  {
   "cell_type": "code",
   "execution_count": 560,
   "id": "488c2c8a-b0fb-4d79-bf3a-172a24acbf19",
   "metadata": {},
   "outputs": [
    {
     "data": {
      "text/plain": [
       "True"
      ]
     },
     "execution_count": 560,
     "metadata": {},
     "output_type": "execute_result"
    }
   ],
   "source": [
    "a < 8 or b < 2"
   ]
  },
  {
   "cell_type": "code",
   "execution_count": 562,
   "id": "8880437c-35dd-4d27-af94-68d1c87e77af",
   "metadata": {},
   "outputs": [
    {
     "data": {
      "text/plain": [
       "False"
      ]
     },
     "execution_count": 562,
     "metadata": {},
     "output_type": "execute_result"
    }
   ],
   "source": [
    "a>8 or b<2"
   ]
  },
  {
   "cell_type": "markdown",
   "id": "99cfac20-b13a-40db-b64a-bddb9d74bb4d",
   "metadata": {},
   "source": [
    "# Not operator"
   ]
  },
  {
   "cell_type": "code",
   "execution_count": 564,
   "id": "8c5785b2-c0a4-4f28-9293-c0d78f9d3a0a",
   "metadata": {},
   "outputs": [
    {
     "data": {
      "text/plain": [
       "False"
      ]
     },
     "execution_count": 564,
     "metadata": {},
     "output_type": "execute_result"
    }
   ],
   "source": [
    "x= False\n",
    "x"
   ]
  },
  {
   "cell_type": "code",
   "execution_count": 566,
   "id": "bc3c3cdd-65c2-4741-be76-e34b7191e38e",
   "metadata": {},
   "outputs": [
    {
     "data": {
      "text/plain": [
       "True"
      ]
     },
     "execution_count": 566,
     "metadata": {},
     "output_type": "execute_result"
    }
   ],
   "source": [
    "not x"
   ]
  },
  {
   "cell_type": "code",
   "execution_count": 568,
   "id": "7c9cceb0-4664-4927-95a7-a44412106ed1",
   "metadata": {},
   "outputs": [
    {
     "data": {
      "text/plain": [
       "False"
      ]
     },
     "execution_count": 568,
     "metadata": {},
     "output_type": "execute_result"
    }
   ],
   "source": [
    "y= False\n",
    "y"
   ]
  },
  {
   "cell_type": "code",
   "execution_count": 570,
   "id": "a97a6027-bdba-454c-aab8-50a01a28a7b3",
   "metadata": {},
   "outputs": [
    {
     "data": {
      "text/plain": [
       "True"
      ]
     },
     "execution_count": 570,
     "metadata": {},
     "output_type": "execute_result"
    }
   ],
   "source": [
    "not y"
   ]
  },
  {
   "cell_type": "code",
   "execution_count": 573,
   "id": "0f58000e-190b-4bed-89db-6e08898d000e",
   "metadata": {},
   "outputs": [],
   "source": [
    "a,b,c= 10,5,10"
   ]
  },
  {
   "cell_type": "code",
   "execution_count": 575,
   "id": "f67d3cce-62bd-4d90-8197-14eabe06436f",
   "metadata": {},
   "outputs": [
    {
     "name": "stdout",
     "output_type": "stream",
     "text": [
      "10\n",
      "5\n",
      "10\n"
     ]
    }
   ],
   "source": [
    "print(a)\n",
    "print(b)\n",
    "print(c)"
   ]
  },
  {
   "cell_type": "code",
   "execution_count": 577,
   "id": "62046db4-0a68-48ca-bc9d-0ac8b445c2c5",
   "metadata": {},
   "outputs": [],
   "source": [
    "d = (a==c)"
   ]
  },
  {
   "cell_type": "code",
   "execution_count": 579,
   "id": "c11c1e4b-c66c-4e39-afc9-86f00504985f",
   "metadata": {},
   "outputs": [
    {
     "data": {
      "text/plain": [
       "True"
      ]
     },
     "execution_count": 579,
     "metadata": {},
     "output_type": "execute_result"
    }
   ],
   "source": [
    "d"
   ]
  },
  {
   "cell_type": "code",
   "execution_count": 585,
   "id": "6369ec13-3cd8-4319-9d83-066a1e95a41c",
   "metadata": {},
   "outputs": [
    {
     "data": {
      "text/plain": [
       "False"
      ]
     },
     "execution_count": 585,
     "metadata": {},
     "output_type": "execute_result"
    }
   ],
   "source": [
    "not d"
   ]
  },
  {
   "cell_type": "code",
   "execution_count": 587,
   "id": "aa9343ff-0368-460e-b45a-c3d681c3e1f7",
   "metadata": {},
   "outputs": [
    {
     "data": {
      "text/plain": [
       "True"
      ]
     },
     "execution_count": 587,
     "metadata": {},
     "output_type": "execute_result"
    }
   ],
   "source": [
    "d"
   ]
  },
  {
   "cell_type": "code",
   "execution_count": 591,
   "id": "8ce52749-9bb9-4042-b22c-32bdfa4530f8",
   "metadata": {},
   "outputs": [
    {
     "data": {
      "text/plain": [
       "False"
      ]
     },
     "execution_count": 591,
     "metadata": {},
     "output_type": "execute_result"
    }
   ],
   "source": [
    "not d"
   ]
  },
  {
   "cell_type": "markdown",
   "id": "add15e94-da28-45b1-9ed8-5eea1d4156f8",
   "metadata": {},
   "source": [
    "# Number System Convertion(bit-binary digit)"
   ]
  },
  {
   "cell_type": "code",
   "execution_count": 594,
   "id": "c2a37f6a-ffae-4723-8243-4abe952b3851",
   "metadata": {},
   "outputs": [
    {
     "data": {
      "text/plain": [
       "30"
      ]
     },
     "execution_count": 594,
     "metadata": {},
     "output_type": "execute_result"
    }
   ],
   "source": [
    "30"
   ]
  },
  {
   "cell_type": "code",
   "execution_count": 596,
   "id": "2fbe1144-d99f-433f-945f-01d9f07174a4",
   "metadata": {},
   "outputs": [
    {
     "data": {
      "text/plain": [
       "'0b11110'"
      ]
     },
     "execution_count": 596,
     "metadata": {},
     "output_type": "execute_result"
    }
   ],
   "source": [
    "bin(30)"
   ]
  },
  {
   "cell_type": "code",
   "execution_count": 598,
   "id": "23308c6e-3967-4624-a2e7-75f7d7cd0134",
   "metadata": {},
   "outputs": [
    {
     "data": {
      "text/plain": [
       "'0b10111'"
      ]
     },
     "execution_count": 598,
     "metadata": {},
     "output_type": "execute_result"
    }
   ],
   "source": [
    "bin(23)"
   ]
  },
  {
   "cell_type": "code",
   "execution_count": 600,
   "id": "b603e2fd-deba-40c1-a727-401c2dafd351",
   "metadata": {},
   "outputs": [
    {
     "data": {
      "text/plain": [
       "'0b100100'"
      ]
     },
     "execution_count": 600,
     "metadata": {},
     "output_type": "execute_result"
    }
   ],
   "source": [
    "bin(36)"
   ]
  },
  {
   "cell_type": "code",
   "execution_count": 602,
   "id": "99f265f9-747f-4bef-9a72-0136e00949d8",
   "metadata": {},
   "outputs": [
    {
     "data": {
      "text/plain": [
       "'0b100011'"
      ]
     },
     "execution_count": 602,
     "metadata": {},
     "output_type": "execute_result"
    }
   ],
   "source": [
    "bin(35)"
   ]
  },
  {
   "cell_type": "code",
   "execution_count": 604,
   "id": "2d2a2d3c-26b6-471f-b1ee-c3937c731c2b",
   "metadata": {},
   "outputs": [
    {
     "data": {
      "text/plain": [
       "'0b10100'"
      ]
     },
     "execution_count": 604,
     "metadata": {},
     "output_type": "execute_result"
    }
   ],
   "source": [
    "bin(20)"
   ]
  },
  {
   "cell_type": "code",
   "execution_count": 606,
   "id": "3349f740-e60a-4989-af7c-1e49354c143e",
   "metadata": {},
   "outputs": [
    {
     "data": {
      "text/plain": [
       "20"
      ]
     },
     "execution_count": 606,
     "metadata": {},
     "output_type": "execute_result"
    }
   ],
   "source": [
    "int(0b10100)"
   ]
  },
  {
   "cell_type": "code",
   "execution_count": 608,
   "id": "35f6c869-d7df-4c2a-af92-770568dbaa84",
   "metadata": {},
   "outputs": [
    {
     "data": {
      "text/plain": [
       "20.0"
      ]
     },
     "execution_count": 608,
     "metadata": {},
     "output_type": "execute_result"
    }
   ],
   "source": [
    "float(0b10100)"
   ]
  },
  {
   "cell_type": "code",
   "execution_count": 610,
   "id": "8f0a1845-9afe-4a70-8861-e107bedb2cc3",
   "metadata": {},
   "outputs": [
    {
     "data": {
      "text/plain": [
       "15"
      ]
     },
     "execution_count": 610,
     "metadata": {},
     "output_type": "execute_result"
    }
   ],
   "source": [
    "0b1111"
   ]
  },
  {
   "cell_type": "code",
   "execution_count": 612,
   "id": "cbdedb8d-7e30-468a-8db9-1496d1ee31c0",
   "metadata": {},
   "outputs": [
    {
     "data": {
      "text/plain": [
       "'0o17'"
      ]
     },
     "execution_count": 612,
     "metadata": {},
     "output_type": "execute_result"
    }
   ],
   "source": [
    "oct(15)"
   ]
  },
  {
   "cell_type": "markdown",
   "id": "27f889b0-c3be-454d-91eb-ffe8c2e84e96",
   "metadata": {},
   "source": [
    "# swap variable in python"
   ]
  },
  {
   "cell_type": "code",
   "execution_count": 615,
   "id": "505f3bbd-cbaa-4924-a49b-3822667731c0",
   "metadata": {},
   "outputs": [],
   "source": [
    "a=5\n",
    "b=6"
   ]
  },
  {
   "cell_type": "markdown",
   "id": "acbcbf35-f856-4fea-bbb7-235acfb1b855",
   "metadata": {},
   "source": [
    "# here a should become 6 & b should become 5 without using 3rd variable"
   ]
  },
  {
   "cell_type": "code",
   "execution_count": 623,
   "id": "0213830a-26ac-46c3-adbe-7b439559ef02",
   "metadata": {},
   "outputs": [],
   "source": [
    "a=b     \n",
    "b=a"
   ]
  },
  {
   "cell_type": "code",
   "execution_count": 619,
   "id": "8458c965-31ca-4ce9-87a8-5ac9de5325e9",
   "metadata": {},
   "outputs": [
    {
     "data": {
      "text/plain": [
       "(6, 6)"
      ]
     },
     "execution_count": 619,
     "metadata": {},
     "output_type": "execute_result"
    }
   ],
   "source": [
    "a,b"
   ]
  },
  {
   "cell_type": "code",
   "execution_count": 631,
   "id": "59d1284b-14d1-4261-bf74-f7281181c465",
   "metadata": {},
   "outputs": [],
   "source": [
    "a = 5\n",
    "b = 6"
   ]
  },
  {
   "cell_type": "code",
   "execution_count": 633,
   "id": "21efaa6d-4bb8-4a3c-8919-f21cbb70d268",
   "metadata": {},
   "outputs": [
    {
     "data": {
      "text/plain": [
       "(5, 6)"
      ]
     },
     "execution_count": 633,
     "metadata": {},
     "output_type": "execute_result"
    }
   ],
   "source": [
    "a,b"
   ]
  },
  {
   "cell_type": "code",
   "execution_count": 635,
   "id": "8e932fb5-3e85-433e-9083-4d3eb4727a3e",
   "metadata": {},
   "outputs": [],
   "source": [
    "a,b=b,a"
   ]
  },
  {
   "cell_type": "code",
   "execution_count": 637,
   "id": "fc8f67d5-41da-4cbc-b337-abcacc4b803e",
   "metadata": {},
   "outputs": [
    {
     "name": "stdout",
     "output_type": "stream",
     "text": [
      "6\n",
      "5\n"
     ]
    }
   ],
   "source": [
    "print(a)\n",
    "print(b)"
   ]
  },
  {
   "cell_type": "code",
   "execution_count": 639,
   "id": "add9bc2a-32e7-4ce7-bb9b-936cb9a03339",
   "metadata": {},
   "outputs": [],
   "source": [
    "a1=7\n",
    "b1=8"
   ]
  },
  {
   "cell_type": "code",
   "execution_count": 641,
   "id": "3c6fc023-714e-46c2-9cba-afeef8662874",
   "metadata": {},
   "outputs": [],
   "source": [
    "temp = a1\n",
    "a1 = b1\n",
    "b1= temp"
   ]
  },
  {
   "cell_type": "code",
   "execution_count": 643,
   "id": "5580a83f-249c-46d2-9ddb-a1e23597f3ce",
   "metadata": {},
   "outputs": [
    {
     "name": "stdout",
     "output_type": "stream",
     "text": [
      "8\n",
      "7\n"
     ]
    }
   ],
   "source": [
    "print(a1)\n",
    "print(b1)"
   ]
  },
  {
   "cell_type": "code",
   "execution_count": 645,
   "id": "346157be-925f-42ea-b99f-6864535c0e42",
   "metadata": {},
   "outputs": [],
   "source": [
    "a2 = 5\n",
    "b2 = 6"
   ]
  },
  {
   "cell_type": "code",
   "execution_count": 647,
   "id": "f02ccca8-f2c9-4560-9f9f-34b09b9f62ff",
   "metadata": {},
   "outputs": [],
   "source": [
    "a2 = a2 + b2\n",
    "b2 = a2 - b2\n",
    "a2 = a2 - b2"
   ]
  },
  {
   "cell_type": "code",
   "execution_count": 649,
   "id": "3487f198-6676-4519-ad33-bef0ee3671c1",
   "metadata": {},
   "outputs": [
    {
     "name": "stdout",
     "output_type": "stream",
     "text": [
      "6\n",
      "5\n"
     ]
    }
   ],
   "source": [
    "print(a2)\n",
    "print(b2)"
   ]
  },
  {
   "cell_type": "markdown",
   "id": "0d80f600-88b0-4a1c-a82f-0b7ef7fc2d15",
   "metadata": {},
   "source": [
    "# bitwise operator\n",
    "- WE HAVE 6 OPERATORS \n",
    "COMPLEMENT ( ~ ) || AND ( & )  || OR ( | ) || XOR ( ^ ) || LEFT SHIFT ( << ) || RIGHT SHIFT ( >> )"
   ]
  },
  {
   "cell_type": "code",
   "execution_count": 654,
   "id": "2b7ff21f-3729-4c64-acdc-5c850382cd58",
   "metadata": {},
   "outputs": [
    {
     "name": "stdout",
     "output_type": "stream",
     "text": [
      "0b1100\n",
      "0b1101\n"
     ]
    }
   ],
   "source": [
    "print(bin(12))\n",
    "print(bin(13))"
   ]
  },
  {
   "cell_type": "code",
   "execution_count": 656,
   "id": "69538758-f77e-4248-bf54-e5daf09a3445",
   "metadata": {},
   "outputs": [
    {
     "data": {
      "text/plain": [
       "-13"
      ]
     },
     "execution_count": 656,
     "metadata": {},
     "output_type": "execute_result"
    }
   ],
   "source": [
    "~12"
   ]
  },
  {
   "cell_type": "code",
   "execution_count": 658,
   "id": "cb2c163a-8798-43ee-a225-46bc29c98306",
   "metadata": {},
   "outputs": [
    {
     "data": {
      "text/plain": [
       "-12"
      ]
     },
     "execution_count": 658,
     "metadata": {},
     "output_type": "execute_result"
    }
   ],
   "source": [
    "~11"
   ]
  },
  {
   "cell_type": "markdown",
   "id": "7f6d9b58-1f51-416e-b072-8d8906875c96",
   "metadata": {},
   "source": [
    "# bit wise and operator"
   ]
  },
  {
   "cell_type": "code",
   "execution_count": 661,
   "id": "3a334050-2f29-406f-8d94-5d0290e9e1e1",
   "metadata": {},
   "outputs": [
    {
     "data": {
      "text/plain": [
       "12"
      ]
     },
     "execution_count": 661,
     "metadata": {},
     "output_type": "execute_result"
    }
   ],
   "source": [
    "12&13"
   ]
  },
  {
   "cell_type": "code",
   "execution_count": 663,
   "id": "90ced39b-bfe7-4fe5-a520-cda2ce686e73",
   "metadata": {},
   "outputs": [
    {
     "data": {
      "text/plain": [
       "14"
      ]
     },
     "execution_count": 663,
     "metadata": {},
     "output_type": "execute_result"
    }
   ],
   "source": [
    "14&15"
   ]
  },
  {
   "cell_type": "code",
   "execution_count": 665,
   "id": "18fd3004-6d1c-4a57-8a59-747a73cbd67d",
   "metadata": {},
   "outputs": [
    {
     "data": {
      "text/plain": [
       "1"
      ]
     },
     "execution_count": 665,
     "metadata": {},
     "output_type": "execute_result"
    }
   ],
   "source": [
    "1&1"
   ]
  },
  {
   "cell_type": "code",
   "execution_count": 667,
   "id": "a7a01f78-8a1b-4aa1-9213-147761343a80",
   "metadata": {},
   "outputs": [
    {
     "data": {
      "text/plain": [
       "13"
      ]
     },
     "execution_count": 667,
     "metadata": {},
     "output_type": "execute_result"
    }
   ],
   "source": [
    "12|13"
   ]
  },
  {
   "cell_type": "code",
   "execution_count": 669,
   "id": "a01cff62-27dc-45c7-8a3a-683c90889c51",
   "metadata": {},
   "outputs": [
    {
     "data": {
      "text/plain": [
       "32"
      ]
     },
     "execution_count": 669,
     "metadata": {},
     "output_type": "execute_result"
    }
   ],
   "source": [
    "35&40"
   ]
  },
  {
   "cell_type": "code",
   "execution_count": 671,
   "id": "c651ddd5-428f-4a76-b312-d5b05c0a9c57",
   "metadata": {},
   "outputs": [
    {
     "data": {
      "text/plain": [
       "43"
      ]
     },
     "execution_count": 671,
     "metadata": {},
     "output_type": "execute_result"
    }
   ],
   "source": [
    "35|40"
   ]
  },
  {
   "cell_type": "code",
   "execution_count": 679,
   "id": "f923a507-b4e7-4fa5-a481-f6aa8a1a1c8d",
   "metadata": {},
   "outputs": [
    {
     "data": {
      "text/plain": [
       "1"
      ]
     },
     "execution_count": 679,
     "metadata": {},
     "output_type": "execute_result"
    }
   ],
   "source": [
    "# in XOR if the both number are different then we will get 1 or else we will get 0\n",
    "12^13"
   ]
  },
  {
   "cell_type": "code",
   "execution_count": 675,
   "id": "5f339dc0-f8c8-468d-a1de-d52fcf2aaba6",
   "metadata": {},
   "outputs": [
    {
     "data": {
      "text/plain": [
       "0"
      ]
     },
     "execution_count": 675,
     "metadata": {},
     "output_type": "execute_result"
    }
   ],
   "source": [
    "15^15"
   ]
  },
  {
   "cell_type": "code",
   "execution_count": 677,
   "id": "99f5f5c9-ff0e-48f5-8bf6-3b661482bc4f",
   "metadata": {},
   "outputs": [
    {
     "data": {
      "text/plain": [
       "34"
      ]
     },
     "execution_count": 677,
     "metadata": {},
     "output_type": "execute_result"
    }
   ],
   "source": [
    "45^15"
   ]
  },
  {
   "cell_type": "code",
   "execution_count": 681,
   "id": "a05ff5b3-e2cc-49a0-b505-f3ed86afc10b",
   "metadata": {},
   "outputs": [
    {
     "data": {
      "text/plain": [
       "40"
      ]
     },
     "execution_count": 681,
     "metadata": {},
     "output_type": "execute_result"
    }
   ],
   "source": [
    "# bitwise eft operator\n",
    "10<<2"
   ]
  },
  {
   "cell_type": "code",
   "execution_count": 683,
   "id": "7cf43363-5a0a-4863-9c24-77506993ebd9",
   "metadata": {},
   "outputs": [
    {
     "data": {
      "text/plain": [
       "320"
      ]
     },
     "execution_count": 683,
     "metadata": {},
     "output_type": "execute_result"
    }
   ],
   "source": [
    "20<<4"
   ]
  },
  {
   "cell_type": "code",
   "execution_count": 685,
   "id": "3bbff0e9-3bcb-4574-9a41-85b6f3eaa598",
   "metadata": {},
   "outputs": [
    {
     "data": {
      "text/plain": [
       "2"
      ]
     },
     "execution_count": 685,
     "metadata": {},
     "output_type": "execute_result"
    }
   ],
   "source": [
    "# bitwise right operator\n",
    "10>>2"
   ]
  },
  {
   "cell_type": "code",
   "execution_count": 687,
   "id": "ea7688d7-4c3f-4618-8c4d-63411f55306e",
   "metadata": {},
   "outputs": [
    {
     "data": {
      "text/plain": [
       "1"
      ]
     },
     "execution_count": 687,
     "metadata": {},
     "output_type": "execute_result"
    }
   ],
   "source": [
    "20>>4"
   ]
  },
  {
   "cell_type": "code",
   "execution_count": 689,
   "id": "92e1a846-9289-4d83-931f-679c24b34f82",
   "metadata": {},
   "outputs": [],
   "source": [
    "import math"
   ]
  },
  {
   "cell_type": "code",
   "execution_count": 693,
   "id": "af218620-4409-4e85-b353-c8bfc420ae19",
   "metadata": {},
   "outputs": [
    {
     "data": {
      "text/plain": [
       "5.0"
      ]
     },
     "execution_count": 693,
     "metadata": {},
     "output_type": "execute_result"
    }
   ],
   "source": [
    "x=math.sqrt(25)\n",
    "x"
   ]
  },
  {
   "cell_type": "code",
   "execution_count": 697,
   "id": "5cffef83-f5fc-43c8-b016-4927be9810c8",
   "metadata": {},
   "outputs": [
    {
     "data": {
      "text/plain": [
       "4.47213595499958"
      ]
     },
     "execution_count": 697,
     "metadata": {},
     "output_type": "execute_result"
    }
   ],
   "source": [
    "x1 = math.sqrt(20)\n",
    "x1"
   ]
  },
  {
   "cell_type": "code",
   "execution_count": 699,
   "id": "12153007-1b59-46c5-8b09-9d4c74032dd5",
   "metadata": {},
   "outputs": [
    {
     "name": "stdout",
     "output_type": "stream",
     "text": [
      "2\n"
     ]
    }
   ],
   "source": [
    "print(math.floor(2.9))        # floor - minimum or least value"
   ]
  },
  {
   "cell_type": "code",
   "execution_count": 703,
   "id": "d0eedb8b-20d5-4f01-a3a5-b30231976065",
   "metadata": {},
   "outputs": [
    {
     "name": "stdout",
     "output_type": "stream",
     "text": [
      "3\n"
     ]
    }
   ],
   "source": [
    "print(math.ceil(2.9))        # ceil - nearest max value"
   ]
  },
  {
   "cell_type": "code",
   "execution_count": 705,
   "id": "4501e7f2-a664-4596-b57f-24044958be0b",
   "metadata": {},
   "outputs": [
    {
     "name": "stdout",
     "output_type": "stream",
     "text": [
      "9.0\n"
     ]
    }
   ],
   "source": [
    "print(math.pow(3,2))"
   ]
  },
  {
   "cell_type": "code",
   "execution_count": 709,
   "id": "6c028f8d-46c9-4a38-bfef-ad8152a878c0",
   "metadata": {},
   "outputs": [
    {
     "name": "stdout",
     "output_type": "stream",
     "text": [
      "3.141592653589793\n"
     ]
    }
   ],
   "source": [
    "print(math.pi)             # these are constant"
   ]
  },
  {
   "cell_type": "code",
   "execution_count": 711,
   "id": "f8689277-2696-48e5-91a0-c763f3f6f3b9",
   "metadata": {},
   "outputs": [
    {
     "name": "stdout",
     "output_type": "stream",
     "text": [
      "2.718281828459045\n"
     ]
    }
   ],
   "source": [
    "print(math.e)"
   ]
  },
  {
   "cell_type": "code",
   "execution_count": 713,
   "id": "4508e392-c56d-42fd-93e5-c132ee101251",
   "metadata": {},
   "outputs": [],
   "source": [
    "import math as m"
   ]
  },
  {
   "cell_type": "code",
   "execution_count": 715,
   "id": "0a82218f-7352-49a0-9d48-216473da190b",
   "metadata": {},
   "outputs": [
    {
     "data": {
      "text/plain": [
       "4.0"
      ]
     },
     "execution_count": 715,
     "metadata": {},
     "output_type": "execute_result"
    }
   ],
   "source": [
    "m.sqrt(16)"
   ]
  },
  {
   "cell_type": "code",
   "execution_count": 717,
   "id": "60fc1343-5f6a-4ee5-9fbf-50d883acb951",
   "metadata": {},
   "outputs": [],
   "source": [
    "from math import sqrt,pow             # math has many functions we can call specific functions"
   ]
  },
  {
   "cell_type": "code",
   "execution_count": 719,
   "id": "28f6133a-6c05-490c-83f5-5c3b646c6fb6",
   "metadata": {},
   "outputs": [
    {
     "data": {
      "text/plain": [
       "8.0"
      ]
     },
     "execution_count": 719,
     "metadata": {},
     "output_type": "execute_result"
    }
   ],
   "source": [
    "pow(2,3)"
   ]
  },
  {
   "cell_type": "code",
   "execution_count": 725,
   "id": "4cb910b1-5892-4a42-b15d-2c21388d6bbb",
   "metadata": {},
   "outputs": [
    {
     "data": {
      "text/plain": [
       "8"
      ]
     },
     "execution_count": 725,
     "metadata": {},
     "output_type": "execute_result"
    }
   ],
   "source": [
    "round(pow(2,3))"
   ]
  },
  {
   "cell_type": "code",
   "execution_count": 721,
   "id": "04002857-8777-48b8-b87e-344da661f7e4",
   "metadata": {},
   "outputs": [
    {
     "data": {
      "text/plain": [
       "5.0"
      ]
     },
     "execution_count": 721,
     "metadata": {},
     "output_type": "execute_result"
    }
   ],
   "source": [
    "sqrt(25)"
   ]
  },
  {
   "cell_type": "markdown",
   "id": "6299ca93-2f83-46a4-b9f7-06681ca83c55",
   "metadata": {},
   "source": [
    "# user input function in python"
   ]
  },
  {
   "cell_type": "code",
   "execution_count": 731,
   "id": "5ff76410-2f3c-4c33-b2bb-ec6434b53660",
   "metadata": {},
   "outputs": [
    {
     "name": "stdin",
     "output_type": "stream",
     "text": [
      " 10\n",
      " 15\n"
     ]
    },
    {
     "name": "stdout",
     "output_type": "stream",
     "text": [
      "1015\n"
     ]
    }
   ],
   "source": [
    "x = input()\n",
    "y = input()\n",
    "z = x+y\n",
    "print(z)"
   ]
  },
  {
   "cell_type": "code",
   "execution_count": 745,
   "id": "cbd9a17c-4bb4-40c1-ba43-426627348965",
   "metadata": {},
   "outputs": [
    {
     "name": "stdin",
     "output_type": "stream",
     "text": [
      " 10\n",
      " 5\n"
     ]
    },
    {
     "name": "stdout",
     "output_type": "stream",
     "text": [
      "105\n"
     ]
    }
   ],
   "source": [
    "x1 = input()            # by default input function takes values as string and concatinate the string,for ex user gives 10 & 5 - '10'&'5'\n",
    "y1 = input()\n",
    "z1 = x1+y1\n",
    "print(z1)"
   ]
  },
  {
   "cell_type": "code",
   "execution_count": 757,
   "id": "b5441845-0744-4e36-8c9e-bb2ad3c114a2",
   "metadata": {},
   "outputs": [
    {
     "name": "stdout",
     "output_type": "stream",
     "text": [
      "<class 'str'>\n",
      "<class 'str'>\n"
     ]
    }
   ],
   "source": [
    "print(type(x1))\n",
    "print(type(y1))"
   ]
  },
  {
   "cell_type": "code",
   "execution_count": 749,
   "id": "d580348c-94e3-4056-95a0-3d9315eed022",
   "metadata": {},
   "outputs": [
    {
     "name": "stdin",
     "output_type": "stream",
     "text": [
      " 10\n",
      " 30\n"
     ]
    },
    {
     "name": "stdout",
     "output_type": "stream",
     "text": [
      "40\n"
     ]
    }
   ],
   "source": [
    "x2 = int(input())       # it takes as numeric values as int it gives numeric concatinating\n",
    "y2 = int(input())\n",
    "z2 = x2+y2\n",
    "print(z2)"
   ]
  },
  {
   "cell_type": "code",
   "execution_count": 753,
   "id": "5fd18939-de27-4613-b71b-ae8afa53a734",
   "metadata": {},
   "outputs": [
    {
     "name": "stdout",
     "output_type": "stream",
     "text": [
      "<class 'int'>\n",
      "<class 'int'>\n"
     ]
    }
   ],
   "source": [
    "print(type(x2))\n",
    "print(type(y2))"
   ]
  },
  {
   "cell_type": "code",
   "execution_count": 759,
   "id": "388710ee-d252-4992-bf8a-718d596dbf09",
   "metadata": {},
   "outputs": [
    {
     "name": "stdin",
     "output_type": "stream",
     "text": [
      "Enter the 1st number 15\n",
      "Enter the 2nd number 30\n"
     ]
    },
    {
     "name": "stdout",
     "output_type": "stream",
     "text": [
      "45\n"
     ]
    }
   ],
   "source": [
    "x1 = input('Enter the 1st number') #whenevery you works in input function it always give you string \n",
    "a1 = int(x1)\n",
    "y1 = input('Enter the 2nd number') # it wont understand as arithmetic operator\n",
    "b1 = int(y1)\n",
    "z1 = a1 + b1\n",
    "print(z1)"
   ]
  },
  {
   "cell_type": "code",
   "execution_count": 761,
   "id": "cbc1d1d4-f0b7-43a5-b078-b88b32a3c89a",
   "metadata": {},
   "outputs": [
    {
     "name": "stdin",
     "output_type": "stream",
     "text": [
      "Enter the 1st number 55\n",
      "Enter the 2nd number 45\n"
     ]
    },
    {
     "data": {
      "text/plain": [
       "100"
      ]
     },
     "execution_count": 761,
     "metadata": {},
     "output_type": "execute_result"
    }
   ],
   "source": [
    "x2 = int(input('Enter the 1st number'))\n",
    "y2 = int(input('Enter the 2nd number'))\n",
    "z2 = x2 + y2\n",
    "z2"
   ]
  },
  {
   "cell_type": "code",
   "execution_count": 763,
   "id": "69ceeedb-8fc2-4488-ad84-735e6e612891",
   "metadata": {},
   "outputs": [
    {
     "name": "stdin",
     "output_type": "stream",
     "text": [
      "enter a char welcome to python\n"
     ]
    },
    {
     "name": "stdout",
     "output_type": "stream",
     "text": [
      "welcome to python\n"
     ]
    }
   ],
   "source": [
    "ch = input('enter a char')\n",
    "print(ch)"
   ]
  },
  {
   "cell_type": "code",
   "execution_count": 765,
   "id": "7bb3f5ed-e481-47da-8f29-5b6d77ee5abd",
   "metadata": {},
   "outputs": [
    {
     "name": "stdout",
     "output_type": "stream",
     "text": [
      "w\n"
     ]
    }
   ],
   "source": [
    "print(ch[0])"
   ]
  },
  {
   "cell_type": "code",
   "execution_count": 767,
   "id": "713b1d01-8f6f-4514-9043-2ca60d93515f",
   "metadata": {},
   "outputs": [
    {
     "name": "stdout",
     "output_type": "stream",
     "text": [
      "welcome to python\n"
     ]
    }
   ],
   "source": [
    "print(ch[:])"
   ]
  },
  {
   "cell_type": "code",
   "execution_count": 769,
   "id": "93b2265a-cd6b-4f1d-a7ed-f429423a3bcd",
   "metadata": {},
   "outputs": [
    {
     "name": "stdin",
     "output_type": "stream",
     "text": [
      "enter a char hello\n"
     ]
    },
    {
     "data": {
      "text/plain": [
       "'h'"
      ]
     },
     "execution_count": 769,
     "metadata": {},
     "output_type": "execute_result"
    }
   ],
   "source": [
    "ch1 = input('enter a char')[0]\n",
    "ch1"
   ]
  },
  {
   "cell_type": "code",
   "execution_count": 771,
   "id": "e7399753-d1c2-46c0-9b43-1ddadfb19a25",
   "metadata": {},
   "outputs": [
    {
     "name": "stdin",
     "output_type": "stream",
     "text": [
      "enter a char welcome to python\n"
     ]
    },
    {
     "data": {
      "text/plain": [
       "'welcome to python'"
      ]
     },
     "execution_count": 771,
     "metadata": {},
     "output_type": "execute_result"
    }
   ],
   "source": [
    "ch = input('enter a char')[:]\n",
    "ch"
   ]
  },
  {
   "cell_type": "code",
   "execution_count": 773,
   "id": "852ba164-f3bb-4fa2-b112-7ad6bdbda69a",
   "metadata": {},
   "outputs": [
    {
     "data": {
      "text/plain": [
       "'elcome to python'"
      ]
     },
     "execution_count": 773,
     "metadata": {},
     "output_type": "execute_result"
    }
   ],
   "source": [
    "ch[1:]"
   ]
  },
  {
   "cell_type": "code",
   "execution_count": 775,
   "id": "4a9b3846-9362-450d-b74f-9dcaf1f1325a",
   "metadata": {},
   "outputs": [
    {
     "name": "stdin",
     "output_type": "stream",
     "text": [
      "enter a char welcome to python\n"
     ]
    },
    {
     "data": {
      "text/plain": [
       "'welcome'"
      ]
     },
     "execution_count": 775,
     "metadata": {},
     "output_type": "execute_result"
    }
   ],
   "source": [
    "ch = input('enter a char')[0:7]\n",
    "ch"
   ]
  },
  {
   "cell_type": "code",
   "execution_count": 777,
   "id": "e7065909-2f13-43c5-b489-a83d1b81c45f",
   "metadata": {},
   "outputs": [
    {
     "name": "stdin",
     "output_type": "stream",
     "text": [
      "enter an expression 2*9+4*3-20\n"
     ]
    },
    {
     "name": "stdout",
     "output_type": "stream",
     "text": [
      "10\n"
     ]
    }
   ],
   "source": [
    "# evaluation function using input\n",
    "result = eval(input('enter an expression'))\n",
    "print(result)"
   ]
  },
  {
   "cell_type": "code",
   "execution_count": null,
   "id": "0e5c90bb-90e0-4cf4-94d2-4519658e46d2",
   "metadata": {},
   "outputs": [],
   "source": []
  }
 ],
 "metadata": {
  "kernelspec": {
   "display_name": "Python 3 (ipykernel)",
   "language": "python",
   "name": "python3"
  },
  "language_info": {
   "codemirror_mode": {
    "name": "ipython",
    "version": 3
   },
   "file_extension": ".py",
   "mimetype": "text/x-python",
   "name": "python",
   "nbconvert_exporter": "python",
   "pygments_lexer": "ipython3",
   "version": "3.12.7"
  }
 },
 "nbformat": 4,
 "nbformat_minor": 5
}
