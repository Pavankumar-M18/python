{
 "cells": [
  {
   "cell_type": "markdown",
   "id": "ffbda15f-324c-4409-b02d-9e2d2bc49910",
   "metadata": {},
   "source": [
    "# NUMPY"
   ]
  },
  {
   "cell_type": "markdown",
   "id": "d2aea352-00c3-47dd-91fc-04ea8bb24dc9",
   "metadata": {},
   "source": [
    "# Creating a NUMPY array"
   ]
  },
  {
   "cell_type": "code",
   "execution_count": 2,
   "id": "ba7d40c5-c428-4382-a57f-15a705fc83c3",
   "metadata": {},
   "outputs": [],
   "source": [
    "import numpy as np"
   ]
  },
  {
   "cell_type": "code",
   "execution_count": 5,
   "id": "3f49c880-ebb9-4a97-9dd1-8f8cec736fbb",
   "metadata": {},
   "outputs": [
    {
     "data": {
      "text/plain": [
       "array([1, 2, 3])"
      ]
     },
     "execution_count": 5,
     "metadata": {},
     "output_type": "execute_result"
    }
   ],
   "source": [
    "np.array([1,2,3])"
   ]
  },
  {
   "cell_type": "code",
   "execution_count": 7,
   "id": "e253444c-a3d0-447f-ad5e-ec43d43b5a4b",
   "metadata": {},
   "outputs": [
    {
     "data": {
      "text/plain": [
       "array([1, 2, 3])"
      ]
     },
     "execution_count": 7,
     "metadata": {},
     "output_type": "execute_result"
    }
   ],
   "source": [
    "a = np.array([1,2,3])\n",
    "a"
   ]
  },
  {
   "cell_type": "code",
   "execution_count": 9,
   "id": "b4921594-a9f8-4359-8039-f93e0b8e0c94",
   "metadata": {},
   "outputs": [
    {
     "data": {
      "text/plain": [
       "numpy.ndarray"
      ]
     },
     "execution_count": 9,
     "metadata": {},
     "output_type": "execute_result"
    }
   ],
   "source": [
    "type(a)"
   ]
  },
  {
   "cell_type": "code",
   "execution_count": 13,
   "id": "d35d83ff-76e6-4766-9c66-c85a7e599247",
   "metadata": {},
   "outputs": [
    {
     "data": {
      "text/plain": [
       "array(['1', '2.5', 'p', '(1+2j)', 'True'], dtype='<U64')"
      ]
     },
     "execution_count": 13,
     "metadata": {},
     "output_type": "execute_result"
    }
   ],
   "source": [
    "b=np.array([1,2.5,'p',1+2j,True])\n",
    "b"
   ]
  },
  {
   "cell_type": "code",
   "execution_count": 15,
   "id": "6a5b15da-e155-4122-90e3-17b22970bb7d",
   "metadata": {},
   "outputs": [
    {
     "data": {
      "text/plain": [
       "numpy.ndarray"
      ]
     },
     "execution_count": 15,
     "metadata": {},
     "output_type": "execute_result"
    }
   ],
   "source": [
    "type(b)"
   ]
  },
  {
   "cell_type": "code",
   "execution_count": 60,
   "id": "99ddd90f-8e33-4cbd-bb73-7420d8c61d6b",
   "metadata": {},
   "outputs": [
    {
     "data": {
      "text/plain": [
       "array([[1, 2, 3],\n",
       "       [4, 5, 6]])"
      ]
     },
     "execution_count": 60,
     "metadata": {},
     "output_type": "execute_result"
    }
   ],
   "source": [
    "c= np.array([[1,2,3],[4,5,6]])   \n",
    "c"
   ]
  },
  {
   "cell_type": "code",
   "execution_count": 23,
   "id": "0ead3ec6-f66b-4614-a1f9-d79a58461c56",
   "metadata": {},
   "outputs": [
    {
     "data": {
      "text/plain": [
       "array([[ 1,  3,  5],\n",
       "       [ 5,  7,  9],\n",
       "       [10,  5,  6]])"
      ]
     },
     "execution_count": 23,
     "metadata": {},
     "output_type": "execute_result"
    }
   ],
   "source": [
    "d=np.array([[1,3,5],[5,7,9],[10,5,6]])\n",
    "d"
   ]
  },
  {
   "cell_type": "markdown",
   "id": "461090a8-16a3-4f9a-881e-dc3ec6a9141a",
   "metadata": {},
   "source": [
    "# dtype"
   ]
  },
  {
   "cell_type": "code",
   "execution_count": 26,
   "id": "a42b6e87-000f-447f-9390-a971a4d44d1f",
   "metadata": {},
   "outputs": [
    {
     "data": {
      "text/plain": [
       "array([1, 2, 3])"
      ]
     },
     "execution_count": 26,
     "metadata": {},
     "output_type": "execute_result"
    }
   ],
   "source": [
    "a"
   ]
  },
  {
   "cell_type": "code",
   "execution_count": 28,
   "id": "6dbeb737-fe42-4dd4-807d-aa35973a30d6",
   "metadata": {},
   "outputs": [
    {
     "data": {
      "text/plain": [
       "array([1., 2., 3.])"
      ]
     },
     "execution_count": 28,
     "metadata": {},
     "output_type": "execute_result"
    }
   ],
   "source": [
    "a=np.array([1,2,3],dtype=float)\n",
    "a"
   ]
  },
  {
   "cell_type": "code",
   "execution_count": 30,
   "id": "c25db907-01da-4084-a5d3-f8251aedd6ff",
   "metadata": {},
   "outputs": [
    {
     "data": {
      "text/plain": [
       "array([[ 1.,  4., 56.],\n",
       "       [75., 20.,  1.],\n",
       "       [ 3.,  4.,  5.]])"
      ]
     },
     "execution_count": 30,
     "metadata": {},
     "output_type": "execute_result"
    }
   ],
   "source": [
    "a1=np.array([[1,4,56],[75,20,1],[3,4,5]],dtype = float)\n",
    "a1"
   ]
  },
  {
   "cell_type": "code",
   "execution_count": 34,
   "id": "ce60e773-4f0b-47eb-8814-627ed2102bdc",
   "metadata": {},
   "outputs": [
    {
     "data": {
      "text/plain": [
       "array(['1', '4', '6'], dtype='<U1')"
      ]
     },
     "execution_count": 34,
     "metadata": {},
     "output_type": "execute_result"
    }
   ],
   "source": [
    "a2=np.array([1,4,6],dtype=str)\n",
    "a2"
   ]
  },
  {
   "cell_type": "code",
   "execution_count": 36,
   "id": "dee04b2a-0c86-40df-aa79-9d78e6253b3b",
   "metadata": {},
   "outputs": [
    {
     "data": {
      "text/plain": [
       "array([False,  True,  True])"
      ]
     },
     "execution_count": 36,
     "metadata": {},
     "output_type": "execute_result"
    }
   ],
   "source": [
    "a3=np.array([0,1,5],dtype=bool)\n",
    "a3"
   ]
  },
  {
   "cell_type": "code",
   "execution_count": 40,
   "id": "a02af807-98f3-4fc4-a0a7-705ca1d19392",
   "metadata": {},
   "outputs": [
    {
     "data": {
      "text/plain": [
       "array([7.+0.j, 3.+0.j, 9.+0.j])"
      ]
     },
     "execution_count": 40,
     "metadata": {},
     "output_type": "execute_result"
    }
   ],
   "source": [
    "a4=np.array([7,3,9],dtype=complex)\n",
    "a4"
   ]
  },
  {
   "cell_type": "markdown",
   "id": "5b86e64b-c966-4e96-a546-b5c3d74874d8",
   "metadata": {},
   "source": [
    "# arange"
   ]
  },
  {
   "cell_type": "code",
   "execution_count": 43,
   "id": "4093736a-424b-46db-b330-aaee512e10a0",
   "metadata": {},
   "outputs": [
    {
     "data": {
      "text/plain": [
       "array([0, 1, 2, 3, 4, 5, 6, 7, 8, 9])"
      ]
     },
     "execution_count": 43,
     "metadata": {},
     "output_type": "execute_result"
    }
   ],
   "source": [
    "np.arange(10)"
   ]
  },
  {
   "cell_type": "code",
   "execution_count": 45,
   "id": "d17bb18f-f142-4d8c-ac88-cb1a60eedd7d",
   "metadata": {},
   "outputs": [
    {
     "data": {
      "text/plain": [
       "array([ 1,  2,  3,  4,  5,  6,  7,  8,  9, 10, 11, 12, 13, 14, 15, 16, 17,\n",
       "       18, 19])"
      ]
     },
     "execution_count": 45,
     "metadata": {},
     "output_type": "execute_result"
    }
   ],
   "source": [
    "np.arange(1,20)"
   ]
  },
  {
   "cell_type": "code",
   "execution_count": 47,
   "id": "b2fcda46-1d7c-4faf-9cf8-c07dbb2b0fac",
   "metadata": {},
   "outputs": [
    {
     "data": {
      "text/plain": [
       "array([ 0,  2,  4,  6,  8, 10, 12, 14, 16, 18, 20, 22, 24, 26, 28])"
      ]
     },
     "execution_count": 47,
     "metadata": {},
     "output_type": "execute_result"
    }
   ],
   "source": [
    "np.arange(0,30,2)"
   ]
  },
  {
   "cell_type": "code",
   "execution_count": 49,
   "id": "e210b61a-3efe-4e30-93c6-5afd16f3d3ba",
   "metadata": {},
   "outputs": [
    {
     "data": {
      "text/plain": [
       "array([ 0, 10, 20, 30, 40, 50, 60, 70, 80, 90])"
      ]
     },
     "execution_count": 49,
     "metadata": {},
     "output_type": "execute_result"
    }
   ],
   "source": [
    "np.arange(0,100,10)"
   ]
  },
  {
   "cell_type": "markdown",
   "id": "62ae4b93-eb53-49c6-8db2-8c8484fb337c",
   "metadata": {},
   "source": [
    "# reshape"
   ]
  },
  {
   "cell_type": "code",
   "execution_count": 53,
   "id": "b3adb3f1-e882-4238-9153-c55264923ef5",
   "metadata": {},
   "outputs": [
    {
     "data": {
      "text/plain": [
       "array([[0, 1],\n",
       "       [2, 3],\n",
       "       [4, 5],\n",
       "       [6, 7],\n",
       "       [8, 9]])"
      ]
     },
     "execution_count": 53,
     "metadata": {},
     "output_type": "execute_result"
    }
   ],
   "source": [
    "b1 = np.arange(10).reshape(5,2)\n",
    "b1"
   ]
  },
  {
   "cell_type": "code",
   "execution_count": 56,
   "id": "ecb61820-cba1-4a28-b494-ebc20c3578d5",
   "metadata": {},
   "outputs": [
    {
     "data": {
      "text/plain": [
       "array([[ 0,  1,  2],\n",
       "       [ 3,  4,  5],\n",
       "       [ 6,  7,  8],\n",
       "       [ 9, 10, 11]])"
      ]
     },
     "execution_count": 56,
     "metadata": {},
     "output_type": "execute_result"
    }
   ],
   "source": [
    "b2 = np.arange(12).reshape(4,3)\n",
    "b2"
   ]
  },
  {
   "cell_type": "code",
   "execution_count": 58,
   "id": "5270c58d-8321-4f40-b99a-df04594331d1",
   "metadata": {},
   "outputs": [
    {
     "data": {
      "text/plain": [
       "array([[0, 1, 2],\n",
       "       [3, 4, 5],\n",
       "       [6, 7, 8]])"
      ]
     },
     "execution_count": 58,
     "metadata": {},
     "output_type": "execute_result"
    }
   ],
   "source": [
    "b3 = np.arange(0,9).reshape(3,3)\n",
    "b3"
   ]
  },
  {
   "cell_type": "code",
   "execution_count": 183,
   "id": "0001c914-2c55-4a17-a0d3-fc3d2cc346dd",
   "metadata": {},
   "outputs": [
    {
     "data": {
      "text/plain": [
       "array([[10., 11., 12.],\n",
       "       [13., 14., 15.],\n",
       "       [16., 17., 18.]])"
      ]
     },
     "execution_count": 183,
     "metadata": {},
     "output_type": "execute_result"
    }
   ],
   "source": [
    "b4 = np.arange(10,19,dtype=float).reshape(3,3)\n",
    "b4"
   ]
  },
  {
   "cell_type": "markdown",
   "id": "8f794065-62aa-4455-9026-51c18f43134f",
   "metadata": {},
   "source": [
    "# ones"
   ]
  },
  {
   "cell_type": "code",
   "execution_count": 67,
   "id": "f1900ef9-a7c1-4d37-9f41-b1877c651e9e",
   "metadata": {},
   "outputs": [
    {
     "data": {
      "text/plain": [
       "array([[1., 1., 1.],\n",
       "       [1., 1., 1.],\n",
       "       [1., 1., 1.],\n",
       "       [1., 1., 1.]])"
      ]
     },
     "execution_count": 67,
     "metadata": {},
     "output_type": "execute_result"
    }
   ],
   "source": [
    "np.ones((4,3))"
   ]
  },
  {
   "cell_type": "code",
   "execution_count": 69,
   "id": "be8bfa55-6803-4608-80bf-f26bc1f77dd1",
   "metadata": {},
   "outputs": [
    {
     "data": {
      "text/plain": [
       "array([[1, 1, 1],\n",
       "       [1, 1, 1],\n",
       "       [1, 1, 1],\n",
       "       [1, 1, 1]])"
      ]
     },
     "execution_count": 69,
     "metadata": {},
     "output_type": "execute_result"
    }
   ],
   "source": [
    "np.ones((4,3),dtype=int)"
   ]
  },
  {
   "cell_type": "code",
   "execution_count": 71,
   "id": "f79e72a6-e171-4428-80bb-8953e5ffae9c",
   "metadata": {},
   "outputs": [
    {
     "data": {
      "text/plain": [
       "array([['1', '1'],\n",
       "       ['1', '1'],\n",
       "       ['1', '1']], dtype='<U1')"
      ]
     },
     "execution_count": 71,
     "metadata": {},
     "output_type": "execute_result"
    }
   ],
   "source": [
    "np.ones((3,2),dtype=str)"
   ]
  },
  {
   "cell_type": "code",
   "execution_count": 73,
   "id": "2d48c286-7ed6-4ac5-8593-6c91e5472336",
   "metadata": {},
   "outputs": [
    {
     "data": {
      "text/plain": [
       "array([[1.+0.j, 1.+0.j],\n",
       "       [1.+0.j, 1.+0.j],\n",
       "       [1.+0.j, 1.+0.j],\n",
       "       [1.+0.j, 1.+0.j]])"
      ]
     },
     "execution_count": 73,
     "metadata": {},
     "output_type": "execute_result"
    }
   ],
   "source": [
    "np.ones((4,2),complex)"
   ]
  },
  {
   "cell_type": "code",
   "execution_count": 77,
   "id": "5c1664db-2d0c-4d6d-bbae-331b2a6dcef5",
   "metadata": {},
   "outputs": [
    {
     "data": {
      "text/plain": [
       "array([[1., 1., 1.]])"
      ]
     },
     "execution_count": 77,
     "metadata": {},
     "output_type": "execute_result"
    }
   ],
   "source": [
    "a = np.ones((1,3))\n",
    "a"
   ]
  },
  {
   "cell_type": "markdown",
   "id": "ff12d713-8a03-409a-9fef-fc70a25e8c87",
   "metadata": {},
   "source": [
    "# zeros"
   ]
  },
  {
   "cell_type": "code",
   "execution_count": 85,
   "id": "8e855b15-907a-4088-a6db-1e5dd614fc08",
   "metadata": {},
   "outputs": [
    {
     "data": {
      "text/plain": [
       "array([[0, 0],\n",
       "       [0, 0],\n",
       "       [0, 0],\n",
       "       [0, 0]])"
      ]
     },
     "execution_count": 85,
     "metadata": {},
     "output_type": "execute_result"
    }
   ],
   "source": [
    "np.zeros((4,2),dtype=int)"
   ]
  },
  {
   "cell_type": "code",
   "execution_count": 89,
   "id": "8f1a550e-771c-4f25-915b-20d618bd8b6e",
   "metadata": {},
   "outputs": [
    {
     "data": {
      "text/plain": [
       "array([[False, False],\n",
       "       [False, False],\n",
       "       [False, False]])"
      ]
     },
     "execution_count": 89,
     "metadata": {},
     "output_type": "execute_result"
    }
   ],
   "source": [
    "np.zeros((3,2),dtype=bool)"
   ]
  },
  {
   "cell_type": "code",
   "execution_count": 91,
   "id": "8b24eeaf-d2a3-4e5a-b89d-c70d577d3931",
   "metadata": {},
   "outputs": [
    {
     "data": {
      "text/plain": [
       "array([[0., 0., 0.],\n",
       "       [0., 0., 0.],\n",
       "       [0., 0., 0.],\n",
       "       [0., 0., 0.],\n",
       "       [0., 0., 0.]])"
      ]
     },
     "execution_count": 91,
     "metadata": {},
     "output_type": "execute_result"
    }
   ],
   "source": [
    "np.zeros((5,3))"
   ]
  },
  {
   "cell_type": "markdown",
   "id": "b8d7fd74-ccd9-453d-8c9b-81d4e1d74243",
   "metadata": {},
   "source": [
    "# random"
   ]
  },
  {
   "cell_type": "code",
   "execution_count": 99,
   "id": "415445cc-31b1-4380-92e6-a2ba8eb60962",
   "metadata": {},
   "outputs": [
    {
     "data": {
      "text/plain": [
       "array([0.36264026, 0.90469033, 0.90160109, 0.40906766, 0.01148492,\n",
       "       0.18502642, 0.88449161, 0.08360807, 0.36687375, 0.6700353 ])"
      ]
     },
     "execution_count": 99,
     "metadata": {},
     "output_type": "execute_result"
    }
   ],
   "source": [
    "np.random.random(10)"
   ]
  },
  {
   "cell_type": "code",
   "execution_count": 128,
   "id": "fe920cb9-d88c-4290-8af8-bd2982c029c9",
   "metadata": {},
   "outputs": [
    {
     "data": {
      "text/plain": [
       "array([0.29446349, 0.73946765, 0.12188247])"
      ]
     },
     "execution_count": 128,
     "metadata": {},
     "output_type": "execute_result"
    }
   ],
   "source": [
    "np.random.rand(3)"
   ]
  },
  {
   "cell_type": "code",
   "execution_count": 126,
   "id": "d7157d08-39c4-45f3-bd64-ef2a265bc49b",
   "metadata": {},
   "outputs": [
    {
     "data": {
      "text/plain": [
       "array([[0.28674024, 0.39214872, 0.67477839],\n",
       "       [0.48680056, 0.03293002, 0.9600511 ],\n",
       "       [0.94239338, 0.21840655, 0.46323303]])"
      ]
     },
     "execution_count": 126,
     "metadata": {},
     "output_type": "execute_result"
    }
   ],
   "source": [
    "np.random.rand(3,3)"
   ]
  },
  {
   "cell_type": "markdown",
   "id": "203751df-2efd-4531-b210-68a092ece22e",
   "metadata": {},
   "source": [
    "# randint"
   ]
  },
  {
   "cell_type": "code",
   "execution_count": 122,
   "id": "56fc12d5-12e3-460e-b167-23d84383f761",
   "metadata": {},
   "outputs": [
    {
     "data": {
      "text/plain": [
       "3"
      ]
     },
     "execution_count": 122,
     "metadata": {},
     "output_type": "execute_result"
    }
   ],
   "source": [
    "np.random.randint(5)"
   ]
  },
  {
   "cell_type": "code",
   "execution_count": 147,
   "id": "3c72436b-aa5f-42b1-8148-2ed59e151eba",
   "metadata": {},
   "outputs": [
    {
     "data": {
      "text/plain": [
       "2"
      ]
     },
     "execution_count": 147,
     "metadata": {},
     "output_type": "execute_result"
    }
   ],
   "source": [
    "np.random.randint(1,10)             # prints some random value between 1 to 10"
   ]
  },
  {
   "cell_type": "code",
   "execution_count": 155,
   "id": "2a518b41-b8de-40b2-8012-c9e841157e3f",
   "metadata": {},
   "outputs": [
    {
     "data": {
      "text/plain": [
       "array([36, 41, 39, 32, 34])"
      ]
     },
     "execution_count": 155,
     "metadata": {},
     "output_type": "execute_result"
    }
   ],
   "source": [
    "np.random.randint(10,50,5)          # prints some random values between 10 to 50 with 5 values"
   ]
  },
  {
   "cell_type": "code",
   "execution_count": 161,
   "id": "63836428-3035-4d61-9f42-09add869e015",
   "metadata": {},
   "outputs": [
    {
     "data": {
      "text/plain": [
       "array([[15,  9,  6],\n",
       "       [ 7, 27, 29],\n",
       "       [23, 20, 14],\n",
       "       [11,  1, 25]])"
      ]
     },
     "execution_count": 161,
     "metadata": {},
     "output_type": "execute_result"
    }
   ],
   "source": [
    "np.random.randint(0,30,(4,3))        "
   ]
  },
  {
   "cell_type": "code",
   "execution_count": 167,
   "id": "315d8268-5f05-42d1-9bbe-55a6b6faf167",
   "metadata": {},
   "outputs": [
    {
     "data": {
      "text/plain": [
       "array([[4, 5],\n",
       "       [1, 0]])"
      ]
     },
     "execution_count": 167,
     "metadata": {},
     "output_type": "execute_result"
    }
   ],
   "source": [
    "np.random.randint(0,10,(2,2))"
   ]
  },
  {
   "cell_type": "markdown",
   "id": "8e1e5eb7-d17f-4842-a8aa-572f924069a2",
   "metadata": {},
   "source": [
    "# identity"
   ]
  },
  {
   "cell_type": "code",
   "execution_count": 173,
   "id": "022768e3-5d75-40b8-8716-28f6c9961f18",
   "metadata": {},
   "outputs": [
    {
     "data": {
      "text/plain": [
       "array([[1., 0.],\n",
       "       [0., 1.]])"
      ]
     },
     "execution_count": 173,
     "metadata": {},
     "output_type": "execute_result"
    }
   ],
   "source": [
    "x = np.identity(2)\n",
    "x"
   ]
  },
  {
   "cell_type": "code",
   "execution_count": 177,
   "id": "158ecf10-fde8-4b69-a8fb-77b09bf33a8e",
   "metadata": {},
   "outputs": [
    {
     "data": {
      "text/plain": [
       "array([[1, 0, 0],\n",
       "       [0, 1, 0],\n",
       "       [0, 0, 1]])"
      ]
     },
     "execution_count": 177,
     "metadata": {},
     "output_type": "execute_result"
    }
   ],
   "source": [
    "x1= np.identity(3,dtype=int)\n",
    "x1"
   ]
  },
  {
   "cell_type": "code",
   "execution_count": 179,
   "id": "7aa3c31f-ae50-4554-875e-57303094bb2b",
   "metadata": {},
   "outputs": [
    {
     "data": {
      "text/plain": [
       "array([[1, 0, 0, 0, 0, 0],\n",
       "       [0, 1, 0, 0, 0, 0],\n",
       "       [0, 0, 1, 0, 0, 0],\n",
       "       [0, 0, 0, 1, 0, 0],\n",
       "       [0, 0, 0, 0, 1, 0],\n",
       "       [0, 0, 0, 0, 0, 1]])"
      ]
     },
     "execution_count": 179,
     "metadata": {},
     "output_type": "execute_result"
    }
   ],
   "source": [
    "x2= np.identity(6,dtype=int)\n",
    "x2"
   ]
  },
  {
   "cell_type": "markdown",
   "id": "637c77c1-f865-4484-bbc8-2b94403033a7",
   "metadata": {},
   "source": [
    "# shape"
   ]
  },
  {
   "cell_type": "code",
   "execution_count": 186,
   "id": "102d18c2-258d-40a0-afcf-0e6effa68157",
   "metadata": {},
   "outputs": [
    {
     "data": {
      "text/plain": [
       "array([[1., 0.],\n",
       "       [0., 1.]])"
      ]
     },
     "execution_count": 186,
     "metadata": {},
     "output_type": "execute_result"
    }
   ],
   "source": [
    "x"
   ]
  },
  {
   "cell_type": "code",
   "execution_count": 188,
   "id": "dac1a07d-8b57-42b6-9a1e-b0b3529e0f0f",
   "metadata": {},
   "outputs": [
    {
     "data": {
      "text/plain": [
       "(2, 2)"
      ]
     },
     "execution_count": 188,
     "metadata": {},
     "output_type": "execute_result"
    }
   ],
   "source": [
    "x.shape"
   ]
  },
  {
   "cell_type": "code",
   "execution_count": 190,
   "id": "d443169a-3d8c-407b-aacc-0e86bb68fea4",
   "metadata": {},
   "outputs": [
    {
     "data": {
      "text/plain": [
       "array([[1, 0, 0],\n",
       "       [0, 1, 0],\n",
       "       [0, 0, 1]])"
      ]
     },
     "execution_count": 190,
     "metadata": {},
     "output_type": "execute_result"
    }
   ],
   "source": [
    "x1"
   ]
  },
  {
   "cell_type": "code",
   "execution_count": 192,
   "id": "9da98327-b089-4967-a579-9497ee8b31a8",
   "metadata": {},
   "outputs": [
    {
     "data": {
      "text/plain": [
       "(3, 3)"
      ]
     },
     "execution_count": 192,
     "metadata": {},
     "output_type": "execute_result"
    }
   ],
   "source": [
    "x1.shape"
   ]
  },
  {
   "cell_type": "code",
   "execution_count": 194,
   "id": "58bc2aab-a2b3-46c5-9964-c896222c1317",
   "metadata": {},
   "outputs": [
    {
     "data": {
      "text/plain": [
       "array([[1., 1., 1.]])"
      ]
     },
     "execution_count": 194,
     "metadata": {},
     "output_type": "execute_result"
    }
   ],
   "source": [
    "a"
   ]
  },
  {
   "cell_type": "code",
   "execution_count": 196,
   "id": "97331333-b80b-4426-a053-ed4abb7ac5bb",
   "metadata": {},
   "outputs": [
    {
     "data": {
      "text/plain": [
       "(1, 3)"
      ]
     },
     "execution_count": 196,
     "metadata": {},
     "output_type": "execute_result"
    }
   ],
   "source": [
    "a.shape"
   ]
  },
  {
   "cell_type": "code",
   "execution_count": 200,
   "id": "48ad2956-7c67-4513-b374-709cb4cc09ab",
   "metadata": {},
   "outputs": [
    {
     "data": {
      "text/plain": [
       "array([0, 1, 2, 3, 4])"
      ]
     },
     "execution_count": 200,
     "metadata": {},
     "output_type": "execute_result"
    }
   ],
   "source": [
    "x3=np.arange(5)\n",
    "x3"
   ]
  },
  {
   "cell_type": "code",
   "execution_count": 202,
   "id": "0c9bfd8d-9429-4cf9-885b-213242c94814",
   "metadata": {},
   "outputs": [
    {
     "data": {
      "text/plain": [
       "(5,)"
      ]
     },
     "execution_count": 202,
     "metadata": {},
     "output_type": "execute_result"
    }
   ],
   "source": [
    "x3.shape"
   ]
  },
  {
   "cell_type": "markdown",
   "id": "0f67d969-efb7-4b2b-893a-4ab502230108",
   "metadata": {},
   "source": [
    "# size"
   ]
  },
  {
   "cell_type": "code",
   "execution_count": 209,
   "id": "fa9b180d-4e58-4e7e-8721-ae64095c5eee",
   "metadata": {},
   "outputs": [
    {
     "data": {
      "text/plain": [
       "array([[0, 1],\n",
       "       [2, 3],\n",
       "       [4, 5],\n",
       "       [6, 7],\n",
       "       [8, 9]])"
      ]
     },
     "execution_count": 209,
     "metadata": {},
     "output_type": "execute_result"
    }
   ],
   "source": [
    "b1"
   ]
  },
  {
   "cell_type": "code",
   "execution_count": 211,
   "id": "2faa8a02-acb4-45b3-8e99-48ed354f8afc",
   "metadata": {},
   "outputs": [
    {
     "data": {
      "text/plain": [
       "10"
      ]
     },
     "execution_count": 211,
     "metadata": {},
     "output_type": "execute_result"
    }
   ],
   "source": [
    "b1.size"
   ]
  },
  {
   "cell_type": "code",
   "execution_count": 213,
   "id": "881c32ae-9ac5-4176-98b1-6cc0546384fc",
   "metadata": {},
   "outputs": [
    {
     "data": {
      "text/plain": [
       "array([0, 1, 2, 3, 4])"
      ]
     },
     "execution_count": 213,
     "metadata": {},
     "output_type": "execute_result"
    }
   ],
   "source": [
    "x3"
   ]
  },
  {
   "cell_type": "code",
   "execution_count": 215,
   "id": "cb8134bb-2443-4e0c-89d9-9aca35cc0111",
   "metadata": {},
   "outputs": [
    {
     "data": {
      "text/plain": [
       "5"
      ]
     },
     "execution_count": 215,
     "metadata": {},
     "output_type": "execute_result"
    }
   ],
   "source": [
    "x3.size"
   ]
  },
  {
   "cell_type": "code",
   "execution_count": 217,
   "id": "65220765-fe58-4147-975e-59274c2abfe5",
   "metadata": {},
   "outputs": [
    {
     "data": {
      "text/plain": [
       "array([[1, 2, 3],\n",
       "       [4, 5, 6]])"
      ]
     },
     "execution_count": 217,
     "metadata": {},
     "output_type": "execute_result"
    }
   ],
   "source": [
    "c"
   ]
  },
  {
   "cell_type": "code",
   "execution_count": 219,
   "id": "954c51b4-5bc0-45df-b255-2bd2b67546cd",
   "metadata": {},
   "outputs": [
    {
     "data": {
      "text/plain": [
       "6"
      ]
     },
     "execution_count": 219,
     "metadata": {},
     "output_type": "execute_result"
    }
   ],
   "source": [
    "c.size"
   ]
  },
  {
   "cell_type": "code",
   "execution_count": 221,
   "id": "8580fe75-94a4-4072-996a-98977dde6542",
   "metadata": {},
   "outputs": [
    {
     "data": {
      "text/plain": [
       "dtype('int32')"
      ]
     },
     "execution_count": 221,
     "metadata": {},
     "output_type": "execute_result"
    }
   ],
   "source": [
    "c.dtype"
   ]
  },
  {
   "cell_type": "code",
   "execution_count": 223,
   "id": "9deab30f-6c72-4f36-8369-0a930864a1d3",
   "metadata": {},
   "outputs": [
    {
     "data": {
      "text/plain": [
       "dtype('int32')"
      ]
     },
     "execution_count": 223,
     "metadata": {},
     "output_type": "execute_result"
    }
   ],
   "source": [
    "x3.dtype"
   ]
  },
  {
   "cell_type": "markdown",
   "id": "e4357680-b343-4185-911e-6a073de85e03",
   "metadata": {},
   "source": [
    "# astype"
   ]
  },
  {
   "cell_type": "code",
   "execution_count": 226,
   "id": "62519df3-9984-408d-8ca5-f62dc835879d",
   "metadata": {},
   "outputs": [
    {
     "data": {
      "text/plain": [
       "array([0, 1, 2, 3, 4])"
      ]
     },
     "execution_count": 226,
     "metadata": {},
     "output_type": "execute_result"
    }
   ],
   "source": [
    "x3"
   ]
  },
  {
   "cell_type": "code",
   "execution_count": 228,
   "id": "d489ff43-2abf-4b14-8ac9-350a8488e6fd",
   "metadata": {},
   "outputs": [
    {
     "data": {
      "text/plain": [
       "array([0., 1., 2., 3., 4.])"
      ]
     },
     "execution_count": 228,
     "metadata": {},
     "output_type": "execute_result"
    }
   ],
   "source": [
    "x3.astype(float)"
   ]
  },
  {
   "cell_type": "code",
   "execution_count": 230,
   "id": "a2d983b8-6e43-43bc-8632-af95289b83ef",
   "metadata": {},
   "outputs": [
    {
     "data": {
      "text/plain": [
       "array([[1., 1., 1.]])"
      ]
     },
     "execution_count": 230,
     "metadata": {},
     "output_type": "execute_result"
    }
   ],
   "source": [
    "a"
   ]
  },
  {
   "cell_type": "code",
   "execution_count": 234,
   "id": "ff26981b-3236-4048-9d2b-c75e98603f15",
   "metadata": {},
   "outputs": [
    {
     "data": {
      "text/plain": [
       "array([[1, 1, 1]])"
      ]
     },
     "execution_count": 234,
     "metadata": {},
     "output_type": "execute_result"
    }
   ],
   "source": [
    "a.astype(int)"
   ]
  },
  {
   "cell_type": "markdown",
   "id": "9644f1d2-fbdc-40a5-be4c-d1506f03c539",
   "metadata": {},
   "source": [
    "# array operations"
   ]
  },
  {
   "cell_type": "code",
   "execution_count": 237,
   "id": "135fcbbf-8d99-4640-a1c6-d51ea5ba0d69",
   "metadata": {},
   "outputs": [
    {
     "data": {
      "text/plain": [
       "array([[ 0,  1,  2],\n",
       "       [ 3,  4,  5],\n",
       "       [ 6,  7,  8],\n",
       "       [ 9, 10, 11],\n",
       "       [12, 13, 14]])"
      ]
     },
     "execution_count": 237,
     "metadata": {},
     "output_type": "execute_result"
    }
   ],
   "source": [
    "z1 = np.arange(15).reshape(5,3)\n",
    "z1"
   ]
  },
  {
   "cell_type": "code",
   "execution_count": 245,
   "id": "a4b42d46-0ac8-4317-9f97-1862e2275b01",
   "metadata": {},
   "outputs": [
    {
     "data": {
      "text/plain": [
       "array([[ 8, 13, 14],\n",
       "       [14,  0, 13],\n",
       "       [ 4,  6,  0],\n",
       "       [ 3,  3,  3],\n",
       "       [12, 10,  7]])"
      ]
     },
     "execution_count": 245,
     "metadata": {},
     "output_type": "execute_result"
    }
   ],
   "source": [
    "z2 = np.random.randint(0,15,(5,3))\n",
    "z2"
   ]
  },
  {
   "cell_type": "code",
   "execution_count": 249,
   "id": "d06a8950-efc1-4502-941e-b81a6bf08a33",
   "metadata": {},
   "outputs": [
    {
     "data": {
      "text/plain": [
       "array([[ 8, 14, 16],\n",
       "       [17,  4, 18],\n",
       "       [10, 13,  8],\n",
       "       [12, 13, 14],\n",
       "       [24, 23, 21]])"
      ]
     },
     "execution_count": 249,
     "metadata": {},
     "output_type": "execute_result"
    }
   ],
   "source": [
    "# arithmetic operator\n",
    "z1+z2"
   ]
  },
  {
   "cell_type": "code",
   "execution_count": 251,
   "id": "3fa4c588-21a2-4920-98e4-3a2aff45ffd0",
   "metadata": {},
   "outputs": [
    {
     "data": {
      "text/plain": [
       "array([[ -8, -12, -12],\n",
       "       [-11,   4,  -8],\n",
       "       [  2,   1,   8],\n",
       "       [  6,   7,   8],\n",
       "       [  0,   3,   7]])"
      ]
     },
     "execution_count": 251,
     "metadata": {},
     "output_type": "execute_result"
    }
   ],
   "source": [
    "# substraction\n",
    "z1-z2"
   ]
  },
  {
   "cell_type": "code",
   "execution_count": 253,
   "id": "00547ee0-9231-455d-ac18-99299eee6aee",
   "metadata": {},
   "outputs": [
    {
     "data": {
      "text/plain": [
       "array([[  0,  13,  28],\n",
       "       [ 42,   0,  65],\n",
       "       [ 24,  42,   0],\n",
       "       [ 27,  30,  33],\n",
       "       [144, 130,  98]])"
      ]
     },
     "execution_count": 253,
     "metadata": {},
     "output_type": "execute_result"
    }
   ],
   "source": [
    "z1*z2"
   ]
  },
  {
   "cell_type": "code",
   "execution_count": 260,
   "id": "9152f3af-d79c-4d68-b19e-c9e12789b5e9",
   "metadata": {},
   "outputs": [
    {
     "data": {
      "text/plain": [
       "array([[  0,   1,   4],\n",
       "       [  9,  16,  25],\n",
       "       [ 36,  49,  64],\n",
       "       [ 81, 100, 121],\n",
       "       [144, 169, 196]])"
      ]
     },
     "execution_count": 260,
     "metadata": {},
     "output_type": "execute_result"
    }
   ],
   "source": [
    "z1**2"
   ]
  },
  {
   "cell_type": "code",
   "execution_count": 264,
   "id": "64f64055-b952-481a-b477-14066bd7bbb6",
   "metadata": {},
   "outputs": [
    {
     "data": {
      "text/plain": [
       "array([[0, 1, 0],\n",
       "       [1, 0, 1],\n",
       "       [0, 1, 0],\n",
       "       [1, 0, 1],\n",
       "       [0, 1, 0]], dtype=int32)"
      ]
     },
     "execution_count": 264,
     "metadata": {},
     "output_type": "execute_result"
    }
   ],
   "source": [
    "z1%2"
   ]
  },
  {
   "cell_type": "markdown",
   "id": "4923fdb6-c606-461e-993c-f1c352d93031",
   "metadata": {},
   "source": [
    "# relational operator"
   ]
  },
  {
   "cell_type": "code",
   "execution_count": 267,
   "id": "bce3c735-0faf-41c2-a9c6-a916bd6cd3b4",
   "metadata": {},
   "outputs": [
    {
     "data": {
      "text/plain": [
       "array([[ 0,  1,  2],\n",
       "       [ 3,  4,  5],\n",
       "       [ 6,  7,  8],\n",
       "       [ 9, 10, 11],\n",
       "       [12, 13, 14]])"
      ]
     },
     "execution_count": 267,
     "metadata": {},
     "output_type": "execute_result"
    }
   ],
   "source": [
    "z1"
   ]
  },
  {
   "cell_type": "code",
   "execution_count": 269,
   "id": "381e6925-3ee3-4605-81f7-7472a45128fd",
   "metadata": {},
   "outputs": [
    {
     "data": {
      "text/plain": [
       "array([[ 8, 13, 14],\n",
       "       [14,  0, 13],\n",
       "       [ 4,  6,  0],\n",
       "       [ 3,  3,  3],\n",
       "       [12, 10,  7]])"
      ]
     },
     "execution_count": 269,
     "metadata": {},
     "output_type": "execute_result"
    }
   ],
   "source": [
    "z2"
   ]
  },
  {
   "cell_type": "code",
   "execution_count": 271,
   "id": "9a2b719f-33b1-4a4f-8060-c0354f2215c8",
   "metadata": {},
   "outputs": [
    {
     "data": {
      "text/plain": [
       "array([[False, False, False],\n",
       "       [False,  True, False],\n",
       "       [ True,  True,  True],\n",
       "       [ True,  True,  True],\n",
       "       [False,  True,  True]])"
      ]
     },
     "execution_count": 271,
     "metadata": {},
     "output_type": "execute_result"
    }
   ],
   "source": [
    "z2<z1"
   ]
  },
  {
   "cell_type": "code",
   "execution_count": 273,
   "id": "eae50280-28ca-4e6e-a4a5-3a93901ac2fd",
   "metadata": {},
   "outputs": [
    {
     "data": {
      "text/plain": [
       "array([[ True,  True,  True],\n",
       "       [ True, False,  True],\n",
       "       [False, False, False],\n",
       "       [False, False, False],\n",
       "       [False, False, False]])"
      ]
     },
     "execution_count": 273,
     "metadata": {},
     "output_type": "execute_result"
    }
   ],
   "source": [
    "z1<z2"
   ]
  },
  {
   "cell_type": "code",
   "execution_count": 275,
   "id": "9ebdc47e-ea29-4478-ae29-15d9a39e55d0",
   "metadata": {},
   "outputs": [
    {
     "data": {
      "text/plain": [
       "array([[ True,  True,  True],\n",
       "       [ True,  True,  True],\n",
       "       [ True,  True,  True],\n",
       "       [ True,  True,  True],\n",
       "       [False,  True,  True]])"
      ]
     },
     "execution_count": 275,
     "metadata": {},
     "output_type": "execute_result"
    }
   ],
   "source": [
    "z1!=z2"
   ]
  },
  {
   "cell_type": "code",
   "execution_count": 277,
   "id": "8ecd9cff-047a-4ff4-9c1a-00443eaaaccb",
   "metadata": {},
   "outputs": [
    {
     "data": {
      "text/plain": [
       "array([[ True,  True,  True],\n",
       "       [ True, False,  True],\n",
       "       [False, False, False],\n",
       "       [False, False, False],\n",
       "       [ True, False, False]])"
      ]
     },
     "execution_count": 277,
     "metadata": {},
     "output_type": "execute_result"
    }
   ],
   "source": [
    "z1<=z2"
   ]
  },
  {
   "cell_type": "code",
   "execution_count": 279,
   "id": "914c0715-d037-431f-b794-5e3a16e4e4af",
   "metadata": {},
   "outputs": [
    {
     "data": {
      "text/plain": [
       "array([[ True,  True,  True],\n",
       "       [ True, False,  True],\n",
       "       [False, False, False],\n",
       "       [False, False, False],\n",
       "       [ True, False, False]])"
      ]
     },
     "execution_count": 279,
     "metadata": {},
     "output_type": "execute_result"
    }
   ],
   "source": [
    "z2>=z1"
   ]
  },
  {
   "cell_type": "markdown",
   "id": "18341ffe-632a-43d1-b3ab-436568bb99c5",
   "metadata": {},
   "source": [
    "# round"
   ]
  },
  {
   "cell_type": "code",
   "execution_count": 289,
   "id": "4f399967-d82b-4688-bd1c-a121cca0d5d8",
   "metadata": {},
   "outputs": [
    {
     "data": {
      "text/plain": [
       "array([1.5, 7.8, 9.1])"
      ]
     },
     "execution_count": 289,
     "metadata": {},
     "output_type": "execute_result"
    }
   ],
   "source": [
    "arr = np.array([1.5,7.8,9.1])\n",
    "arr"
   ]
  },
  {
   "cell_type": "code",
   "execution_count": 327,
   "id": "d211d2d0-5882-44b7-86c5-9abe891e2a47",
   "metadata": {},
   "outputs": [
    {
     "data": {
      "text/plain": [
       "array([2., 8., 9.])"
      ]
     },
     "execution_count": 327,
     "metadata": {},
     "output_type": "execute_result"
    }
   ],
   "source": [
    "np.round(arr)"
   ]
  },
  {
   "cell_type": "code",
   "execution_count": 329,
   "id": "ad35e952-d4ac-4550-a414-a7cdb81ff25b",
   "metadata": {},
   "outputs": [
    {
     "data": {
      "text/plain": [
       "array([1., 2., 4.])"
      ]
     },
     "execution_count": 329,
     "metadata": {},
     "output_type": "execute_result"
    }
   ],
   "source": [
    "arr1 = np.array([1.2,2.3,4.4])\n",
    "np.round(arr1)"
   ]
  },
  {
   "cell_type": "markdown",
   "id": "2dd5dc61-6da6-4c21-b5c8-36bd029a8568",
   "metadata": {},
   "source": [
    "# floor"
   ]
  },
  {
   "cell_type": "code",
   "execution_count": 304,
   "id": "bba5239b-f31e-4044-b00f-2d73f0881f20",
   "metadata": {},
   "outputs": [
    {
     "data": {
      "text/plain": [
       "array([1.5, 7.8, 9.1])"
      ]
     },
     "execution_count": 304,
     "metadata": {},
     "output_type": "execute_result"
    }
   ],
   "source": [
    "arr"
   ]
  },
  {
   "cell_type": "code",
   "execution_count": 310,
   "id": "48b9385a-5aab-4f5d-ab98-17c3cad12275",
   "metadata": {},
   "outputs": [
    {
     "data": {
      "text/plain": [
       "array([1., 7., 9.])"
      ]
     },
     "execution_count": 310,
     "metadata": {},
     "output_type": "execute_result"
    }
   ],
   "source": [
    "np.floor(arr)"
   ]
  },
  {
   "cell_type": "code",
   "execution_count": 312,
   "id": "38eeddd5-bccb-43f7-b8ce-ff5e9d89d2ae",
   "metadata": {},
   "outputs": [
    {
     "data": {
      "text/plain": [
       "array([1.2, 2.3, 4.4])"
      ]
     },
     "execution_count": 312,
     "metadata": {},
     "output_type": "execute_result"
    }
   ],
   "source": [
    "arr1"
   ]
  },
  {
   "cell_type": "code",
   "execution_count": 314,
   "id": "d232ca88-2d20-47a7-8867-ac30a77f7872",
   "metadata": {},
   "outputs": [
    {
     "data": {
      "text/plain": [
       "array([1., 2., 4.])"
      ]
     },
     "execution_count": 314,
     "metadata": {},
     "output_type": "execute_result"
    }
   ],
   "source": [
    "np.floor(arr1)"
   ]
  },
  {
   "cell_type": "markdown",
   "id": "e25f3a36-17b3-4d21-a7fe-b4021f48efde",
   "metadata": {},
   "source": [
    "# ceil"
   ]
  },
  {
   "cell_type": "code",
   "execution_count": 317,
   "id": "57b1e68f-1cdc-4cde-9f07-447138045235",
   "metadata": {},
   "outputs": [
    {
     "data": {
      "text/plain": [
       "array([1.5, 7.8, 9.1])"
      ]
     },
     "execution_count": 317,
     "metadata": {},
     "output_type": "execute_result"
    }
   ],
   "source": [
    "arr"
   ]
  },
  {
   "cell_type": "code",
   "execution_count": 319,
   "id": "cd7d9f34-cd5c-4478-a5c7-cbb069da2cfd",
   "metadata": {},
   "outputs": [
    {
     "data": {
      "text/plain": [
       "array([ 2.,  8., 10.])"
      ]
     },
     "execution_count": 319,
     "metadata": {},
     "output_type": "execute_result"
    }
   ],
   "source": [
    "np.ceil(arr)"
   ]
  },
  {
   "cell_type": "code",
   "execution_count": 323,
   "id": "5b188227-c6ae-4b22-a638-f9fc9003561c",
   "metadata": {},
   "outputs": [
    {
     "data": {
      "text/plain": [
       "array([1.2, 2.3, 4.4])"
      ]
     },
     "execution_count": 323,
     "metadata": {},
     "output_type": "execute_result"
    }
   ],
   "source": [
    "arr1"
   ]
  },
  {
   "cell_type": "code",
   "execution_count": 325,
   "id": "c7dfb863-11d2-4ba8-ab8e-1d392b0b0ec5",
   "metadata": {},
   "outputs": [
    {
     "data": {
      "text/plain": [
       "array([2., 3., 5.])"
      ]
     },
     "execution_count": 325,
     "metadata": {},
     "output_type": "execute_result"
    }
   ],
   "source": [
    "np.ceil(arr1)"
   ]
  },
  {
   "cell_type": "markdown",
   "id": "2bd7f439-8eac-495d-9079-267dd7dbf9cd",
   "metadata": {},
   "source": [
    "# indexing & slicing"
   ]
  },
  {
   "cell_type": "code",
   "execution_count": 339,
   "id": "a8be9944-816a-4ec4-b5fa-4ca9e2118d0a",
   "metadata": {},
   "outputs": [
    {
     "data": {
      "text/plain": [
       "array([ 0,  1,  2,  3,  4,  5,  6,  7,  8,  9, 10, 11, 12, 13, 14, 15])"
      ]
     },
     "execution_count": 339,
     "metadata": {},
     "output_type": "execute_result"
    }
   ],
   "source": [
    "arr_1 = np.arange(16)\n",
    "arr_1"
   ]
  },
  {
   "cell_type": "code",
   "execution_count": 341,
   "id": "18702e6a-56ad-4c46-bc51-4f542d4bd604",
   "metadata": {},
   "outputs": [
    {
     "data": {
      "text/plain": [
       "0"
      ]
     },
     "execution_count": 341,
     "metadata": {},
     "output_type": "execute_result"
    }
   ],
   "source": [
    "arr_1[0]"
   ]
  },
  {
   "cell_type": "code",
   "execution_count": 343,
   "id": "6dcf56fd-c926-42ad-88df-d3a889f27d54",
   "metadata": {},
   "outputs": [
    {
     "data": {
      "text/plain": [
       "5"
      ]
     },
     "execution_count": 343,
     "metadata": {},
     "output_type": "execute_result"
    }
   ],
   "source": [
    "arr_1[5]"
   ]
  },
  {
   "cell_type": "code",
   "execution_count": 345,
   "id": "9f79400a-7a4b-4fd1-9920-fb953fc24ddc",
   "metadata": {},
   "outputs": [
    {
     "data": {
      "text/plain": [
       "array([0, 1, 2, 3, 4, 5])"
      ]
     },
     "execution_count": 345,
     "metadata": {},
     "output_type": "execute_result"
    }
   ],
   "source": [
    "arr_1[:6]"
   ]
  },
  {
   "cell_type": "code",
   "execution_count": 347,
   "id": "c4a681bc-4fef-4cf1-8e04-4a8400d58c33",
   "metadata": {},
   "outputs": [
    {
     "data": {
      "text/plain": [
       "array([[ 0,  1,  2,  3,  4,  5,  6,  7,  8,  9],\n",
       "       [10, 11, 12, 13, 14, 15, 16, 17, 18, 19],\n",
       "       [20, 21, 22, 23, 24, 25, 26, 27, 28, 29],\n",
       "       [30, 31, 32, 33, 34, 35, 36, 37, 38, 39],\n",
       "       [40, 41, 42, 43, 44, 45, 46, 47, 48, 49],\n",
       "       [50, 51, 52, 53, 54, 55, 56, 57, 58, 59],\n",
       "       [60, 61, 62, 63, 64, 65, 66, 67, 68, 69],\n",
       "       [70, 71, 72, 73, 74, 75, 76, 77, 78, 79],\n",
       "       [80, 81, 82, 83, 84, 85, 86, 87, 88, 89],\n",
       "       [90, 91, 92, 93, 94, 95, 96, 97, 98, 99]])"
      ]
     },
     "execution_count": 347,
     "metadata": {},
     "output_type": "execute_result"
    }
   ],
   "source": [
    "arr_2=np.arange(100).reshape(10,10)\n",
    "arr_2"
   ]
  },
  {
   "cell_type": "code",
   "execution_count": 349,
   "id": "bc9e9994-937e-45ec-8ba6-4f7dd07099ed",
   "metadata": {},
   "outputs": [
    {
     "data": {
      "text/plain": [
       "array([[ 0,  1,  2,  3,  4,  5,  6,  7,  8,  9],\n",
       "       [10, 11, 12, 13, 14, 15, 16, 17, 18, 19],\n",
       "       [20, 21, 22, 23, 24, 25, 26, 27, 28, 29],\n",
       "       [30, 31, 32, 33, 34, 35, 36, 37, 38, 39],\n",
       "       [40, 41, 42, 43, 44, 45, 46, 47, 48, 49],\n",
       "       [50, 51, 52, 53, 54, 55, 56, 57, 58, 59]])"
      ]
     },
     "execution_count": 349,
     "metadata": {},
     "output_type": "execute_result"
    }
   ],
   "source": [
    "arr_2[:6]"
   ]
  },
  {
   "cell_type": "code",
   "execution_count": 351,
   "id": "784a1321-9c2f-430d-aa35-65205d8c1236",
   "metadata": {},
   "outputs": [
    {
     "data": {
      "text/plain": [
       "array([[0, 1, 2, 3, 4, 5, 6, 7, 8, 9]])"
      ]
     },
     "execution_count": 351,
     "metadata": {},
     "output_type": "execute_result"
    }
   ],
   "source": [
    "arr_2[:1]"
   ]
  },
  {
   "cell_type": "code",
   "execution_count": 355,
   "id": "28d74d1d-a101-4152-8726-bba3cf6199d1",
   "metadata": {},
   "outputs": [
    {
     "data": {
      "text/plain": [
       "array([[10, 11, 12, 13, 14, 15, 16, 17, 18, 19],\n",
       "       [20, 21, 22, 23, 24, 25, 26, 27, 28, 29],\n",
       "       [30, 31, 32, 33, 34, 35, 36, 37, 38, 39],\n",
       "       [40, 41, 42, 43, 44, 45, 46, 47, 48, 49],\n",
       "       [50, 51, 52, 53, 54, 55, 56, 57, 58, 59],\n",
       "       [60, 61, 62, 63, 64, 65, 66, 67, 68, 69]])"
      ]
     },
     "execution_count": 355,
     "metadata": {},
     "output_type": "execute_result"
    }
   ],
   "source": [
    "arr_2[1:-3]"
   ]
  },
  {
   "cell_type": "code",
   "execution_count": 357,
   "id": "fe8bce3f-fb0b-4a38-8366-9213976794c6",
   "metadata": {},
   "outputs": [
    {
     "data": {
      "text/plain": [
       "95"
      ]
     },
     "execution_count": 357,
     "metadata": {},
     "output_type": "execute_result"
    }
   ],
   "source": [
    "arr_2[-1,-5]"
   ]
  },
  {
   "cell_type": "code",
   "execution_count": 359,
   "id": "39601ed2-7708-41cc-b858-77e25a32f27c",
   "metadata": {},
   "outputs": [
    {
     "data": {
      "text/plain": [
       "array([[90, 91, 92, 93, 94, 95, 96, 97, 98, 99],\n",
       "       [80, 81, 82, 83, 84, 85, 86, 87, 88, 89],\n",
       "       [70, 71, 72, 73, 74, 75, 76, 77, 78, 79],\n",
       "       [60, 61, 62, 63, 64, 65, 66, 67, 68, 69],\n",
       "       [50, 51, 52, 53, 54, 55, 56, 57, 58, 59],\n",
       "       [40, 41, 42, 43, 44, 45, 46, 47, 48, 49],\n",
       "       [30, 31, 32, 33, 34, 35, 36, 37, 38, 39],\n",
       "       [20, 21, 22, 23, 24, 25, 26, 27, 28, 29],\n",
       "       [10, 11, 12, 13, 14, 15, 16, 17, 18, 19],\n",
       "       [ 0,  1,  2,  3,  4,  5,  6,  7,  8,  9]])"
      ]
     },
     "execution_count": 359,
     "metadata": {},
     "output_type": "execute_result"
    }
   ],
   "source": [
    "arr_2[::-1]"
   ]
  },
  {
   "cell_type": "code",
   "execution_count": 361,
   "id": "ee6d515e-7db8-4501-8686-938df4855659",
   "metadata": {},
   "outputs": [
    {
     "data": {
      "text/plain": [
       "array([[90, 91, 92, 93, 94, 95, 96, 97, 98, 99],\n",
       "       [60, 61, 62, 63, 64, 65, 66, 67, 68, 69],\n",
       "       [30, 31, 32, 33, 34, 35, 36, 37, 38, 39],\n",
       "       [ 0,  1,  2,  3,  4,  5,  6,  7,  8,  9]])"
      ]
     },
     "execution_count": 361,
     "metadata": {},
     "output_type": "execute_result"
    }
   ],
   "source": [
    "arr_2[::-3]"
   ]
  },
  {
   "cell_type": "code",
   "execution_count": 365,
   "id": "037e732e-f821-475c-b8b5-717081ce1d6c",
   "metadata": {},
   "outputs": [
    {
     "data": {
      "text/plain": [
       "array([[ 0,  1,  2,  3,  4,  5,  6,  7,  8,  9],\n",
       "       [20, 21, 22, 23, 24, 25, 26, 27, 28, 29],\n",
       "       [40, 41, 42, 43, 44, 45, 46, 47, 48, 49],\n",
       "       [60, 61, 62, 63, 64, 65, 66, 67, 68, 69],\n",
       "       [80, 81, 82, 83, 84, 85, 86, 87, 88, 89]])"
      ]
     },
     "execution_count": 365,
     "metadata": {},
     "output_type": "execute_result"
    }
   ],
   "source": [
    "arr_2[::2]"
   ]
  },
  {
   "cell_type": "code",
   "execution_count": 367,
   "id": "f75f0555-77b1-49bd-b8d9-1792483a43cd",
   "metadata": {},
   "outputs": [
    {
     "data": {
      "text/plain": [
       "53"
      ]
     },
     "execution_count": 367,
     "metadata": {},
     "output_type": "execute_result"
    }
   ],
   "source": [
    "arr_2[-5,3]"
   ]
  },
  {
   "cell_type": "code",
   "execution_count": 369,
   "id": "82f5d69e-b300-49d7-9557-261a3e1c62c9",
   "metadata": {},
   "outputs": [
    {
     "data": {
      "text/plain": [
       "76"
      ]
     },
     "execution_count": 369,
     "metadata": {},
     "output_type": "execute_result"
    }
   ],
   "source": [
    "arr_2[7,-4]"
   ]
  },
  {
   "cell_type": "code",
   "execution_count": 371,
   "id": "1b42b7d8-a216-4991-8279-008200208c02",
   "metadata": {},
   "outputs": [
    {
     "data": {
      "text/plain": [
       "array([[ 0,  1,  2,  3,  4,  5,  6,  7,  8,  9],\n",
       "       [10, 11, 12, 13, 14, 15, 16, 17, 18, 19],\n",
       "       [20, 21, 22, 23, 24, 25, 26, 27, 28, 29],\n",
       "       [30, 31, 32, 33, 34, 35, 36, 37, 38, 39],\n",
       "       [40, 41, 42, 43, 44, 45, 46, 47, 48, 49],\n",
       "       [50, 51, 52, 53, 54, 55, 56, 57, 58, 59],\n",
       "       [60, 61, 62, 63, 64, 65, 66, 67, 68, 69],\n",
       "       [70, 71, 72, 73, 74, 75, 76, 77, 78, 79],\n",
       "       [80, 81, 82, 83, 84, 85, 86, 87, 88, 89]])"
      ]
     },
     "execution_count": 371,
     "metadata": {},
     "output_type": "execute_result"
    }
   ],
   "source": [
    "arr_2[0:-1]"
   ]
  },
  {
   "cell_type": "code",
   "execution_count": 373,
   "id": "f72ff3d4-128a-4ac4-abb2-f998d89f5109",
   "metadata": {},
   "outputs": [
    {
     "data": {
      "text/plain": [
       "6"
      ]
     },
     "execution_count": 373,
     "metadata": {},
     "output_type": "execute_result"
    }
   ],
   "source": [
    "arr_2[0,-4]"
   ]
  },
  {
   "cell_type": "code",
   "execution_count": 377,
   "id": "54fee249-388f-4b76-809b-373360cd370c",
   "metadata": {},
   "outputs": [
    {
     "data": {
      "text/plain": [
       "5"
      ]
     },
     "execution_count": 377,
     "metadata": {},
     "output_type": "execute_result"
    }
   ],
   "source": [
    "arr_2[0,5]"
   ]
  },
  {
   "cell_type": "code",
   "execution_count": 379,
   "id": "b57feaae-6585-4939-9c69-82325ec1cbe3",
   "metadata": {},
   "outputs": [
    {
     "data": {
      "text/plain": [
       "array([[ 0,  1,  2,  3,  4,  5,  6,  7,  8,  9],\n",
       "       [10, 11, 12, 13, 14, 15, 16, 17, 18, 19],\n",
       "       [20, 21, 22, 23, 24, 25, 26, 27, 28, 29],\n",
       "       [30, 31, 32, 33, 34, 35, 36, 37, 38, 39],\n",
       "       [40, 41, 42, 43, 44, 45, 46, 47, 48, 49],\n",
       "       [50, 51, 52, 53, 54, 55, 56, 57, 58, 59],\n",
       "       [60, 61, 62, 63, 64, 65, 66, 67, 68, 69],\n",
       "       [70, 71, 72, 73, 74, 75, 76, 77, 78, 79],\n",
       "       [80, 81, 82, 83, 84, 85, 86, 87, 88, 89],\n",
       "       [90, 91, 92, 93, 94, 95, 96, 97, 98, 99]])"
      ]
     },
     "execution_count": 379,
     "metadata": {},
     "output_type": "execute_result"
    }
   ],
   "source": [
    "arr_2"
   ]
  },
  {
   "cell_type": "code",
   "execution_count": 381,
   "id": "b8354281-0162-4d3f-b0be-cf65ee1ef5b0",
   "metadata": {},
   "outputs": [
    {
     "data": {
      "text/plain": [
       "array([[53, 54, 55],\n",
       "       [63, 64, 65],\n",
       "       [73, 74, 75],\n",
       "       [83, 84, 85]])"
      ]
     },
     "execution_count": 381,
     "metadata": {},
     "output_type": "execute_result"
    }
   ],
   "source": [
    "arr_2[5:9,3:6]"
   ]
  },
  {
   "cell_type": "code",
   "execution_count": 383,
   "id": "8a89aae1-5416-4212-ba70-12494c488a7e",
   "metadata": {},
   "outputs": [
    {
     "data": {
      "text/plain": [
       "array([[45]])"
      ]
     },
     "execution_count": 383,
     "metadata": {},
     "output_type": "execute_result"
    }
   ],
   "source": [
    "arr_2[4:5,5:6]"
   ]
  },
  {
   "cell_type": "code",
   "execution_count": 385,
   "id": "b5ea6f93-4b48-4efa-a4f6-14159cd0200c",
   "metadata": {},
   "outputs": [
    {
     "data": {
      "text/plain": [
       "array([[91]])"
      ]
     },
     "execution_count": 385,
     "metadata": {},
     "output_type": "execute_result"
    }
   ],
   "source": [
    "arr_2[9:10,1:2]"
   ]
  },
  {
   "cell_type": "code",
   "execution_count": 387,
   "id": "ff2bf98c-a3fd-443d-a2f6-6a1d373b23cc",
   "metadata": {},
   "outputs": [
    {
     "data": {
      "text/plain": [
       "array([ 0,  1,  2,  3,  4,  5,  6,  7,  8,  9, 10, 11, 12, 13, 14, 15])"
      ]
     },
     "execution_count": 387,
     "metadata": {},
     "output_type": "execute_result"
    }
   ],
   "source": [
    "arr_1"
   ]
  },
  {
   "cell_type": "code",
   "execution_count": 393,
   "id": "151c3e34-fae1-4e7f-bd2f-c223ea2a2975",
   "metadata": {},
   "outputs": [
    {
     "name": "stdout",
     "output_type": "stream",
     "text": [
      "0\n",
      "1\n",
      "2\n",
      "3\n",
      "4\n",
      "5\n",
      "6\n",
      "7\n",
      "8\n",
      "9\n",
      "10\n",
      "11\n",
      "12\n",
      "13\n",
      "14\n",
      "15\n"
     ]
    }
   ],
   "source": [
    "# iterating on array\n",
    "for i in arr_1:\n",
    "    print(i)"
   ]
  },
  {
   "cell_type": "code",
   "execution_count": 395,
   "id": "cd58515c-e09c-4d7a-845d-c68bca90ddbd",
   "metadata": {},
   "outputs": [
    {
     "data": {
      "text/plain": [
       "array([ 0,  1,  2,  3,  4,  5,  6,  7,  8,  9, 10, 11, 12, 13, 14, 15])"
      ]
     },
     "execution_count": 395,
     "metadata": {},
     "output_type": "execute_result"
    }
   ],
   "source": [
    "arr_1"
   ]
  },
  {
   "cell_type": "code",
   "execution_count": 397,
   "id": "5c906711-51ba-4ddc-aa6d-006533566539",
   "metadata": {},
   "outputs": [
    {
     "data": {
      "text/plain": [
       "7.5"
      ]
     },
     "execution_count": 397,
     "metadata": {},
     "output_type": "execute_result"
    }
   ],
   "source": [
    "arr_1.mean()"
   ]
  },
  {
   "cell_type": "code",
   "execution_count": 399,
   "id": "7404937c-8e7b-4f6b-9068-d1adbd8c18f2",
   "metadata": {},
   "outputs": [
    {
     "data": {
      "text/plain": [
       "0"
      ]
     },
     "execution_count": 399,
     "metadata": {},
     "output_type": "execute_result"
    }
   ],
   "source": [
    "arr_1.min()"
   ]
  },
  {
   "cell_type": "code",
   "execution_count": 401,
   "id": "853d54b9-199b-4992-afd2-a74d8a9b410c",
   "metadata": {},
   "outputs": [
    {
     "data": {
      "text/plain": [
       "15"
      ]
     },
     "execution_count": 401,
     "metadata": {},
     "output_type": "execute_result"
    }
   ],
   "source": [
    "arr_1.max()"
   ]
  },
  {
   "cell_type": "code",
   "execution_count": 406,
   "id": "327593d9-e575-43b8-8166-04ae38200c08",
   "metadata": {},
   "outputs": [
    {
     "data": {
      "text/plain": [
       "array([ 0,  1,  2,  3,  4,  5,  6,  7,  8,  9, 10, 11, 12, 13, 14, 15])"
      ]
     },
     "execution_count": 406,
     "metadata": {},
     "output_type": "execute_result"
    }
   ],
   "source": [
    "arr_1"
   ]
  },
  {
   "cell_type": "code",
   "execution_count": 412,
   "id": "19936ea5-9a9e-4020-9d3c-320be8acba8e",
   "metadata": {},
   "outputs": [
    {
     "data": {
      "text/plain": [
       "array([[ 0,  1,  2,  3],\n",
       "       [ 4,  5,  6,  7],\n",
       "       [ 8,  9, 10, 11],\n",
       "       [12, 13, 14, 15]])"
      ]
     },
     "execution_count": 412,
     "metadata": {},
     "output_type": "execute_result"
    }
   ],
   "source": [
    "arr_1.reshape(4,4,order='C')"
   ]
  },
  {
   "cell_type": "code",
   "execution_count": 416,
   "id": "3b8cdd1a-f1d6-4338-80ad-a997b5c56911",
   "metadata": {},
   "outputs": [
    {
     "data": {
      "text/plain": [
       "array([[ 0,  4,  8, 12],\n",
       "       [ 1,  5,  9, 13],\n",
       "       [ 2,  6, 10, 14],\n",
       "       [ 3,  7, 11, 15]])"
      ]
     },
     "execution_count": 416,
     "metadata": {},
     "output_type": "execute_result"
    }
   ],
   "source": [
    "arr_1.reshape(4,4,order='F')"
   ]
  },
  {
   "cell_type": "code",
   "execution_count": 422,
   "id": "922a3df4-2b9a-42a2-8f10-d458e73a4a2f",
   "metadata": {},
   "outputs": [
    {
     "data": {
      "text/plain": [
       "array([[ 0,  1,  2,  3,  4,  5,  6,  7,  8,  9],\n",
       "       [10, 11, 12, 13, 14, 15, 16, 17, 18, 19],\n",
       "       [20, 21, 22, 23, 24, 25, 26, 27, 28, 29],\n",
       "       [30, 31, 32, 33, 34, 35, 36, 37, 38, 39],\n",
       "       [40, 41, 42, 43, 44, 45, 46, 47, 48, 49],\n",
       "       [50, 51, 52, 53, 54, 55, 56, 57, 58, 59],\n",
       "       [60, 61, 62, 63, 64, 65, 66, 67, 68, 69],\n",
       "       [70, 71, 72, 73, 74, 75, 76, 77, 78, 79],\n",
       "       [80, 81, 82, 83, 84, 85, 86, 87, 88, 89],\n",
       "       [90, 91, 92, 93, 94, 95, 96, 97, 98, 99]])"
      ]
     },
     "execution_count": 422,
     "metadata": {},
     "output_type": "execute_result"
    }
   ],
   "source": [
    "mat = np.arange(100).reshape(10,10)\n",
    "mat"
   ]
  },
  {
   "cell_type": "code",
   "execution_count": 424,
   "id": "d1516b62-7986-48c2-8f48-4afbc5d0798b",
   "metadata": {},
   "outputs": [],
   "source": [
    "row = 2"
   ]
  },
  {
   "cell_type": "code",
   "execution_count": 426,
   "id": "8f445690-a4a2-4636-a825-84f6e7704af0",
   "metadata": {},
   "outputs": [],
   "source": [
    "col = 5"
   ]
  },
  {
   "cell_type": "code",
   "execution_count": 428,
   "id": "49ca5053-8bd5-4d26-931c-54cacb788696",
   "metadata": {},
   "outputs": [
    {
     "data": {
      "text/plain": [
       "array([[20, 21, 22, 23, 24, 25, 26, 27, 28, 29],\n",
       "       [30, 31, 32, 33, 34, 35, 36, 37, 38, 39],\n",
       "       [40, 41, 42, 43, 44, 45, 46, 47, 48, 49]])"
      ]
     },
     "execution_count": 428,
     "metadata": {},
     "output_type": "execute_result"
    }
   ],
   "source": [
    "mat[row:col]"
   ]
  },
  {
   "cell_type": "code",
   "execution_count": 430,
   "id": "a611e841-9011-4e07-9b91-25cf1b945f00",
   "metadata": {},
   "outputs": [
    {
     "data": {
      "text/plain": [
       "array([[20, 21, 22, 23, 24, 25, 26, 27, 28, 29],\n",
       "       [30, 31, 32, 33, 34, 35, 36, 37, 38, 39],\n",
       "       [40, 41, 42, 43, 44, 45, 46, 47, 48, 49],\n",
       "       [50, 51, 52, 53, 54, 55, 56, 57, 58, 59],\n",
       "       [60, 61, 62, 63, 64, 65, 66, 67, 68, 69],\n",
       "       [70, 71, 72, 73, 74, 75, 76, 77, 78, 79],\n",
       "       [80, 81, 82, 83, 84, 85, 86, 87, 88, 89],\n",
       "       [90, 91, 92, 93, 94, 95, 96, 97, 98, 99]])"
      ]
     },
     "execution_count": 430,
     "metadata": {},
     "output_type": "execute_result"
    }
   ],
   "source": [
    "mat[row:10]"
   ]
  },
  {
   "cell_type": "code",
   "execution_count": 432,
   "id": "0d8cd7e1-f7aa-4634-bc62-b27205c64655",
   "metadata": {},
   "outputs": [
    {
     "data": {
      "text/plain": [
       "59"
      ]
     },
     "execution_count": 432,
     "metadata": {},
     "output_type": "execute_result"
    }
   ],
   "source": [
    "mat[col,-1]"
   ]
  },
  {
   "cell_type": "code",
   "execution_count": 434,
   "id": "588a008f-ad69-4996-8d4b-6d64ed3d653c",
   "metadata": {},
   "outputs": [
    {
     "data": {
      "text/plain": [
       "array([[25]])"
      ]
     },
     "execution_count": 434,
     "metadata": {},
     "output_type": "execute_result"
    }
   ],
   "source": [
    "mat[row:3,col:6]"
   ]
  },
  {
   "cell_type": "code",
   "execution_count": 436,
   "id": "ca5b9a6c-d370-4923-b682-eb824c60fc9c",
   "metadata": {},
   "outputs": [
    {
     "data": {
      "text/plain": [
       "25"
      ]
     },
     "execution_count": 436,
     "metadata": {},
     "output_type": "execute_result"
    }
   ],
   "source": [
    "mat[row,col]"
   ]
  },
  {
   "cell_type": "code",
   "execution_count": 438,
   "id": "94c9d14f-0b91-410f-b5a0-b4723c3c03ce",
   "metadata": {},
   "outputs": [
    {
     "data": {
      "text/plain": [
       "52"
      ]
     },
     "execution_count": 438,
     "metadata": {},
     "output_type": "execute_result"
    }
   ],
   "source": [
    "mat[col,row]"
   ]
  },
  {
   "cell_type": "markdown",
   "id": "b3d8829e-f9a5-4cf7-a3b9-617e4feba89c",
   "metadata": {},
   "source": [
    "# masking"
   ]
  },
  {
   "cell_type": "code",
   "execution_count": 441,
   "id": "93805381-1103-4351-ad7b-4cf6ebaf3ede",
   "metadata": {},
   "outputs": [
    {
     "data": {
      "text/plain": [
       "array([[ 0,  1,  2,  3,  4,  5,  6,  7,  8,  9],\n",
       "       [10, 11, 12, 13, 14, 15, 16, 17, 18, 19],\n",
       "       [20, 21, 22, 23, 24, 25, 26, 27, 28, 29],\n",
       "       [30, 31, 32, 33, 34, 35, 36, 37, 38, 39],\n",
       "       [40, 41, 42, 43, 44, 45, 46, 47, 48, 49],\n",
       "       [50, 51, 52, 53, 54, 55, 56, 57, 58, 59],\n",
       "       [60, 61, 62, 63, 64, 65, 66, 67, 68, 69],\n",
       "       [70, 71, 72, 73, 74, 75, 76, 77, 78, 79],\n",
       "       [80, 81, 82, 83, 84, 85, 86, 87, 88, 89],\n",
       "       [90, 91, 92, 93, 94, 95, 96, 97, 98, 99]])"
      ]
     },
     "execution_count": 441,
     "metadata": {},
     "output_type": "execute_result"
    }
   ],
   "source": [
    "mat"
   ]
  },
  {
   "cell_type": "code",
   "execution_count": 443,
   "id": "0d574933-0d47-4956-8acb-acc4ea0d8b02",
   "metadata": {},
   "outputs": [
    {
     "data": {
      "text/plain": [
       "array([[ True,  True, False, False, False, False, False, False, False,\n",
       "        False],\n",
       "       [False, False, False, False, False, False, False, False, False,\n",
       "        False],\n",
       "       [False, False, False, False, False, False, False, False, False,\n",
       "        False],\n",
       "       [False, False, False, False, False, False, False, False, False,\n",
       "        False],\n",
       "       [False, False, False, False, False, False, False, False, False,\n",
       "        False],\n",
       "       [False, False, False, False, False, False, False, False, False,\n",
       "        False],\n",
       "       [False, False, False, False, False, False, False, False, False,\n",
       "        False],\n",
       "       [False, False, False, False, False, False, False, False, False,\n",
       "        False],\n",
       "       [False, False, False, False, False, False, False, False, False,\n",
       "        False],\n",
       "       [False, False, False, False, False, False, False, False, False,\n",
       "        False]])"
      ]
     },
     "execution_count": 443,
     "metadata": {},
     "output_type": "execute_result"
    }
   ],
   "source": [
    "mat<row"
   ]
  },
  {
   "cell_type": "code",
   "execution_count": 445,
   "id": "505393a7-571d-4b0f-8606-6407215fba47",
   "metadata": {},
   "outputs": [
    {
     "data": {
      "text/plain": [
       "array([[False, False, False, False, False, False,  True,  True,  True,\n",
       "         True],\n",
       "       [ True,  True,  True,  True,  True,  True,  True,  True,  True,\n",
       "         True],\n",
       "       [ True,  True,  True,  True,  True,  True,  True,  True,  True,\n",
       "         True],\n",
       "       [ True,  True,  True,  True,  True,  True,  True,  True,  True,\n",
       "         True],\n",
       "       [ True,  True,  True,  True,  True,  True,  True,  True,  True,\n",
       "         True],\n",
       "       [ True,  True,  True,  True,  True,  True,  True,  True,  True,\n",
       "         True],\n",
       "       [ True,  True,  True,  True,  True,  True,  True,  True,  True,\n",
       "         True],\n",
       "       [ True,  True,  True,  True,  True,  True,  True,  True,  True,\n",
       "         True],\n",
       "       [ True,  True,  True,  True,  True,  True,  True,  True,  True,\n",
       "         True],\n",
       "       [ True,  True,  True,  True,  True,  True,  True,  True,  True,\n",
       "         True]])"
      ]
     },
     "execution_count": 445,
     "metadata": {},
     "output_type": "execute_result"
    }
   ],
   "source": [
    "mat>col"
   ]
  },
  {
   "cell_type": "code",
   "execution_count": 447,
   "id": "80d74bc7-b49d-4160-9612-edf4d78650f7",
   "metadata": {},
   "outputs": [
    {
     "data": {
      "text/plain": [
       "array([[ 0,  1,  2,  3,  4,  5,  6,  7,  8,  9],\n",
       "       [10, 11, 12, 13, 14, 15, 16, 17, 18, 19],\n",
       "       [20, 21, 22, 23, 24, 25, 26, 27, 28, 29],\n",
       "       [30, 31, 32, 33, 34, 35, 36, 37, 38, 39],\n",
       "       [40, 41, 42, 43, 44, 45, 46, 47, 48, 49],\n",
       "       [50, 51, 52, 53, 54, 55, 56, 57, 58, 59],\n",
       "       [60, 61, 62, 63, 64, 65, 66, 67, 68, 69],\n",
       "       [70, 71, 72, 73, 74, 75, 76, 77, 78, 79],\n",
       "       [80, 81, 82, 83, 84, 85, 86, 87, 88, 89],\n",
       "       [90, 91, 92, 93, 94, 95, 96, 97, 98, 99]])"
      ]
     },
     "execution_count": 447,
     "metadata": {},
     "output_type": "execute_result"
    }
   ],
   "source": [
    "mat"
   ]
  },
  {
   "cell_type": "code",
   "execution_count": 449,
   "id": "23ca3147-5624-4932-9d9c-97a80745d4bd",
   "metadata": {},
   "outputs": [
    {
     "data": {
      "text/plain": [
       "array([[False, False, False, False, False, False, False, False, False,\n",
       "        False],\n",
       "       [False, False, False, False, False, False, False, False, False,\n",
       "        False],\n",
       "       [False, False, False, False, False, False, False, False, False,\n",
       "        False],\n",
       "       [False, False, False, False, False, False, False, False, False,\n",
       "        False],\n",
       "       [False, False, False, False, False, False, False, False, False,\n",
       "        False],\n",
       "       [False,  True,  True,  True,  True,  True,  True,  True,  True,\n",
       "         True],\n",
       "       [ True,  True,  True,  True,  True,  True,  True,  True,  True,\n",
       "         True],\n",
       "       [ True,  True,  True,  True,  True,  True,  True,  True,  True,\n",
       "         True],\n",
       "       [ True,  True,  True,  True,  True,  True,  True,  True,  True,\n",
       "         True],\n",
       "       [ True,  True,  True,  True,  True,  True,  True,  True,  True,\n",
       "         True]])"
      ]
     },
     "execution_count": 449,
     "metadata": {},
     "output_type": "execute_result"
    }
   ],
   "source": [
    "mat>50"
   ]
  },
  {
   "cell_type": "code",
   "execution_count": 451,
   "id": "44804b6e-6683-4140-9b58-ce33c8adf989",
   "metadata": {},
   "outputs": [
    {
     "data": {
      "text/plain": [
       "array([[ True,  True,  True,  True,  True,  True,  True,  True,  True,\n",
       "         True],\n",
       "       [ True,  True,  True,  True,  True,  True,  True,  True,  True,\n",
       "         True],\n",
       "       [ True,  True,  True,  True,  True,  True,  True,  True,  True,\n",
       "         True],\n",
       "       [ True,  True,  True,  True,  True,  True,  True,  True,  True,\n",
       "         True],\n",
       "       [ True,  True,  True,  True,  True,  True,  True,  True,  True,\n",
       "         True],\n",
       "       [False,  True,  True,  True,  True,  True,  True,  True,  True,\n",
       "         True],\n",
       "       [ True,  True,  True,  True,  True,  True,  True,  True,  True,\n",
       "         True],\n",
       "       [ True,  True,  True,  True,  True,  True,  True,  True,  True,\n",
       "         True],\n",
       "       [ True,  True,  True,  True,  True,  True,  True,  True,  True,\n",
       "         True],\n",
       "       [ True,  True,  True,  True,  True,  True,  True,  True,  True,\n",
       "         True]])"
      ]
     },
     "execution_count": 451,
     "metadata": {},
     "output_type": "execute_result"
    }
   ],
   "source": [
    "mat!=50"
   ]
  },
  {
   "cell_type": "code",
   "execution_count": 453,
   "id": "5d148882-f8fb-41ab-b5fd-88e5c8e5db23",
   "metadata": {},
   "outputs": [
    {
     "data": {
      "text/plain": [
       "array([[ True,  True,  True,  True,  True,  True,  True,  True,  True,\n",
       "         True],\n",
       "       [ True,  True,  True,  True,  True,  True,  True,  True,  True,\n",
       "         True],\n",
       "       [ True,  True,  True,  True,  True,  True,  True,  True,  True,\n",
       "         True],\n",
       "       [ True,  True,  True,  True,  True,  True,  True,  True,  True,\n",
       "         True],\n",
       "       [ True,  True,  True,  True,  True,  True,  True,  True,  True,\n",
       "         True],\n",
       "       [ True,  True,  True,  True,  True,  True,  True,  True,  True,\n",
       "         True],\n",
       "       [False, False, False, False, False, False, False, False, False,\n",
       "        False],\n",
       "       [False, False, False, False, False, False, False, False, False,\n",
       "        False],\n",
       "       [False, False, False, False, False, False, False, False, False,\n",
       "        False],\n",
       "       [False, False, False, False, False, False, False, False, False,\n",
       "        False]])"
      ]
     },
     "execution_count": 453,
     "metadata": {},
     "output_type": "execute_result"
    }
   ],
   "source": [
    "mat<60"
   ]
  },
  {
   "cell_type": "code",
   "execution_count": 455,
   "id": "42feefdb-dee7-454f-97e5-6cd9d644af8f",
   "metadata": {},
   "outputs": [
    {
     "data": {
      "text/plain": [
       "array([ 0,  1,  2,  3,  4,  5,  6,  7,  8,  9, 10, 11, 12, 13, 14, 15, 16,\n",
       "       17, 18, 19, 20, 21, 22, 23, 24, 25, 26, 27, 28, 29, 30, 31, 32, 33,\n",
       "       34, 35, 36, 37, 38, 39, 40, 41, 42, 43, 44, 45, 46, 47, 48, 49])"
      ]
     },
     "execution_count": 455,
     "metadata": {},
     "output_type": "execute_result"
    }
   ],
   "source": [
    "mat[mat<50]"
   ]
  },
  {
   "cell_type": "code",
   "execution_count": 457,
   "id": "b6e916e2-4f02-40ba-bc52-26f7cee3ddd4",
   "metadata": {},
   "outputs": [
    {
     "data": {
      "text/plain": [
       "array([51, 52, 53, 54, 55, 56, 57, 58, 59, 60, 61, 62, 63, 64, 65, 66, 67,\n",
       "       68, 69, 70, 71, 72, 73, 74, 75, 76, 77, 78, 79, 80, 81, 82, 83, 84,\n",
       "       85, 86, 87, 88, 89, 90, 91, 92, 93, 94, 95, 96, 97, 98, 99])"
      ]
     },
     "execution_count": 457,
     "metadata": {},
     "output_type": "execute_result"
    }
   ],
   "source": [
    "mat[mat>50]"
   ]
  },
  {
   "cell_type": "code",
   "execution_count": 459,
   "id": "0ea4154d-69a4-4035-90d2-81ac8cce1bfb",
   "metadata": {},
   "outputs": [
    {
     "data": {
      "text/plain": [
       "array([61, 62, 63, 64, 65, 66, 67, 68, 69, 70, 71, 72, 73, 74, 75, 76, 77,\n",
       "       78, 79, 80, 81, 82, 83, 84, 85, 86, 87, 88, 89, 90, 91, 92, 93, 94,\n",
       "       95, 96, 97, 98, 99])"
      ]
     },
     "execution_count": 459,
     "metadata": {},
     "output_type": "execute_result"
    }
   ],
   "source": [
    "mat[mat>60]"
   ]
  },
  {
   "cell_type": "code",
   "execution_count": 461,
   "id": "8c01d423-c3e6-4f3b-bd56-569100117f31",
   "metadata": {},
   "outputs": [
    {
     "data": {
      "text/plain": [
       "array([ 0,  1,  2,  3,  4,  5,  6,  7,  8,  9, 10, 11, 12, 13, 14, 15, 16,\n",
       "       17, 18, 19, 20, 21, 22, 23, 24, 25, 26, 27, 28, 29, 30, 31, 32, 33,\n",
       "       34, 35, 36, 37, 38, 39, 40, 41, 42, 43, 44, 45, 46, 47, 48, 49, 50,\n",
       "       51, 52, 53, 54, 55, 56, 57, 58, 59, 60, 61, 62, 63, 64, 65, 66, 67,\n",
       "       68, 69, 71, 72, 73, 74, 75, 76, 77, 78, 79, 80, 81, 82, 83, 84, 85,\n",
       "       86, 87, 88, 89, 90, 91, 92, 93, 94, 95, 96, 97, 98, 99])"
      ]
     },
     "execution_count": 461,
     "metadata": {},
     "output_type": "execute_result"
    }
   ],
   "source": [
    "mat[mat!=70]"
   ]
  },
  {
   "cell_type": "code",
   "execution_count": 463,
   "id": "f749131e-4757-44c8-8f68-23dcb613e75e",
   "metadata": {},
   "outputs": [
    {
     "data": {
      "text/plain": [
       "array([[False, False, False, False, False, False, False, False, False,\n",
       "        False],\n",
       "       [False, False, False, False, False, False, False, False, False,\n",
       "        False],\n",
       "       [False, False, False, False, False, False, False, False, False,\n",
       "        False],\n",
       "       [False, False, False, False, False, False, False, False, False,\n",
       "        False],\n",
       "       [False, False, False, False, False, False, False, False, False,\n",
       "        False],\n",
       "       [ True,  True,  True,  True,  True,  True,  True,  True,  True,\n",
       "         True],\n",
       "       [ True,  True,  True,  True,  True,  True,  True,  True,  True,\n",
       "         True],\n",
       "       [ True,  True,  True,  True,  True,  True,  True,  True,  True,\n",
       "         True],\n",
       "       [ True,  True,  True,  True,  True,  True,  True,  True,  True,\n",
       "         True],\n",
       "       [ True,  True,  True,  True,  True,  True,  True,  True,  True,\n",
       "         True]])"
      ]
     },
     "execution_count": 463,
     "metadata": {},
     "output_type": "execute_result"
    }
   ],
   "source": [
    "mat>=50"
   ]
  },
  {
   "cell_type": "code",
   "execution_count": 465,
   "id": "f9194bdc-20dd-40d7-bb49-ad5ddaf2082e",
   "metadata": {},
   "outputs": [
    {
     "data": {
      "text/plain": [
       "array([50, 51, 52, 53, 54, 55, 56, 57, 58, 59, 60, 61, 62, 63, 64, 65, 66,\n",
       "       67, 68, 69, 70, 71, 72, 73, 74, 75, 76, 77, 78, 79, 80, 81, 82, 83,\n",
       "       84, 85, 86, 87, 88, 89, 90, 91, 92, 93, 94, 95, 96, 97, 98, 99])"
      ]
     },
     "execution_count": 465,
     "metadata": {},
     "output_type": "execute_result"
    }
   ],
   "source": [
    "mat[mat>=50]"
   ]
  },
  {
   "cell_type": "code",
   "execution_count": 467,
   "id": "25719816-6c6a-4b7d-bf7e-9b3914703867",
   "metadata": {},
   "outputs": [
    {
     "data": {
      "text/plain": [
       "array([[ True,  True,  True,  True,  True,  True,  True,  True,  True,\n",
       "         True],\n",
       "       [ True,  True,  True,  True,  True,  True,  True,  True,  True,\n",
       "         True],\n",
       "       [ True,  True,  True,  True,  True,  True,  True,  True,  True,\n",
       "         True],\n",
       "       [ True, False, False, False, False, False, False, False, False,\n",
       "        False],\n",
       "       [False, False, False, False, False, False, False, False, False,\n",
       "        False],\n",
       "       [False, False, False, False, False, False, False, False, False,\n",
       "        False],\n",
       "       [False, False, False, False, False, False, False, False, False,\n",
       "        False],\n",
       "       [False, False, False, False, False, False, False, False, False,\n",
       "        False],\n",
       "       [False, False, False, False, False, False, False, False, False,\n",
       "        False],\n",
       "       [False, False, False, False, False, False, False, False, False,\n",
       "        False]])"
      ]
     },
     "execution_count": 467,
     "metadata": {},
     "output_type": "execute_result"
    }
   ],
   "source": [
    "mat<=30"
   ]
  },
  {
   "cell_type": "code",
   "execution_count": 469,
   "id": "55747baf-329e-4377-9760-d96abee0fadc",
   "metadata": {},
   "outputs": [
    {
     "data": {
      "text/plain": [
       "array([ 0,  1,  2,  3,  4,  5,  6,  7,  8,  9, 10, 11, 12, 13, 14, 15, 16,\n",
       "       17, 18, 19, 20, 21, 22, 23, 24, 25, 26, 27, 28, 29, 30])"
      ]
     },
     "execution_count": 469,
     "metadata": {},
     "output_type": "execute_result"
    }
   ],
   "source": [
    "mat[mat<=30]"
   ]
  },
  {
   "cell_type": "code",
   "execution_count": null,
   "id": "51cc0853-79b2-4a45-b03f-7067073c3421",
   "metadata": {},
   "outputs": [],
   "source": []
  }
 ],
 "metadata": {
  "kernelspec": {
   "display_name": "Python 3 (ipykernel)",
   "language": "python",
   "name": "python3"
  },
  "language_info": {
   "codemirror_mode": {
    "name": "ipython",
    "version": 3
   },
   "file_extension": ".py",
   "mimetype": "text/x-python",
   "name": "python",
   "nbconvert_exporter": "python",
   "pygments_lexer": "ipython3",
   "version": "3.12.7"
  }
 },
 "nbformat": 4,
 "nbformat_minor": 5
}
