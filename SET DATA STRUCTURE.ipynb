{
 "cells": [
  {
   "cell_type": "markdown",
   "id": "dab7ade1-4fff-42b6-9ee6-00edfb729115",
   "metadata": {},
   "source": [
    "# set"
   ]
  },
  {
   "cell_type": "code",
   "execution_count": 5,
   "id": "bb8dbcf7-6494-47c0-93c7-e8fb9f48339d",
   "metadata": {},
   "outputs": [
    {
     "data": {
      "text/plain": [
       "{}"
      ]
     },
     "execution_count": 5,
     "metadata": {},
     "output_type": "execute_result"
    }
   ],
   "source": [
    "s = {}\n",
    "s"
   ]
  },
  {
   "cell_type": "code",
   "execution_count": 7,
   "id": "806c1707-123b-4749-9f62-42f76d73bc7a",
   "metadata": {},
   "outputs": [
    {
     "data": {
      "text/plain": [
       "dict"
      ]
     },
     "execution_count": 7,
     "metadata": {},
     "output_type": "execute_result"
    }
   ],
   "source": [
    "type(s)"
   ]
  },
  {
   "cell_type": "code",
   "execution_count": 9,
   "id": "942c3901-bf0a-4781-947e-dc6a6ce4c5e3",
   "metadata": {},
   "outputs": [
    {
     "data": {
      "text/plain": [
       "set()"
      ]
     },
     "execution_count": 9,
     "metadata": {},
     "output_type": "execute_result"
    }
   ],
   "source": [
    "s1 = set()\n",
    "s1"
   ]
  },
  {
   "cell_type": "code",
   "execution_count": 11,
   "id": "6f0fcc6f-71fc-4097-be0f-aa03c9bc0469",
   "metadata": {},
   "outputs": [
    {
     "data": {
      "text/plain": [
       "set"
      ]
     },
     "execution_count": 11,
     "metadata": {},
     "output_type": "execute_result"
    }
   ],
   "source": [
    "type(s1)"
   ]
  },
  {
   "cell_type": "code",
   "execution_count": 13,
   "id": "2b0b2213-397a-43cb-85c1-2923986f7b1d",
   "metadata": {},
   "outputs": [
    {
     "data": {
      "text/plain": [
       "{1, 2, 5, 7, 9, 12}"
      ]
     },
     "execution_count": 13,
     "metadata": {},
     "output_type": "execute_result"
    }
   ],
   "source": [
    "s1 = {5,7,2,12,7,9,1}\n",
    "s1"
   ]
  },
  {
   "cell_type": "code",
   "execution_count": 15,
   "id": "63f99709-b49d-4aea-92eb-8600b1bebe9b",
   "metadata": {},
   "outputs": [
    {
     "data": {
      "text/plain": [
       "{'a', 'b', 'c', 'd', 'r', 's', 't'}"
      ]
     },
     "execution_count": 15,
     "metadata": {},
     "output_type": "execute_result"
    }
   ],
   "source": [
    "s2 = {'s','d','a','t','b','r','c'}\n",
    "s2"
   ]
  },
  {
   "cell_type": "code",
   "execution_count": 17,
   "id": "4314179b-f54d-4bc6-b6f6-936da600e369",
   "metadata": {},
   "outputs": [
    {
     "data": {
      "text/plain": [
       "{1, 2, 5, 7, 9, 12}"
      ]
     },
     "execution_count": 17,
     "metadata": {},
     "output_type": "execute_result"
    }
   ],
   "source": [
    "s1"
   ]
  },
  {
   "cell_type": "code",
   "execution_count": 19,
   "id": "cdef8eae-1126-4c7e-b5d7-0d98ef90809b",
   "metadata": {},
   "outputs": [],
   "source": [
    "s1.add(10)"
   ]
  },
  {
   "cell_type": "code",
   "execution_count": 21,
   "id": "53edfd89-4bc5-4d51-b82a-b78ba1181dfb",
   "metadata": {},
   "outputs": [
    {
     "data": {
      "text/plain": [
       "{1, 2, 5, 7, 9, 10, 12}"
      ]
     },
     "execution_count": 21,
     "metadata": {},
     "output_type": "execute_result"
    }
   ],
   "source": [
    "s1"
   ]
  },
  {
   "cell_type": "code",
   "execution_count": 23,
   "id": "2c8a0634-3f50-4d53-b22b-a7c4b7726f1e",
   "metadata": {},
   "outputs": [
    {
     "data": {
      "text/plain": [
       "{(2+2j), 1, 2, 3.5, 'p'}"
      ]
     },
     "execution_count": 23,
     "metadata": {},
     "output_type": "execute_result"
    }
   ],
   "source": [
    "s3 = {1,2,'p',3.5,True,2+2j}\n",
    "s3"
   ]
  },
  {
   "cell_type": "code",
   "execution_count": 25,
   "id": "dc305328-9838-4147-998c-8c9c3711a00a",
   "metadata": {},
   "outputs": [],
   "source": [
    "s3.add(0)"
   ]
  },
  {
   "cell_type": "code",
   "execution_count": 27,
   "id": "9aaf345c-e08a-4e21-a494-8b91cf4329aa",
   "metadata": {},
   "outputs": [
    {
     "data": {
      "text/plain": [
       "{(2+2j), 0, 1, 2, 3.5, 'p'}"
      ]
     },
     "execution_count": 27,
     "metadata": {},
     "output_type": "execute_result"
    }
   ],
   "source": [
    "s3"
   ]
  },
  {
   "cell_type": "code",
   "execution_count": 31,
   "id": "d339d340-47db-4682-8695-6b4b997bf774",
   "metadata": {},
   "outputs": [],
   "source": [
    "s3.clear( )"
   ]
  },
  {
   "cell_type": "code",
   "execution_count": 33,
   "id": "93093bcc-9dc3-4fd7-80ba-ac1431cb7860",
   "metadata": {},
   "outputs": [
    {
     "data": {
      "text/plain": [
       "set()"
      ]
     },
     "execution_count": 33,
     "metadata": {},
     "output_type": "execute_result"
    }
   ],
   "source": [
    "s3"
   ]
  },
  {
   "cell_type": "code",
   "execution_count": 35,
   "id": "da3ad9f7-37ed-480f-ae41-470a2d63818b",
   "metadata": {},
   "outputs": [
    {
     "data": {
      "text/plain": [
       "set"
      ]
     },
     "execution_count": 35,
     "metadata": {},
     "output_type": "execute_result"
    }
   ],
   "source": [
    "type(s3)"
   ]
  },
  {
   "cell_type": "code",
   "execution_count": 37,
   "id": "f936b97d-0126-41de-9ade-df9863491cfb",
   "metadata": {},
   "outputs": [
    {
     "data": {
      "text/plain": [
       "0"
      ]
     },
     "execution_count": 37,
     "metadata": {},
     "output_type": "execute_result"
    }
   ],
   "source": [
    "len(s3)"
   ]
  },
  {
   "cell_type": "code",
   "execution_count": 39,
   "id": "717f9205-c53f-47b4-89b1-007122af8753",
   "metadata": {},
   "outputs": [],
   "source": [
    "s3.add(1)\n",
    "s3.add(5)\n",
    "s3.add(3)\n",
    "s3.add(6)\n",
    "s3.add(4)"
   ]
  },
  {
   "cell_type": "code",
   "execution_count": 41,
   "id": "4535db40-6323-446b-aabc-b86822d80232",
   "metadata": {},
   "outputs": [
    {
     "data": {
      "text/plain": [
       "{1, 3, 4, 5, 6}"
      ]
     },
     "execution_count": 41,
     "metadata": {},
     "output_type": "execute_result"
    }
   ],
   "source": [
    "s3"
   ]
  },
  {
   "cell_type": "code",
   "execution_count": 43,
   "id": "f3321534-5988-4dce-b03e-938eb5cf284d",
   "metadata": {},
   "outputs": [
    {
     "data": {
      "text/plain": [
       "{1, 2, 5, 7, 9, 10, 12}"
      ]
     },
     "execution_count": 43,
     "metadata": {},
     "output_type": "execute_result"
    }
   ],
   "source": [
    "s1"
   ]
  },
  {
   "cell_type": "code",
   "execution_count": 45,
   "id": "927ca114-2c9e-48eb-9f5e-c3d86ff4045d",
   "metadata": {},
   "outputs": [],
   "source": [
    "s3 = s1.copy()"
   ]
  },
  {
   "cell_type": "code",
   "execution_count": 47,
   "id": "16b554df-9dda-4336-b979-a7b95a46fa27",
   "metadata": {},
   "outputs": [
    {
     "data": {
      "text/plain": [
       "{1, 2, 5, 7, 9, 10, 12}"
      ]
     },
     "execution_count": 47,
     "metadata": {},
     "output_type": "execute_result"
    }
   ],
   "source": [
    "s3"
   ]
  },
  {
   "cell_type": "code",
   "execution_count": 49,
   "id": "44fff391-9f78-45e4-a301-e9d048c6b44b",
   "metadata": {},
   "outputs": [
    {
     "data": {
      "text/plain": [
       "{1, 2, 5, 7, 9, 10, 12}"
      ]
     },
     "execution_count": 49,
     "metadata": {},
     "output_type": "execute_result"
    }
   ],
   "source": [
    "s1"
   ]
  },
  {
   "cell_type": "code",
   "execution_count": 51,
   "id": "1c0b46d5-8d50-4bbc-8535-aa73b48046c3",
   "metadata": {},
   "outputs": [
    {
     "data": {
      "text/plain": [
       "{'a', 'b', 'c', 'd', 'r', 's', 't'}"
      ]
     },
     "execution_count": 51,
     "metadata": {},
     "output_type": "execute_result"
    }
   ],
   "source": [
    "s2"
   ]
  },
  {
   "cell_type": "code",
   "execution_count": 53,
   "id": "4cde1100-db00-4bd4-b4a8-328f14d3e36a",
   "metadata": {},
   "outputs": [
    {
     "data": {
      "text/plain": [
       "{1, 2, 5, 7, 9, 10, 12}"
      ]
     },
     "execution_count": 53,
     "metadata": {},
     "output_type": "execute_result"
    }
   ],
   "source": [
    "s3"
   ]
  },
  {
   "cell_type": "code",
   "execution_count": 55,
   "id": "e58d1e02-3000-4c74-8af0-4591e9be107d",
   "metadata": {},
   "outputs": [
    {
     "data": {
      "text/plain": [
       "{1, 2, 3, 4, 5, 6}"
      ]
     },
     "execution_count": 55,
     "metadata": {},
     "output_type": "execute_result"
    }
   ],
   "source": [
    "a = {1,2,3,4,5,6}\n",
    "a"
   ]
  },
  {
   "cell_type": "code",
   "execution_count": 57,
   "id": "8e60a5ff-da95-45b8-846e-bfa38589e121",
   "metadata": {},
   "outputs": [
    {
     "data": {
      "text/plain": [
       "{1, 3, 6, 9, 11}"
      ]
     },
     "execution_count": 57,
     "metadata": {},
     "output_type": "execute_result"
    }
   ],
   "source": [
    "b = {1,3,6,9,11}\n",
    "b"
   ]
  },
  {
   "cell_type": "code",
   "execution_count": 59,
   "id": "7dee2ae7-b99c-4d6d-89ec-b7ed401f2b3d",
   "metadata": {},
   "outputs": [
    {
     "data": {
      "text/plain": [
       "{2, 4, 5}"
      ]
     },
     "execution_count": 59,
     "metadata": {},
     "output_type": "execute_result"
    }
   ],
   "source": [
    "a.difference(b)"
   ]
  },
  {
   "cell_type": "code",
   "execution_count": 61,
   "id": "c71a5e8c-6c33-4055-a30f-554865842c85",
   "metadata": {},
   "outputs": [
    {
     "data": {
      "text/plain": [
       "{9, 11}"
      ]
     },
     "execution_count": 61,
     "metadata": {},
     "output_type": "execute_result"
    }
   ],
   "source": [
    "b.difference(a)"
   ]
  },
  {
   "cell_type": "code",
   "execution_count": 63,
   "id": "10d14bb2-4d6f-41e6-97a5-9f9626460819",
   "metadata": {},
   "outputs": [
    {
     "data": {
      "text/plain": [
       "{1, 5, 7, 9, 10, 11, 13}"
      ]
     },
     "execution_count": 63,
     "metadata": {},
     "output_type": "execute_result"
    }
   ],
   "source": [
    "c = {1,5,9,11,13,10,7}\n",
    "c"
   ]
  },
  {
   "cell_type": "code",
   "execution_count": 65,
   "id": "d8a46899-031f-4e45-ac27-4e4c06e52ec9",
   "metadata": {},
   "outputs": [
    {
     "data": {
      "text/plain": [
       "{1, 3, 5, 7, 9, 11, 12}"
      ]
     },
     "execution_count": 65,
     "metadata": {},
     "output_type": "execute_result"
    }
   ],
   "source": [
    "d = {1,3,5,7,9,11,12}\n",
    "d"
   ]
  },
  {
   "cell_type": "code",
   "execution_count": 67,
   "id": "103ce2ec-2a1e-4217-a5be-bdc79dbebe1b",
   "metadata": {},
   "outputs": [
    {
     "data": {
      "text/plain": [
       "{1, 2, 3, 4, 5, 6}"
      ]
     },
     "execution_count": 67,
     "metadata": {},
     "output_type": "execute_result"
    }
   ],
   "source": [
    "a"
   ]
  },
  {
   "cell_type": "code",
   "execution_count": 69,
   "id": "bdec3ea6-69f3-4d31-8fd5-a6532bbdf368",
   "metadata": {},
   "outputs": [
    {
     "data": {
      "text/plain": [
       "{1, 3, 6, 9, 11}"
      ]
     },
     "execution_count": 69,
     "metadata": {},
     "output_type": "execute_result"
    }
   ],
   "source": [
    "b"
   ]
  },
  {
   "cell_type": "code",
   "execution_count": 71,
   "id": "92f43ca1-d48d-48b9-ba5a-07fc6d4b82a7",
   "metadata": {},
   "outputs": [
    {
     "data": {
      "text/plain": [
       "{1, 5, 7, 9, 10, 11, 13}"
      ]
     },
     "execution_count": 71,
     "metadata": {},
     "output_type": "execute_result"
    }
   ],
   "source": [
    "c"
   ]
  },
  {
   "cell_type": "code",
   "execution_count": 73,
   "id": "ab055312-968c-4210-88df-2de25cbb76bf",
   "metadata": {},
   "outputs": [
    {
     "data": {
      "text/plain": [
       "{1, 3, 5, 7, 9, 11, 12}"
      ]
     },
     "execution_count": 73,
     "metadata": {},
     "output_type": "execute_result"
    }
   ],
   "source": [
    "d"
   ]
  },
  {
   "cell_type": "code",
   "execution_count": 75,
   "id": "c3571273-b7c2-4a3e-b623-4a8104344cb9",
   "metadata": {},
   "outputs": [
    {
     "data": {
      "text/plain": [
       "{7, 9, 11, 12}"
      ]
     },
     "execution_count": 75,
     "metadata": {},
     "output_type": "execute_result"
    }
   ],
   "source": [
    "d.difference(a)"
   ]
  },
  {
   "cell_type": "code",
   "execution_count": 77,
   "id": "0d245a0c-27c4-4ffb-b576-d16d54267105",
   "metadata": {},
   "outputs": [
    {
     "data": {
      "text/plain": [
       "{3, 12}"
      ]
     },
     "execution_count": 77,
     "metadata": {},
     "output_type": "execute_result"
    }
   ],
   "source": [
    "d.difference(c)"
   ]
  },
  {
   "cell_type": "code",
   "execution_count": 79,
   "id": "2c0e16e7-afcf-4dc2-8eab-88f42f10a40c",
   "metadata": {},
   "outputs": [
    {
     "data": {
      "text/plain": [
       "{10, 13}"
      ]
     },
     "execution_count": 79,
     "metadata": {},
     "output_type": "execute_result"
    }
   ],
   "source": [
    "c.difference(d)"
   ]
  },
  {
   "cell_type": "code",
   "execution_count": 81,
   "id": "64d76657-6a7e-4648-b199-14d562cb2e2c",
   "metadata": {},
   "outputs": [
    {
     "data": {
      "text/plain": [
       "{2, 3, 4, 6}"
      ]
     },
     "execution_count": 81,
     "metadata": {},
     "output_type": "execute_result"
    }
   ],
   "source": [
    "a.difference(c)"
   ]
  },
  {
   "cell_type": "code",
   "execution_count": 83,
   "id": "c868a8ae-a5cf-459b-89b8-3d67ab00e8ec",
   "metadata": {},
   "outputs": [
    {
     "data": {
      "text/plain": [
       "{7, 9, 10, 11, 13}"
      ]
     },
     "execution_count": 83,
     "metadata": {},
     "output_type": "execute_result"
    }
   ],
   "source": [
    "c.difference(a)"
   ]
  },
  {
   "cell_type": "code",
   "execution_count": 85,
   "id": "257bb2ae-832d-4dc8-8fe3-f47a205d106e",
   "metadata": {},
   "outputs": [
    {
     "data": {
      "text/plain": [
       "{5, 7, 12}"
      ]
     },
     "execution_count": 85,
     "metadata": {},
     "output_type": "execute_result"
    }
   ],
   "source": [
    "d.difference(b)"
   ]
  },
  {
   "cell_type": "code",
   "execution_count": 92,
   "id": "3c638320-f7ce-4725-811e-8df321777c71",
   "metadata": {},
   "outputs": [
    {
     "name": "stdout",
     "output_type": "stream",
     "text": [
      "{1, 2, 3, 4, 5, 6}\n",
      "{1, 3, 6, 9, 11}\n",
      "{1, 5, 7, 9, 10, 11, 13}\n",
      "{1, 3, 5, 7, 9, 11, 12}\n"
     ]
    }
   ],
   "source": [
    "print(a)\n",
    "print(b)\n",
    "print(c)\n",
    "print(d)"
   ]
  },
  {
   "cell_type": "code",
   "execution_count": 94,
   "id": "f490fee8-d81d-4cb1-a2b6-6b0d03f35e0d",
   "metadata": {},
   "outputs": [
    {
     "name": "stdout",
     "output_type": "stream",
     "text": [
      "{1, 2, 5, 7, 9, 10, 12}\n",
      "{'d', 'r', 's', 'b', 'c', 'a', 't'}\n",
      "{1, 2, 5, 7, 9, 10, 12}\n"
     ]
    }
   ],
   "source": [
    "print(s1)\n",
    "print(s2)\n",
    "print(s3)"
   ]
  },
  {
   "cell_type": "code",
   "execution_count": 96,
   "id": "8ea2022b-dc4d-4f52-9753-1878f9605c82",
   "metadata": {},
   "outputs": [
    {
     "data": {
      "text/plain": [
       "set()"
      ]
     },
     "execution_count": 96,
     "metadata": {},
     "output_type": "execute_result"
    }
   ],
   "source": [
    "s1.difference(s3)"
   ]
  },
  {
   "cell_type": "code",
   "execution_count": 98,
   "id": "e725fc7c-617c-4775-9eb3-8589602e35f6",
   "metadata": {},
   "outputs": [
    {
     "data": {
      "text/plain": [
       "{7, 9, 10, 12}"
      ]
     },
     "execution_count": 98,
     "metadata": {},
     "output_type": "execute_result"
    }
   ],
   "source": [
    "s1.difference(a)"
   ]
  },
  {
   "cell_type": "code",
   "execution_count": 100,
   "id": "6cdff788-9269-4fad-b48a-0e84e916e57f",
   "metadata": {},
   "outputs": [
    {
     "data": {
      "text/plain": [
       "{3, 11}"
      ]
     },
     "execution_count": 100,
     "metadata": {},
     "output_type": "execute_result"
    }
   ],
   "source": [
    "d.difference(s1)"
   ]
  },
  {
   "cell_type": "code",
   "execution_count": 102,
   "id": "819225a7-cabd-4d14-ab54-e391951d05dc",
   "metadata": {},
   "outputs": [
    {
     "data": {
      "text/plain": [
       "{1, 2, 5, 7, 9, 10, 12}"
      ]
     },
     "execution_count": 102,
     "metadata": {},
     "output_type": "execute_result"
    }
   ],
   "source": [
    "s1"
   ]
  },
  {
   "cell_type": "code",
   "execution_count": 104,
   "id": "2f981b1b-3274-47b2-8132-d4fe6f2ebf94",
   "metadata": {},
   "outputs": [
    {
     "data": {
      "text/plain": [
       "{1, 2, 5}"
      ]
     },
     "execution_count": 104,
     "metadata": {},
     "output_type": "execute_result"
    }
   ],
   "source": [
    "s1.intersection(a)"
   ]
  },
  {
   "cell_type": "code",
   "execution_count": 106,
   "id": "7c782ba8-6051-4d6c-9c59-e572e9769689",
   "metadata": {},
   "outputs": [
    {
     "data": {
      "text/plain": [
       "{1, 3, 6}"
      ]
     },
     "execution_count": 106,
     "metadata": {},
     "output_type": "execute_result"
    }
   ],
   "source": [
    "a.intersection(b)"
   ]
  },
  {
   "cell_type": "code",
   "execution_count": 108,
   "id": "da2e6416-86dc-4beb-b77a-5d1e4ad57d57",
   "metadata": {},
   "outputs": [
    {
     "data": {
      "text/plain": [
       "{1, 9}"
      ]
     },
     "execution_count": 108,
     "metadata": {},
     "output_type": "execute_result"
    }
   ],
   "source": [
    "b.intersection(s1)"
   ]
  },
  {
   "cell_type": "code",
   "execution_count": 110,
   "id": "304af3bb-3287-4260-a382-c6d78e6f63f3",
   "metadata": {},
   "outputs": [
    {
     "data": {
      "text/plain": [
       "{1, 5, 7, 9, 12}"
      ]
     },
     "execution_count": 110,
     "metadata": {},
     "output_type": "execute_result"
    }
   ],
   "source": [
    "d.intersection(s1)"
   ]
  },
  {
   "cell_type": "code",
   "execution_count": 112,
   "id": "bce7a2f5-f74e-4088-afc6-5750cf9bb91f",
   "metadata": {},
   "outputs": [
    {
     "data": {
      "text/plain": [
       "{1, 3, 5}"
      ]
     },
     "execution_count": 112,
     "metadata": {},
     "output_type": "execute_result"
    }
   ],
   "source": [
    "d.intersection(a)"
   ]
  },
  {
   "cell_type": "code",
   "execution_count": 114,
   "id": "6fde2a32-df2a-48bd-9b9a-743abe35534a",
   "metadata": {},
   "outputs": [
    {
     "name": "stdout",
     "output_type": "stream",
     "text": [
      "{1, 2, 3, 4, 5, 6}\n",
      "{1, 3, 6, 9, 11}\n",
      "{1, 5, 7, 9, 10, 11, 13}\n",
      "{1, 3, 5, 7, 9, 11, 12}\n",
      "{1, 2, 5, 7, 9, 10, 12}\n"
     ]
    }
   ],
   "source": [
    "print(a)\n",
    "print(b)\n",
    "print(c)\n",
    "print(d)\n",
    "print(s1)"
   ]
  },
  {
   "cell_type": "code",
   "execution_count": 116,
   "id": "02d0debf-b9d8-4349-8c4c-572941d9b24e",
   "metadata": {},
   "outputs": [],
   "source": [
    "a.difference_update(b)"
   ]
  },
  {
   "cell_type": "code",
   "execution_count": 118,
   "id": "ac3ea66f-8ecb-4633-aa5d-20202ecf1469",
   "metadata": {},
   "outputs": [
    {
     "data": {
      "text/plain": [
       "{2, 4, 5}"
      ]
     },
     "execution_count": 118,
     "metadata": {},
     "output_type": "execute_result"
    }
   ],
   "source": [
    "a"
   ]
  },
  {
   "cell_type": "code",
   "execution_count": 120,
   "id": "9bfbfd21-bbb4-4659-92e0-4378300b8a77",
   "metadata": {},
   "outputs": [],
   "source": [
    "s1.difference_update(b)"
   ]
  },
  {
   "cell_type": "code",
   "execution_count": 122,
   "id": "7df3c5ae-536c-467e-8441-d883f43ec6bd",
   "metadata": {},
   "outputs": [
    {
     "data": {
      "text/plain": [
       "{2, 5, 7, 10, 12}"
      ]
     },
     "execution_count": 122,
     "metadata": {},
     "output_type": "execute_result"
    }
   ],
   "source": [
    "s1"
   ]
  },
  {
   "cell_type": "code",
   "execution_count": 124,
   "id": "3f40b2e5-7df6-4992-8e70-26c89eec7fc2",
   "metadata": {},
   "outputs": [
    {
     "data": {
      "text/plain": [
       "{2, 4, 5}"
      ]
     },
     "execution_count": 124,
     "metadata": {},
     "output_type": "execute_result"
    }
   ],
   "source": [
    "a"
   ]
  },
  {
   "cell_type": "code",
   "execution_count": 126,
   "id": "a777f605-2894-41b1-915c-e391ea26ae83",
   "metadata": {},
   "outputs": [
    {
     "data": {
      "text/plain": [
       "{2, 5, 7, 10, 12}"
      ]
     },
     "execution_count": 126,
     "metadata": {},
     "output_type": "execute_result"
    }
   ],
   "source": [
    "s1"
   ]
  },
  {
   "cell_type": "code",
   "execution_count": 128,
   "id": "626a56f8-88b1-42fe-9d2e-643ce4efebc0",
   "metadata": {},
   "outputs": [
    {
     "data": {
      "text/plain": [
       "{1, 3, 6, 9, 11}"
      ]
     },
     "execution_count": 128,
     "metadata": {},
     "output_type": "execute_result"
    }
   ],
   "source": [
    "b"
   ]
  },
  {
   "cell_type": "code",
   "execution_count": 132,
   "id": "bb71a91f-9860-4451-9afd-3d1b505599b2",
   "metadata": {},
   "outputs": [],
   "source": [
    "c.difference_update(d)"
   ]
  },
  {
   "cell_type": "code",
   "execution_count": 134,
   "id": "02b6a81a-a1d7-4889-a01b-26108e1ca54a",
   "metadata": {},
   "outputs": [
    {
     "data": {
      "text/plain": [
       "{10, 13}"
      ]
     },
     "execution_count": 134,
     "metadata": {},
     "output_type": "execute_result"
    }
   ],
   "source": [
    "c"
   ]
  },
  {
   "cell_type": "code",
   "execution_count": 136,
   "id": "4e215093-04f9-4423-97f7-3cbe8eda6d8e",
   "metadata": {},
   "outputs": [
    {
     "data": {
      "text/plain": [
       "{1, 3, 5, 7, 9, 11, 12}"
      ]
     },
     "execution_count": 136,
     "metadata": {},
     "output_type": "execute_result"
    }
   ],
   "source": [
    "d"
   ]
  },
  {
   "cell_type": "code",
   "execution_count": 138,
   "id": "9af1b4c8-83d1-40fe-be7c-e209c5aaf407",
   "metadata": {},
   "outputs": [],
   "source": [
    "d.difference_update(b)"
   ]
  },
  {
   "cell_type": "code",
   "execution_count": 140,
   "id": "e08a95c9-363d-4b5f-b59b-81b9ebd74291",
   "metadata": {},
   "outputs": [
    {
     "data": {
      "text/plain": [
       "{5, 7, 12}"
      ]
     },
     "execution_count": 140,
     "metadata": {},
     "output_type": "execute_result"
    }
   ],
   "source": [
    "d"
   ]
  },
  {
   "cell_type": "code",
   "execution_count": 142,
   "id": "e631aa68-82d2-4373-a399-c478985c0770",
   "metadata": {},
   "outputs": [
    {
     "name": "stdout",
     "output_type": "stream",
     "text": [
      "{2, 4, 5}\n",
      "{1, 3, 6, 9, 11}\n",
      "{10, 13}\n",
      "{5, 7, 12}\n",
      "{2, 5, 7, 10, 12}\n"
     ]
    }
   ],
   "source": [
    "print(a)\n",
    "print(b)\n",
    "print(c)\n",
    "print(d)\n",
    "print(s1)"
   ]
  },
  {
   "cell_type": "code",
   "execution_count": 146,
   "id": "022468ad-57b0-4ce4-9dfb-284cf92c538b",
   "metadata": {},
   "outputs": [
    {
     "data": {
      "text/plain": [
       "{1, 2, 3, 4, 5, 6, 7, 8, 9, 10, 11}"
      ]
     },
     "execution_count": 146,
     "metadata": {},
     "output_type": "execute_result"
    }
   ],
   "source": [
    "e = {1,2,3,4,5,6,7,8,9,10,11}\n",
    "e"
   ]
  },
  {
   "cell_type": "code",
   "execution_count": 150,
   "id": "5d3f185f-d16e-4c21-8a53-8c633a6b03c7",
   "metadata": {},
   "outputs": [
    {
     "data": {
      "text/plain": [
       "{1, 3, 6, 9, 12, 15, 18, 21}"
      ]
     },
     "execution_count": 150,
     "metadata": {},
     "output_type": "execute_result"
    }
   ],
   "source": [
    "f = {1,3,6,9,12,15,18,21}\n",
    "f"
   ]
  },
  {
   "cell_type": "code",
   "execution_count": 152,
   "id": "af8f0bb7-a3aa-4f30-bfed-afa78b3ba976",
   "metadata": {},
   "outputs": [
    {
     "data": {
      "text/plain": [
       "{2, 4, 6, 8, 10, 12, 14, 16, 18, 20}"
      ]
     },
     "execution_count": 152,
     "metadata": {},
     "output_type": "execute_result"
    }
   ],
   "source": [
    "g = {2,4,6,8,10,12,14,16,18,20}\n",
    "g"
   ]
  },
  {
   "cell_type": "code",
   "execution_count": 154,
   "id": "972b2f81-fcd0-4275-834d-9fb6b908eacb",
   "metadata": {},
   "outputs": [],
   "source": [
    "b.intersection_update(e)"
   ]
  },
  {
   "cell_type": "code",
   "execution_count": 156,
   "id": "e6213d2b-55bf-4d7e-be12-55d6e5f37b8c",
   "metadata": {},
   "outputs": [
    {
     "data": {
      "text/plain": [
       "{1, 3, 6, 9, 11}"
      ]
     },
     "execution_count": 156,
     "metadata": {},
     "output_type": "execute_result"
    }
   ],
   "source": [
    "b"
   ]
  },
  {
   "cell_type": "code",
   "execution_count": 158,
   "id": "a4e45faf-bce3-4d69-b286-e41047cde1e8",
   "metadata": {},
   "outputs": [],
   "source": [
    "b.intersection_update(f)"
   ]
  },
  {
   "cell_type": "code",
   "execution_count": 160,
   "id": "ecdd648b-6972-476f-bd1e-3adc10a206b4",
   "metadata": {},
   "outputs": [
    {
     "data": {
      "text/plain": [
       "{1, 3, 6, 9}"
      ]
     },
     "execution_count": 160,
     "metadata": {},
     "output_type": "execute_result"
    }
   ],
   "source": [
    "b"
   ]
  },
  {
   "cell_type": "code",
   "execution_count": 162,
   "id": "d7c4910b-6928-4fc8-bbc2-67bb604592d5",
   "metadata": {},
   "outputs": [],
   "source": [
    "a.intersection_update(e)"
   ]
  },
  {
   "cell_type": "code",
   "execution_count": 164,
   "id": "3e844588-db22-4abc-bd21-601b496cea4b",
   "metadata": {},
   "outputs": [
    {
     "data": {
      "text/plain": [
       "{2, 4, 5}"
      ]
     },
     "execution_count": 164,
     "metadata": {},
     "output_type": "execute_result"
    }
   ],
   "source": [
    "a"
   ]
  },
  {
   "cell_type": "code",
   "execution_count": 166,
   "id": "52488448-8175-4eed-9388-1cfc0e260c8b",
   "metadata": {},
   "outputs": [],
   "source": [
    "a.intersection_update(g)"
   ]
  },
  {
   "cell_type": "code",
   "execution_count": 168,
   "id": "5be0422f-31af-4b67-9c35-ff1d60baacee",
   "metadata": {},
   "outputs": [
    {
     "data": {
      "text/plain": [
       "{2, 4}"
      ]
     },
     "execution_count": 168,
     "metadata": {},
     "output_type": "execute_result"
    }
   ],
   "source": [
    "a"
   ]
  },
  {
   "cell_type": "code",
   "execution_count": 170,
   "id": "9e73ff02-ea24-4a12-a26a-3864bb2e13e8",
   "metadata": {},
   "outputs": [],
   "source": [
    "e.intersection_update(f)"
   ]
  },
  {
   "cell_type": "code",
   "execution_count": 172,
   "id": "b9073838-84d7-41e2-9198-85195526d034",
   "metadata": {},
   "outputs": [
    {
     "data": {
      "text/plain": [
       "{1, 3, 6, 9}"
      ]
     },
     "execution_count": 172,
     "metadata": {},
     "output_type": "execute_result"
    }
   ],
   "source": [
    "e"
   ]
  },
  {
   "cell_type": "code",
   "execution_count": 174,
   "id": "92a9d8b5-d111-44f5-ac15-95a3536ed6fd",
   "metadata": {},
   "outputs": [],
   "source": [
    "s1.intersection_update(g)"
   ]
  },
  {
   "cell_type": "code",
   "execution_count": 176,
   "id": "4834b9dc-b0bc-49cf-8ba7-614724a0bf60",
   "metadata": {},
   "outputs": [
    {
     "data": {
      "text/plain": [
       "{2, 10, 12}"
      ]
     },
     "execution_count": 176,
     "metadata": {},
     "output_type": "execute_result"
    }
   ],
   "source": [
    "s1"
   ]
  },
  {
   "cell_type": "code",
   "execution_count": 182,
   "id": "88a8725c-5e94-4648-80f1-dd804ff35715",
   "metadata": {},
   "outputs": [
    {
     "name": "stdout",
     "output_type": "stream",
     "text": [
      "{2, 4}\n",
      "{1, 3, 6, 9}\n",
      "{10, 13}\n",
      "{5, 7, 12}\n",
      "{1, 3, 6, 9}\n",
      "{1, 3, 6, 9, 12, 15, 18, 21}\n",
      "{2, 4, 6, 8, 10, 12, 14, 16, 18, 20}\n",
      "{2, 10, 12}\n"
     ]
    }
   ],
   "source": [
    "print(a)\n",
    "print(b)\n",
    "print(c)\n",
    "print(d)\n",
    "print(e)\n",
    "print(f)\n",
    "print(g)\n",
    "print(s1)"
   ]
  },
  {
   "cell_type": "code",
   "execution_count": 184,
   "id": "2bb54f58-6fae-419d-9e68-28db03e2a411",
   "metadata": {},
   "outputs": [
    {
     "data": {
      "text/plain": [
       "{2, 4, 6, 8, 10, 12, 14, 16, 18, 20}"
      ]
     },
     "execution_count": 184,
     "metadata": {},
     "output_type": "execute_result"
    }
   ],
   "source": [
    "g"
   ]
  },
  {
   "cell_type": "code",
   "execution_count": 186,
   "id": "d6a98e63-9308-4349-9b15-2bbaa4e2a3d6",
   "metadata": {},
   "outputs": [
    {
     "data": {
      "text/plain": [
       "{1, 3, 6, 9, 12, 15, 18, 21}"
      ]
     },
     "execution_count": 186,
     "metadata": {},
     "output_type": "execute_result"
    }
   ],
   "source": [
    "f"
   ]
  },
  {
   "cell_type": "code",
   "execution_count": 200,
   "id": "870fd4f0-3165-46b1-a54d-fe6cc1ad5ce7",
   "metadata": {},
   "outputs": [
    {
     "data": {
      "text/plain": [
       "{1, 2, 3, 4, 8, 9, 10, 14, 15, 16, 20, 21}"
      ]
     },
     "execution_count": 200,
     "metadata": {},
     "output_type": "execute_result"
    }
   ],
   "source": [
    "g.symmetric_difference(f)"
   ]
  },
  {
   "cell_type": "code",
   "execution_count": 202,
   "id": "a7eb6979-7853-4cce-9387-1b04f56abaed",
   "metadata": {},
   "outputs": [
    {
     "data": {
      "text/plain": [
       "{12, 15, 18, 21}"
      ]
     },
     "execution_count": 202,
     "metadata": {},
     "output_type": "execute_result"
    }
   ],
   "source": [
    "f.symmetric_difference(e)"
   ]
  },
  {
   "cell_type": "code",
   "execution_count": 192,
   "id": "fa45e7a0-3b7b-4823-aeec-f30086af0357",
   "metadata": {},
   "outputs": [
    {
     "data": {
      "text/plain": [
       "{1, 3, 6, 9, 12, 15, 18, 21}"
      ]
     },
     "execution_count": 192,
     "metadata": {},
     "output_type": "execute_result"
    }
   ],
   "source": [
    "f"
   ]
  },
  {
   "cell_type": "code",
   "execution_count": 194,
   "id": "c267224c-6236-4fbf-af0d-9372b834a695",
   "metadata": {},
   "outputs": [
    {
     "data": {
      "text/plain": [
       "{1, 3, 6, 9}"
      ]
     },
     "execution_count": 194,
     "metadata": {},
     "output_type": "execute_result"
    }
   ],
   "source": [
    "e"
   ]
  },
  {
   "cell_type": "code",
   "execution_count": 196,
   "id": "394b6016-b394-4a79-8dcb-8f671b280ce5",
   "metadata": {},
   "outputs": [
    {
     "data": {
      "text/plain": [
       "{5, 7, 12}"
      ]
     },
     "execution_count": 196,
     "metadata": {},
     "output_type": "execute_result"
    }
   ],
   "source": [
    "d"
   ]
  },
  {
   "cell_type": "code",
   "execution_count": 198,
   "id": "50b194f9-19e3-4e47-a439-cf3048d861d9",
   "metadata": {},
   "outputs": [
    {
     "data": {
      "text/plain": [
       "{2, 4}"
      ]
     },
     "execution_count": 198,
     "metadata": {},
     "output_type": "execute_result"
    }
   ],
   "source": [
    "a"
   ]
  },
  {
   "cell_type": "code",
   "execution_count": 204,
   "id": "67bd703c-55be-49cb-9e07-46946bdd2d98",
   "metadata": {},
   "outputs": [
    {
     "data": {
      "text/plain": [
       "{6, 8, 10, 12, 14, 16, 18, 20}"
      ]
     },
     "execution_count": 204,
     "metadata": {},
     "output_type": "execute_result"
    }
   ],
   "source": [
    "a.symmetric_difference(g)"
   ]
  },
  {
   "cell_type": "code",
   "execution_count": 206,
   "id": "6d76f55f-a940-4409-8073-2a58db1f32c9",
   "metadata": {},
   "outputs": [
    {
     "data": {
      "text/plain": [
       "{2, 4}"
      ]
     },
     "execution_count": 206,
     "metadata": {},
     "output_type": "execute_result"
    }
   ],
   "source": [
    "a"
   ]
  },
  {
   "cell_type": "code",
   "execution_count": 208,
   "id": "b5a81c13-1597-4f44-a215-35ca84592222",
   "metadata": {},
   "outputs": [
    {
     "data": {
      "text/plain": [
       "{2, 4, 6, 8, 10, 12, 14, 16, 18, 20}"
      ]
     },
     "execution_count": 208,
     "metadata": {},
     "output_type": "execute_result"
    }
   ],
   "source": [
    "g"
   ]
  },
  {
   "cell_type": "code",
   "execution_count": 210,
   "id": "583e428b-42cc-45ab-a1db-96d5f61fa717",
   "metadata": {},
   "outputs": [],
   "source": [
    "a.symmetric_difference_update(g)"
   ]
  },
  {
   "cell_type": "code",
   "execution_count": 212,
   "id": "8ddc30d8-53e5-4c2d-98ae-8191d2df9512",
   "metadata": {},
   "outputs": [
    {
     "data": {
      "text/plain": [
       "{6, 8, 10, 12, 14, 16, 18, 20}"
      ]
     },
     "execution_count": 212,
     "metadata": {},
     "output_type": "execute_result"
    }
   ],
   "source": [
    "a"
   ]
  },
  {
   "cell_type": "code",
   "execution_count": 214,
   "id": "13c4871c-d548-49d7-b965-02c5e364a657",
   "metadata": {},
   "outputs": [
    {
     "data": {
      "text/plain": [
       "{2, 4, 6, 8, 10, 12, 14, 16, 18, 20}"
      ]
     },
     "execution_count": 214,
     "metadata": {},
     "output_type": "execute_result"
    }
   ],
   "source": [
    "g"
   ]
  },
  {
   "cell_type": "code",
   "execution_count": 216,
   "id": "0a386b8e-15e9-48d7-b641-ba9d8c45f355",
   "metadata": {},
   "outputs": [
    {
     "data": {
      "text/plain": [
       "{10, 13}"
      ]
     },
     "execution_count": 216,
     "metadata": {},
     "output_type": "execute_result"
    }
   ],
   "source": [
    "c"
   ]
  },
  {
   "cell_type": "code",
   "execution_count": 218,
   "id": "a1f61fe6-b43d-4ca1-94ba-ceb583c29e12",
   "metadata": {},
   "outputs": [
    {
     "data": {
      "text/plain": [
       "{2, 10, 12}"
      ]
     },
     "execution_count": 218,
     "metadata": {},
     "output_type": "execute_result"
    }
   ],
   "source": [
    "s1"
   ]
  },
  {
   "cell_type": "code",
   "execution_count": 220,
   "id": "10c182bb-f7b0-4f34-8c00-8b9637caac02",
   "metadata": {},
   "outputs": [
    {
     "data": {
      "text/plain": [
       "{2, 12, 13}"
      ]
     },
     "execution_count": 220,
     "metadata": {},
     "output_type": "execute_result"
    }
   ],
   "source": [
    "c.symmetric_difference(s1)"
   ]
  },
  {
   "cell_type": "code",
   "execution_count": 226,
   "id": "35f806a2-c727-4462-80db-80481df89d7e",
   "metadata": {},
   "outputs": [],
   "source": [
    "s1.symmetric_difference_update(c)"
   ]
  },
  {
   "cell_type": "code",
   "execution_count": 228,
   "id": "977d5c7b-47c2-47e1-998b-b18dd9876a78",
   "metadata": {},
   "outputs": [
    {
     "data": {
      "text/plain": [
       "{2, 12, 13}"
      ]
     },
     "execution_count": 228,
     "metadata": {},
     "output_type": "execute_result"
    }
   ],
   "source": [
    "s1"
   ]
  },
  {
   "cell_type": "code",
   "execution_count": 231,
   "id": "004ddfbe-8c68-498a-9155-6442f0af00d1",
   "metadata": {
    "scrolled": true
   },
   "outputs": [
    {
     "data": {
      "text/plain": [
       "{10, 13}"
      ]
     },
     "execution_count": 231,
     "metadata": {},
     "output_type": "execute_result"
    }
   ],
   "source": [
    "c"
   ]
  },
  {
   "cell_type": "code",
   "execution_count": 233,
   "id": "20dd8d6a-9a7f-45ee-94e2-3f151c814265",
   "metadata": {},
   "outputs": [
    {
     "name": "stdout",
     "output_type": "stream",
     "text": [
      "{6, 8, 10, 12, 14, 16, 18, 20}\n",
      "{1, 3, 6, 9}\n",
      "{10, 13}\n",
      "{5, 7, 12}\n",
      "{1, 3, 6, 9}\n",
      "{1, 3, 6, 9, 12, 15, 18, 21}\n",
      "{2, 4, 6, 8, 10, 12, 14, 16, 18, 20}\n",
      "{2, 12, 13}\n"
     ]
    }
   ],
   "source": [
    "print(a)\n",
    "print(b)\n",
    "print(c)\n",
    "print(d)\n",
    "print(e)\n",
    "print(f)\n",
    "print(g)\n",
    "print(s1)"
   ]
  },
  {
   "cell_type": "code",
   "execution_count": 235,
   "id": "fefc439e-a1c9-4850-9f4f-4374b445a409",
   "metadata": {},
   "outputs": [
    {
     "data": {
      "text/plain": [
       "{6, 8, 10, 12, 14, 16, 18, 20}"
      ]
     },
     "execution_count": 235,
     "metadata": {},
     "output_type": "execute_result"
    }
   ],
   "source": [
    "a"
   ]
  },
  {
   "cell_type": "code",
   "execution_count": 237,
   "id": "9c187a42-e558-4380-b104-c23767b9d4f9",
   "metadata": {},
   "outputs": [
    {
     "data": {
      "text/plain": [
       "6"
      ]
     },
     "execution_count": 237,
     "metadata": {},
     "output_type": "execute_result"
    }
   ],
   "source": [
    "a.pop()"
   ]
  },
  {
   "cell_type": "code",
   "execution_count": 239,
   "id": "4be95743-64a0-4365-a2bd-5e60da98c710",
   "metadata": {},
   "outputs": [
    {
     "data": {
      "text/plain": [
       "{8, 10, 12, 14, 16, 18, 20}"
      ]
     },
     "execution_count": 239,
     "metadata": {},
     "output_type": "execute_result"
    }
   ],
   "source": [
    "a"
   ]
  },
  {
   "cell_type": "code",
   "execution_count": 241,
   "id": "1da924cf-5847-473a-bb80-e90df1435740",
   "metadata": {},
   "outputs": [
    {
     "data": {
      "text/plain": [
       "8"
      ]
     },
     "execution_count": 241,
     "metadata": {},
     "output_type": "execute_result"
    }
   ],
   "source": [
    "a.pop()"
   ]
  },
  {
   "cell_type": "code",
   "execution_count": 243,
   "id": "aaf2921b-db77-4806-afba-500e31281e3d",
   "metadata": {},
   "outputs": [
    {
     "data": {
      "text/plain": [
       "{10, 12, 14, 16, 18, 20}"
      ]
     },
     "execution_count": 243,
     "metadata": {},
     "output_type": "execute_result"
    }
   ],
   "source": [
    "a"
   ]
  },
  {
   "cell_type": "code",
   "execution_count": 245,
   "id": "d64de2b0-9f8a-49db-91df-ed899a1f3a92",
   "metadata": {},
   "outputs": [
    {
     "data": {
      "text/plain": [
       "10"
      ]
     },
     "execution_count": 245,
     "metadata": {},
     "output_type": "execute_result"
    }
   ],
   "source": [
    "a.pop()"
   ]
  },
  {
   "cell_type": "code",
   "execution_count": 247,
   "id": "f8f67452-239d-452b-8f61-587fcc98ba67",
   "metadata": {},
   "outputs": [
    {
     "data": {
      "text/plain": [
       "{12, 14, 16, 18, 20}"
      ]
     },
     "execution_count": 247,
     "metadata": {},
     "output_type": "execute_result"
    }
   ],
   "source": [
    "a"
   ]
  },
  {
   "cell_type": "code",
   "execution_count": 249,
   "id": "6590d8d9-14ab-4941-95cf-844891061de9",
   "metadata": {},
   "outputs": [
    {
     "data": {
      "text/plain": [
       "{1, 3, 6, 9, 12, 15, 18, 21}"
      ]
     },
     "execution_count": 249,
     "metadata": {},
     "output_type": "execute_result"
    }
   ],
   "source": [
    "f"
   ]
  },
  {
   "cell_type": "code",
   "execution_count": 253,
   "id": "fb9fbda9-e8f7-48d9-a166-7df318b8e0b2",
   "metadata": {},
   "outputs": [
    {
     "data": {
      "text/plain": [
       "1"
      ]
     },
     "execution_count": 253,
     "metadata": {},
     "output_type": "execute_result"
    }
   ],
   "source": [
    "f.pop( )"
   ]
  },
  {
   "cell_type": "code",
   "execution_count": 255,
   "id": "d76df827-a999-4b8d-84b6-5de9a715eaa7",
   "metadata": {},
   "outputs": [
    {
     "data": {
      "text/plain": [
       "{3, 6, 9, 12, 15, 18, 21}"
      ]
     },
     "execution_count": 255,
     "metadata": {},
     "output_type": "execute_result"
    }
   ],
   "source": [
    "f"
   ]
  },
  {
   "cell_type": "code",
   "execution_count": 259,
   "id": "8534d3de-37ff-48f2-b1e3-d62bb5325ce7",
   "metadata": {},
   "outputs": [
    {
     "data": {
      "text/plain": [
       "3"
      ]
     },
     "execution_count": 259,
     "metadata": {},
     "output_type": "execute_result"
    }
   ],
   "source": [
    "f.pop()"
   ]
  },
  {
   "cell_type": "code",
   "execution_count": 261,
   "id": "70855269-f9d3-41f2-9abf-dd03442a0020",
   "metadata": {},
   "outputs": [
    {
     "data": {
      "text/plain": [
       "{6, 9, 12, 15, 18, 21}"
      ]
     },
     "execution_count": 261,
     "metadata": {},
     "output_type": "execute_result"
    }
   ],
   "source": [
    "f"
   ]
  },
  {
   "cell_type": "code",
   "execution_count": 263,
   "id": "c0143fd7-a526-4589-9788-77abea4fbd40",
   "metadata": {},
   "outputs": [
    {
     "data": {
      "text/plain": [
       "{12, 14, 16, 18, 20}"
      ]
     },
     "execution_count": 263,
     "metadata": {},
     "output_type": "execute_result"
    }
   ],
   "source": [
    "a"
   ]
  },
  {
   "cell_type": "code",
   "execution_count": 269,
   "id": "85b0eeaf-3ce5-437b-8e19-f35c7c2a5251",
   "metadata": {},
   "outputs": [],
   "source": [
    "f.remove(6)"
   ]
  },
  {
   "cell_type": "code",
   "execution_count": 271,
   "id": "5fc57f86-c9bb-4dc1-936f-cb5f10b57bb2",
   "metadata": {},
   "outputs": [
    {
     "data": {
      "text/plain": [
       "{9, 12, 15, 18, 21}"
      ]
     },
     "execution_count": 271,
     "metadata": {},
     "output_type": "execute_result"
    }
   ],
   "source": [
    "f"
   ]
  },
  {
   "cell_type": "code",
   "execution_count": 273,
   "id": "54097bb5-490c-4254-bcd7-76f29463e97c",
   "metadata": {},
   "outputs": [
    {
     "data": {
      "text/plain": [
       "{2, 4, 6, 8, 10, 12, 14, 16, 18, 20}"
      ]
     },
     "execution_count": 273,
     "metadata": {},
     "output_type": "execute_result"
    }
   ],
   "source": [
    "g"
   ]
  },
  {
   "cell_type": "code",
   "execution_count": 275,
   "id": "f1c59b4d-c9cc-40a8-9665-af3a1186a4ee",
   "metadata": {},
   "outputs": [],
   "source": [
    "g.remove(8)"
   ]
  },
  {
   "cell_type": "code",
   "execution_count": 277,
   "id": "f3ba29ea-8838-4eac-b426-6938fa64416c",
   "metadata": {},
   "outputs": [
    {
     "data": {
      "text/plain": [
       "{2, 4, 6, 10, 12, 14, 16, 18, 20}"
      ]
     },
     "execution_count": 277,
     "metadata": {},
     "output_type": "execute_result"
    }
   ],
   "source": [
    "g"
   ]
  },
  {
   "cell_type": "code",
   "execution_count": 279,
   "id": "67da12ee-9756-4a1a-9f7b-6b8e0abb3c6e",
   "metadata": {},
   "outputs": [
    {
     "data": {
      "text/plain": [
       "{5, 7, 12}"
      ]
     },
     "execution_count": 279,
     "metadata": {},
     "output_type": "execute_result"
    }
   ],
   "source": [
    "d"
   ]
  },
  {
   "cell_type": "code",
   "execution_count": 281,
   "id": "f1837ec4-8cba-4476-9a86-500d1da3ca3a",
   "metadata": {},
   "outputs": [],
   "source": [
    "d.remove(12)"
   ]
  },
  {
   "cell_type": "code",
   "execution_count": 283,
   "id": "ad50eecb-a44d-4a06-98fa-dd733f31cbf1",
   "metadata": {},
   "outputs": [
    {
     "data": {
      "text/plain": [
       "{5, 7}"
      ]
     },
     "execution_count": 283,
     "metadata": {},
     "output_type": "execute_result"
    }
   ],
   "source": [
    "d"
   ]
  },
  {
   "cell_type": "code",
   "execution_count": 285,
   "id": "fb659e25-3a9f-4945-86e0-fed65d4e752c",
   "metadata": {},
   "outputs": [
    {
     "data": {
      "text/plain": [
       "{1, 3, 6, 9}"
      ]
     },
     "execution_count": 285,
     "metadata": {},
     "output_type": "execute_result"
    }
   ],
   "source": [
    "e"
   ]
  },
  {
   "cell_type": "code",
   "execution_count": 292,
   "id": "7d611c00-cfa9-4402-a9a0-e411820ee8f9",
   "metadata": {},
   "outputs": [
    {
     "data": {
      "text/plain": [
       "{10, 13}"
      ]
     },
     "execution_count": 292,
     "metadata": {},
     "output_type": "execute_result"
    }
   ],
   "source": [
    "c"
   ]
  },
  {
   "cell_type": "code",
   "execution_count": 300,
   "id": "71e6df0d-cf2b-43c7-bd83-de691e3c73a1",
   "metadata": {},
   "outputs": [
    {
     "name": "stdout",
     "output_type": "stream",
     "text": [
      "{9, 12, 15, 18, 21}\n",
      "{2, 4, 6, 10, 12, 14, 16, 18, 20}\n"
     ]
    }
   ],
   "source": [
    "print(f)\n",
    "print(g)"
   ]
  },
  {
   "cell_type": "code",
   "execution_count": 302,
   "id": "c53702a3-b64e-432b-950b-364299dd4113",
   "metadata": {},
   "outputs": [
    {
     "data": {
      "text/plain": [
       "{2, 4, 6, 9, 10, 12, 14, 15, 16, 18, 20, 21}"
      ]
     },
     "execution_count": 302,
     "metadata": {},
     "output_type": "execute_result"
    }
   ],
   "source": [
    "f.union(g)"
   ]
  },
  {
   "cell_type": "code",
   "execution_count": 304,
   "id": "09692750-0d47-459f-984b-0d94c1c34ba2",
   "metadata": {},
   "outputs": [
    {
     "name": "stdout",
     "output_type": "stream",
     "text": [
      "{1, 3, 6, 9}\n",
      "{10, 13}\n"
     ]
    }
   ],
   "source": [
    "print(e)\n",
    "print(c)"
   ]
  },
  {
   "cell_type": "code",
   "execution_count": 306,
   "id": "ac372e6e-8aaa-4dbe-869d-26c11ea88e5b",
   "metadata": {},
   "outputs": [
    {
     "data": {
      "text/plain": [
       "{1, 3, 6, 9, 10, 13}"
      ]
     },
     "execution_count": 306,
     "metadata": {},
     "output_type": "execute_result"
    }
   ],
   "source": [
    "e.union(c)"
   ]
  },
  {
   "cell_type": "code",
   "execution_count": 308,
   "id": "6a79f01e-2b74-4eb6-aa38-1f2d292aec6f",
   "metadata": {},
   "outputs": [
    {
     "data": {
      "text/plain": [
       "{9, 12, 15, 18, 21}"
      ]
     },
     "execution_count": 308,
     "metadata": {},
     "output_type": "execute_result"
    }
   ],
   "source": [
    "f"
   ]
  },
  {
   "cell_type": "code",
   "execution_count": 312,
   "id": "9218ca0e-283e-46d9-9e49-7c1fdb58e124",
   "metadata": {},
   "outputs": [],
   "source": [
    "f.update(c)"
   ]
  },
  {
   "cell_type": "code",
   "execution_count": 314,
   "id": "769cadce-2eac-4bb4-803b-de7f52575c01",
   "metadata": {},
   "outputs": [
    {
     "data": {
      "text/plain": [
       "{9, 10, 12, 13, 15, 18, 21}"
      ]
     },
     "execution_count": 314,
     "metadata": {},
     "output_type": "execute_result"
    }
   ],
   "source": [
    "f"
   ]
  },
  {
   "cell_type": "code",
   "execution_count": 316,
   "id": "df8b875d-c4ff-4d74-a95c-16341a4c9572",
   "metadata": {},
   "outputs": [
    {
     "data": {
      "text/plain": [
       "{10, 13}"
      ]
     },
     "execution_count": 316,
     "metadata": {},
     "output_type": "execute_result"
    }
   ],
   "source": [
    "c"
   ]
  },
  {
   "cell_type": "code",
   "execution_count": 318,
   "id": "524d9850-7b0d-44b8-b7e7-4381c552152a",
   "metadata": {},
   "outputs": [],
   "source": [
    "c.update(f)"
   ]
  },
  {
   "cell_type": "code",
   "execution_count": 320,
   "id": "232ee54c-31b1-4b2c-8c62-3b15eb0acd98",
   "metadata": {},
   "outputs": [
    {
     "data": {
      "text/plain": [
       "{9, 10, 12, 13, 15, 18, 21}"
      ]
     },
     "execution_count": 320,
     "metadata": {},
     "output_type": "execute_result"
    }
   ],
   "source": [
    "c"
   ]
  },
  {
   "cell_type": "code",
   "execution_count": 322,
   "id": "6f003fa6-3a55-460c-8980-e7cd5b58af1d",
   "metadata": {},
   "outputs": [
    {
     "data": {
      "text/plain": [
       "{9, 10, 12, 13, 15, 18, 21}"
      ]
     },
     "execution_count": 322,
     "metadata": {},
     "output_type": "execute_result"
    }
   ],
   "source": [
    "f"
   ]
  },
  {
   "cell_type": "code",
   "execution_count": 327,
   "id": "8ff98510-8d31-450c-8a67-402e7db53074",
   "metadata": {},
   "outputs": [
    {
     "data": {
      "text/plain": [
       "{10, 15, 20, 25, 30, 35, 40}"
      ]
     },
     "execution_count": 327,
     "metadata": {},
     "output_type": "execute_result"
    }
   ],
   "source": [
    "x = {10,15,20,25,30,35,40}\n",
    "x"
   ]
  },
  {
   "cell_type": "code",
   "execution_count": 329,
   "id": "7df3385e-e3b4-4d4e-a059-6467d1746794",
   "metadata": {},
   "outputs": [
    {
     "data": {
      "text/plain": [
       "{10, 20, 30, 40}"
      ]
     },
     "execution_count": 329,
     "metadata": {},
     "output_type": "execute_result"
    }
   ],
   "source": [
    "y = {10,20,30,40}\n",
    "y"
   ]
  },
  {
   "cell_type": "code",
   "execution_count": 331,
   "id": "03ea77c3-314f-4121-bf81-07b999c3c4ca",
   "metadata": {},
   "outputs": [
    {
     "data": {
      "text/plain": [
       "{1, 3, 5, 6, 7, 9}"
      ]
     },
     "execution_count": 331,
     "metadata": {},
     "output_type": "execute_result"
    }
   ],
   "source": [
    "z ={1,3,6,9,7,5}\n",
    "z"
   ]
  },
  {
   "cell_type": "code",
   "execution_count": 333,
   "id": "3103344f-9050-4733-806e-77ecff596e02",
   "metadata": {},
   "outputs": [
    {
     "data": {
      "text/plain": [
       "True"
      ]
     },
     "execution_count": 333,
     "metadata": {},
     "output_type": "execute_result"
    }
   ],
   "source": [
    "x.issuperset(y)"
   ]
  },
  {
   "cell_type": "code",
   "execution_count": 335,
   "id": "e824c30a-42de-4014-98e4-cc77e13d8e6f",
   "metadata": {},
   "outputs": [
    {
     "data": {
      "text/plain": [
       "False"
      ]
     },
     "execution_count": 335,
     "metadata": {},
     "output_type": "execute_result"
    }
   ],
   "source": [
    "y.issuperset(x)"
   ]
  },
  {
   "cell_type": "code",
   "execution_count": 337,
   "id": "4c645b4d-eb0b-4bb7-86ed-742303909a01",
   "metadata": {},
   "outputs": [
    {
     "data": {
      "text/plain": [
       "False"
      ]
     },
     "execution_count": 337,
     "metadata": {},
     "output_type": "execute_result"
    }
   ],
   "source": [
    "x.issubset(y)"
   ]
  },
  {
   "cell_type": "code",
   "execution_count": 339,
   "id": "35c9e29a-680d-4bc5-9cbc-3550de8640e8",
   "metadata": {},
   "outputs": [
    {
     "data": {
      "text/plain": [
       "True"
      ]
     },
     "execution_count": 339,
     "metadata": {},
     "output_type": "execute_result"
    }
   ],
   "source": [
    "y.issubset(x)"
   ]
  },
  {
   "cell_type": "code",
   "execution_count": 341,
   "id": "f9aee99f-dfb3-4139-abff-8d49d05801c6",
   "metadata": {},
   "outputs": [
    {
     "data": {
      "text/plain": [
       "False"
      ]
     },
     "execution_count": 341,
     "metadata": {},
     "output_type": "execute_result"
    }
   ],
   "source": [
    "y.issuperset(z)"
   ]
  },
  {
   "cell_type": "code",
   "execution_count": 343,
   "id": "61c7cfc8-b7fc-4100-b16d-26eefc7b1f51",
   "metadata": {},
   "outputs": [
    {
     "data": {
      "text/plain": [
       "False"
      ]
     },
     "execution_count": 343,
     "metadata": {},
     "output_type": "execute_result"
    }
   ],
   "source": [
    "z.issubset(y)"
   ]
  },
  {
   "cell_type": "code",
   "execution_count": 345,
   "id": "077d5661-c496-45f7-b0e6-5c880aa4f57a",
   "metadata": {},
   "outputs": [
    {
     "data": {
      "text/plain": [
       "{1, 2, 3, 4}"
      ]
     },
     "execution_count": 345,
     "metadata": {},
     "output_type": "execute_result"
    }
   ],
   "source": [
    "x1 = {1,2,3,4}\n",
    "x1"
   ]
  },
  {
   "cell_type": "code",
   "execution_count": 354,
   "id": "9fda0833-c546-486d-8f09-75bf502949a4",
   "metadata": {},
   "outputs": [
    {
     "data": {
      "text/plain": [
       "{1, 2, 3, 4}"
      ]
     },
     "execution_count": 354,
     "metadata": {},
     "output_type": "execute_result"
    }
   ],
   "source": [
    "y1 = {1,2,3,4}\n",
    "y1"
   ]
  },
  {
   "cell_type": "code",
   "execution_count": 356,
   "id": "108a4779-1ad1-449a-9932-1272d3a33760",
   "metadata": {},
   "outputs": [
    {
     "data": {
      "text/plain": [
       "False"
      ]
     },
     "execution_count": 356,
     "metadata": {},
     "output_type": "execute_result"
    }
   ],
   "source": [
    "x1.isdisjoint(y1)"
   ]
  },
  {
   "cell_type": "code",
   "execution_count": null,
   "id": "f95b36c9-baf6-46fb-9120-6094f7e42d5d",
   "metadata": {},
   "outputs": [],
   "source": []
  }
 ],
 "metadata": {
  "kernelspec": {
   "display_name": "Python 3 (ipykernel)",
   "language": "python",
   "name": "python3"
  },
  "language_info": {
   "codemirror_mode": {
    "name": "ipython",
    "version": 3
   },
   "file_extension": ".py",
   "mimetype": "text/x-python",
   "name": "python",
   "nbconvert_exporter": "python",
   "pygments_lexer": "ipython3",
   "version": "3.12.7"
  }
 },
 "nbformat": 4,
 "nbformat_minor": 5
}
