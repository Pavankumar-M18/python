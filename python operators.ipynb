{
 "cells": [
  {
   "cell_type": "markdown",
   "id": "bd4b574b-c13f-48f2-a957-5f173629a428",
   "metadata": {},
   "source": [
    "# Python Operators"
   ]
  },
  {
   "cell_type": "markdown",
   "id": "7279003a-0577-473b-9e3e-6ef0c2eb5f40",
   "metadata": {},
   "source": [
    "# arithmetic operators"
   ]
  },
  {
   "cell_type": "code",
   "execution_count": 8,
   "id": "f85f756a-81f8-4380-8e17-1a80b7aee975",
   "metadata": {},
   "outputs": [],
   "source": [
    "a,b = 10,20"
   ]
  },
  {
   "cell_type": "code",
   "execution_count": 10,
   "id": "2dcceeb4-ca60-4a4d-90cb-99e622071760",
   "metadata": {},
   "outputs": [
    {
     "name": "stdout",
     "output_type": "stream",
     "text": [
      "10\n",
      "20\n"
     ]
    }
   ],
   "source": [
    "print(a)\n",
    "print(b)"
   ]
  },
  {
   "cell_type": "code",
   "execution_count": 12,
   "id": "941f7dba-8125-4212-8e45-d3d4763a8dfe",
   "metadata": {},
   "outputs": [
    {
     "data": {
      "text/plain": [
       "30"
      ]
     },
     "execution_count": 12,
     "metadata": {},
     "output_type": "execute_result"
    }
   ],
   "source": [
    "a + b"
   ]
  },
  {
   "cell_type": "code",
   "execution_count": 14,
   "id": "4eb055ef-cfd4-4800-a558-87a6535635d3",
   "metadata": {},
   "outputs": [
    {
     "data": {
      "text/plain": [
       "-10"
      ]
     },
     "execution_count": 14,
     "metadata": {},
     "output_type": "execute_result"
    }
   ],
   "source": [
    "a - b"
   ]
  },
  {
   "cell_type": "code",
   "execution_count": 16,
   "id": "5cb45fb1-243f-4454-a509-20854b3fc9aa",
   "metadata": {},
   "outputs": [
    {
     "data": {
      "text/plain": [
       "200"
      ]
     },
     "execution_count": 16,
     "metadata": {},
     "output_type": "execute_result"
    }
   ],
   "source": [
    "a * b"
   ]
  },
  {
   "cell_type": "code",
   "execution_count": 18,
   "id": "ff92c9b0-2fb6-463d-944c-87a6cb01a303",
   "metadata": {},
   "outputs": [
    {
     "data": {
      "text/plain": [
       "100000000000000000000"
      ]
     },
     "execution_count": 18,
     "metadata": {},
     "output_type": "execute_result"
    }
   ],
   "source": [
    "a ** b"
   ]
  },
  {
   "cell_type": "code",
   "execution_count": 20,
   "id": "6d2c1216-4078-463c-84a6-c48f8c188e1b",
   "metadata": {},
   "outputs": [
    {
     "data": {
      "text/plain": [
       "0.5"
      ]
     },
     "execution_count": 20,
     "metadata": {},
     "output_type": "execute_result"
    }
   ],
   "source": [
    "a / b"
   ]
  },
  {
   "cell_type": "code",
   "execution_count": 22,
   "id": "e7f35c4a-702b-404a-a7d9-e9c5986e2e14",
   "metadata": {},
   "outputs": [
    {
     "data": {
      "text/plain": [
       "0"
      ]
     },
     "execution_count": 22,
     "metadata": {},
     "output_type": "execute_result"
    }
   ],
   "source": [
    "a // b"
   ]
  },
  {
   "cell_type": "code",
   "execution_count": 24,
   "id": "601b0c3b-f148-4b03-9beb-3d8bb6f8db6b",
   "metadata": {},
   "outputs": [
    {
     "data": {
      "text/plain": [
       "10"
      ]
     },
     "execution_count": 24,
     "metadata": {},
     "output_type": "execute_result"
    }
   ],
   "source": [
    "a % b"
   ]
  },
  {
   "cell_type": "markdown",
   "id": "b75f3705-bfba-4e8b-ab47-f04845be3d56",
   "metadata": {},
   "source": [
    "# assaignment operators"
   ]
  },
  {
   "cell_type": "code",
   "execution_count": 43,
   "id": "1d0278b1-e356-4054-a4f0-8dfbef5df3fb",
   "metadata": {},
   "outputs": [],
   "source": [
    "g,h = 5,8"
   ]
  },
  {
   "cell_type": "code",
   "execution_count": 45,
   "id": "b87104dc-de0f-458d-a2c3-a2775beeda88",
   "metadata": {},
   "outputs": [
    {
     "name": "stdout",
     "output_type": "stream",
     "text": [
      "5\n",
      "8\n"
     ]
    }
   ],
   "source": [
    "print(g)\n",
    "print(h)"
   ]
  },
  {
   "cell_type": "code",
   "execution_count": 47,
   "id": "8af29494-49a9-4c11-a03c-3f9ace132afa",
   "metadata": {},
   "outputs": [
    {
     "data": {
      "text/plain": [
       "13"
      ]
     },
     "execution_count": 47,
     "metadata": {},
     "output_type": "execute_result"
    }
   ],
   "source": [
    "g += h\n",
    "g"
   ]
  },
  {
   "cell_type": "code",
   "execution_count": 49,
   "id": "e7b5e06d-bd07-4c0c-a04b-d7ddde983967",
   "metadata": {},
   "outputs": [
    {
     "data": {
      "text/plain": [
       "5"
      ]
     },
     "execution_count": 49,
     "metadata": {},
     "output_type": "execute_result"
    }
   ],
   "source": [
    "g -= h\n",
    "g"
   ]
  },
  {
   "cell_type": "code",
   "execution_count": 51,
   "id": "58423aa4-2c78-4b75-8a12-71b998ab7eaa",
   "metadata": {},
   "outputs": [
    {
     "data": {
      "text/plain": [
       "3"
      ]
     },
     "execution_count": 51,
     "metadata": {},
     "output_type": "execute_result"
    }
   ],
   "source": [
    "h -= g\n",
    "h"
   ]
  },
  {
   "cell_type": "code",
   "execution_count": 53,
   "id": "b4bdf1f2-6cb2-409a-9a6c-b401cf4016bb",
   "metadata": {},
   "outputs": [
    {
     "data": {
      "text/plain": [
       "8"
      ]
     },
     "execution_count": 53,
     "metadata": {},
     "output_type": "execute_result"
    }
   ],
   "source": [
    "h += g\n",
    "h"
   ]
  },
  {
   "cell_type": "code",
   "execution_count": 55,
   "id": "8f4a457f-453a-4318-829e-e21a10271e94",
   "metadata": {},
   "outputs": [
    {
     "data": {
      "text/plain": [
       "5"
      ]
     },
     "execution_count": 55,
     "metadata": {},
     "output_type": "execute_result"
    }
   ],
   "source": [
    "g"
   ]
  },
  {
   "cell_type": "code",
   "execution_count": 57,
   "id": "192508d5-ebd9-4772-8ea0-b20498e5d2af",
   "metadata": {},
   "outputs": [
    {
     "data": {
      "text/plain": [
       "8"
      ]
     },
     "execution_count": 57,
     "metadata": {},
     "output_type": "execute_result"
    }
   ],
   "source": [
    "h"
   ]
  },
  {
   "cell_type": "code",
   "execution_count": 59,
   "id": "fed74451-c7d3-41d3-8697-323a1dcce4dc",
   "metadata": {},
   "outputs": [
    {
     "data": {
      "text/plain": [
       "40"
      ]
     },
     "execution_count": 59,
     "metadata": {},
     "output_type": "execute_result"
    }
   ],
   "source": [
    "g *= h\n",
    "g"
   ]
  },
  {
   "cell_type": "code",
   "execution_count": 61,
   "id": "2fe5f681-6d7c-4da4-8c09-818a8db57132",
   "metadata": {},
   "outputs": [
    {
     "data": {
      "text/plain": [
       "320"
      ]
     },
     "execution_count": 61,
     "metadata": {},
     "output_type": "execute_result"
    }
   ],
   "source": [
    "h *= g\n",
    "h"
   ]
  },
  {
   "cell_type": "code",
   "execution_count": 63,
   "id": "f3a316e3-6d11-4f31-a76c-bce64c4f4d3c",
   "metadata": {},
   "outputs": [
    {
     "data": {
      "text/plain": [
       "0.125"
      ]
     },
     "execution_count": 63,
     "metadata": {},
     "output_type": "execute_result"
    }
   ],
   "source": [
    "g /= h\n",
    "g"
   ]
  },
  {
   "cell_type": "code",
   "execution_count": 65,
   "id": "a07e9cec-bb1b-487e-8db8-839a2d7268fa",
   "metadata": {},
   "outputs": [
    {
     "data": {
      "text/plain": [
       "2560.0"
      ]
     },
     "execution_count": 65,
     "metadata": {},
     "output_type": "execute_result"
    }
   ],
   "source": [
    "h /= g\n",
    "h"
   ]
  },
  {
   "cell_type": "code",
   "execution_count": 67,
   "id": "4106b782-d64b-44af-be89-37695d4fa66b",
   "metadata": {},
   "outputs": [
    {
     "data": {
      "text/plain": [
       "0.125"
      ]
     },
     "execution_count": 67,
     "metadata": {},
     "output_type": "execute_result"
    }
   ],
   "source": [
    "g %= h\n",
    "g"
   ]
  },
  {
   "cell_type": "code",
   "execution_count": 69,
   "id": "fb0338af-91b5-47f1-8ec8-af4c23c0e0bc",
   "metadata": {},
   "outputs": [
    {
     "data": {
      "text/plain": [
       "0.0"
      ]
     },
     "execution_count": 69,
     "metadata": {},
     "output_type": "execute_result"
    }
   ],
   "source": [
    "h %= g\n",
    "h"
   ]
  },
  {
   "cell_type": "markdown",
   "id": "94abac2a-cdba-4f86-9adc-3c03bd1e25c1",
   "metadata": {},
   "source": [
    "# relational operator"
   ]
  },
  {
   "cell_type": "code",
   "execution_count": 2,
   "id": "c08bcdc7-ea4e-4d55-96ae-4a6e1d5e86c2",
   "metadata": {},
   "outputs": [],
   "source": [
    "x,y = 10,20"
   ]
  },
  {
   "cell_type": "code",
   "execution_count": 4,
   "id": "1437dc66-4c5c-4a03-bc5f-6c5863a9c521",
   "metadata": {},
   "outputs": [
    {
     "name": "stdout",
     "output_type": "stream",
     "text": [
      "10\n",
      "20\n"
     ]
    }
   ],
   "source": [
    "print(x)\n",
    "print(y)"
   ]
  },
  {
   "cell_type": "code",
   "execution_count": 6,
   "id": "6f8e8bf3-4949-4411-b51c-77ea0ae0979c",
   "metadata": {},
   "outputs": [
    {
     "data": {
      "text/plain": [
       "False"
      ]
     },
     "execution_count": 6,
     "metadata": {},
     "output_type": "execute_result"
    }
   ],
   "source": [
    "x > y"
   ]
  },
  {
   "cell_type": "code",
   "execution_count": 8,
   "id": "ea6a039d-049c-4508-b5f9-629ff5729cbd",
   "metadata": {},
   "outputs": [
    {
     "data": {
      "text/plain": [
       "True"
      ]
     },
     "execution_count": 8,
     "metadata": {},
     "output_type": "execute_result"
    }
   ],
   "source": [
    "x < y"
   ]
  },
  {
   "cell_type": "code",
   "execution_count": 11,
   "id": "e300dcf7-959d-4f3a-b371-70d9ce8b4ea5",
   "metadata": {},
   "outputs": [
    {
     "data": {
      "text/plain": [
       "False"
      ]
     },
     "execution_count": 11,
     "metadata": {},
     "output_type": "execute_result"
    }
   ],
   "source": [
    "x >= y"
   ]
  },
  {
   "cell_type": "code",
   "execution_count": 13,
   "id": "8f46f006-8ba5-461b-b62b-0bf83214233f",
   "metadata": {},
   "outputs": [
    {
     "data": {
      "text/plain": [
       "True"
      ]
     },
     "execution_count": 13,
     "metadata": {},
     "output_type": "execute_result"
    }
   ],
   "source": [
    "x <= y"
   ]
  },
  {
   "cell_type": "code",
   "execution_count": 15,
   "id": "a7c9637a-c883-4323-8816-049fac168c8a",
   "metadata": {},
   "outputs": [
    {
     "data": {
      "text/plain": [
       "False"
      ]
     },
     "execution_count": 15,
     "metadata": {},
     "output_type": "execute_result"
    }
   ],
   "source": [
    "y <= x"
   ]
  },
  {
   "cell_type": "code",
   "execution_count": 17,
   "id": "95262d9f-7027-4b4c-8f2b-fb7806da975c",
   "metadata": {},
   "outputs": [
    {
     "data": {
      "text/plain": [
       "True"
      ]
     },
     "execution_count": 17,
     "metadata": {},
     "output_type": "execute_result"
    }
   ],
   "source": [
    "y >= y"
   ]
  },
  {
   "cell_type": "code",
   "execution_count": 19,
   "id": "8bb143e2-c718-4d7f-b32b-b48f5b425168",
   "metadata": {},
   "outputs": [
    {
     "data": {
      "text/plain": [
       "True"
      ]
     },
     "execution_count": 19,
     "metadata": {},
     "output_type": "execute_result"
    }
   ],
   "source": [
    "x != y"
   ]
  },
  {
   "cell_type": "code",
   "execution_count": 21,
   "id": "f9ec21ef-6317-42e0-be4f-cb7967cdb7e4",
   "metadata": {},
   "outputs": [
    {
     "data": {
      "text/plain": [
       "False"
      ]
     },
     "execution_count": 21,
     "metadata": {},
     "output_type": "execute_result"
    }
   ],
   "source": [
    "x == y"
   ]
  },
  {
   "cell_type": "code",
   "execution_count": 23,
   "id": "131b9d64-95a1-454f-ab07-c86f2eb77884",
   "metadata": {},
   "outputs": [
    {
     "data": {
      "text/plain": [
       "False"
      ]
     },
     "execution_count": 23,
     "metadata": {},
     "output_type": "execute_result"
    }
   ],
   "source": [
    "y == x"
   ]
  },
  {
   "cell_type": "markdown",
   "id": "a172cfee-b3a7-4e9c-85bc-446353fabb0c",
   "metadata": {},
   "source": [
    "# Logical operator"
   ]
  },
  {
   "cell_type": "code",
   "execution_count": 72,
   "id": "9919dd18-0828-4e94-83ca-0ea018095909",
   "metadata": {},
   "outputs": [],
   "source": [
    "a,b = 5,7"
   ]
  },
  {
   "cell_type": "code",
   "execution_count": 74,
   "id": "2035b11f-b2b3-4596-81b6-154418a40c5b",
   "metadata": {},
   "outputs": [
    {
     "data": {
      "text/plain": [
       "5"
      ]
     },
     "execution_count": 74,
     "metadata": {},
     "output_type": "execute_result"
    }
   ],
   "source": [
    "a"
   ]
  },
  {
   "cell_type": "code",
   "execution_count": 76,
   "id": "dffb5ac8-cdad-4edc-989c-5a34ac9f6f30",
   "metadata": {},
   "outputs": [
    {
     "data": {
      "text/plain": [
       "7"
      ]
     },
     "execution_count": 76,
     "metadata": {},
     "output_type": "execute_result"
    }
   ],
   "source": [
    "b"
   ]
  },
  {
   "cell_type": "code",
   "execution_count": 84,
   "id": "e4392eea-503a-433e-88f4-47080271fb2b",
   "metadata": {},
   "outputs": [
    {
     "data": {
      "text/plain": [
       "False"
      ]
     },
     "execution_count": 84,
     "metadata": {},
     "output_type": "execute_result"
    }
   ],
   "source": [
    "a > b and b > a                                # false,true ==> 0,1 ==> 0 ==> false"
   ]
  },
  {
   "cell_type": "code",
   "execution_count": 86,
   "id": "969b7eab-1b78-49dc-ab44-d26d79aa7b9f",
   "metadata": {},
   "outputs": [
    {
     "data": {
      "text/plain": [
       "True"
      ]
     },
     "execution_count": 86,
     "metadata": {},
     "output_type": "execute_result"
    }
   ],
   "source": [
    "a < b and b > a                              # true,true ==> 1,1 ==> 1 ==> true"
   ]
  },
  {
   "cell_type": "code",
   "execution_count": 100,
   "id": "76db4bba-4534-4a19-9664-48dc64031442",
   "metadata": {},
   "outputs": [
    {
     "data": {
      "text/plain": [
       "False"
      ]
     },
     "execution_count": 100,
     "metadata": {},
     "output_type": "execute_result"
    }
   ],
   "source": [
    "a < 10 and b > 10                            # true,false ==> 1,0 ==> 0"
   ]
  },
  {
   "cell_type": "code",
   "execution_count": 98,
   "id": "d4e4c899-b7d9-4417-918f-ff1ce0729b74",
   "metadata": {},
   "outputs": [
    {
     "data": {
      "text/plain": [
       "False"
      ]
     },
     "execution_count": 98,
     "metadata": {},
     "output_type": "execute_result"
    }
   ],
   "source": [
    "a < 2 or b < a                              # false,false ==> 0,0 ==> 0"
   ]
  },
  {
   "cell_type": "code",
   "execution_count": 96,
   "id": "68d3a1c6-e1d5-4fc1-9179-103c7dd85248",
   "metadata": {},
   "outputs": [
    {
     "data": {
      "text/plain": [
       "True"
      ]
     },
     "execution_count": 96,
     "metadata": {},
     "output_type": "execute_result"
    }
   ],
   "source": [
    "a < 2 or b > 2                               # false,true ==> 0,1 ==> 1"
   ]
  },
  {
   "cell_type": "code",
   "execution_count": 102,
   "id": "873f57d3-c7be-4661-854c-eef8021509c8",
   "metadata": {},
   "outputs": [
    {
     "data": {
      "text/plain": [
       "False"
      ]
     },
     "execution_count": 102,
     "metadata": {},
     "output_type": "execute_result"
    }
   ],
   "source": [
    "a >= b and b > a                          # false,true ==>0,1==> 0"
   ]
  },
  {
   "cell_type": "code",
   "execution_count": 104,
   "id": "39dd073a-55fc-41bf-9344-69ac7ee5ca3b",
   "metadata": {},
   "outputs": [
    {
     "data": {
      "text/plain": [
       "True"
      ]
     },
     "execution_count": 104,
     "metadata": {},
     "output_type": "execute_result"
    }
   ],
   "source": [
    "a <= b and a != b                          # true,true ==> 1,1 ==> 1"
   ]
  }
 ],
 "metadata": {
  "kernelspec": {
   "display_name": "Python 3 (ipykernel)",
   "language": "python",
   "name": "python3"
  },
  "language_info": {
   "codemirror_mode": {
    "name": "ipython",
    "version": 3
   },
   "file_extension": ".py",
   "mimetype": "text/x-python",
   "name": "python",
   "nbconvert_exporter": "python",
   "pygments_lexer": "ipython3",
   "version": "3.12.7"
  }
 },
 "nbformat": 4,
 "nbformat_minor": 5
}
